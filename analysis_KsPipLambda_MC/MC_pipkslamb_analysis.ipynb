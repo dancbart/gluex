{
 "cells": [
  {
   "cell_type": "markdown",
   "metadata": {},
   "source": [
    "### Troubleshooting: Set working directory"
   ]
  },
  {
   "cell_type": "markdown",
   "metadata": {},
   "source": [
    "### Startup environment. Set global variables.  Define static cuts."
   ]
  },
  {
   "cell_type": "code",
   "execution_count": null,
   "metadata": {},
   "outputs": [],
   "source": [
    "# README: To use FSRoot in Jupyter Notebooks you need to be in a special container per  https://lan13005.github.io/PyAmpTools/intro.html#apptainer-usage\n",
    "\n",
    "# STEP 1: Open a terminal on ifarm\n",
    "\n",
    "# STEP 2: Initialize the container using this alias (defined here below)\n",
    "# $ fshell ######## --> This outputs a \"localhost\" URL, among other things.\n",
    "\n",
    "# STEP 3: Select your kernel in VS Code\n",
    "    # Open/create your Jupyter Notebook --> Select \"Open new Jupyter kernel\" --> copy & paste URL from STEP 2 --> press ENTER\n",
    "\n",
    "# Note: you can run this alias directly in a Jupyter Notebook cell with '!fshell'.  But it often crashes.  Just do it in a terminal.\n",
    "\n",
    "# Alias definition in STEP 2:\n",
    "# Add these lines to your shell configuration file (~/.cshrc for tcsh):\n",
    "# alias fshell 'apptainer exec --contain --writable-tmpfs -B /w/halld-scshelf2101/home/dbarton/gluex,/scratch --env BASH_ENV=/dev/null /w/halld-scshelf2101/lng/WORK/PyAmpTools9/pyamptools.sif bash -c \"source /etc/bash.bashrc; jupyter-lab --no-browser --port=8888; exec bash\"'"
   ]
  },
  {
   "cell_type": "code",
   "execution_count": 1,
   "metadata": {},
   "outputs": [
    {
     "name": "stdout",
     "output_type": "stream",
     "text": [
      "Welcome to JupyROOT 6.28/06\n",
      "atiSetup| jupyter-lab called python3.9\n",
      "\n",
      "------------------------------------------------\n",
      "atiSetup| MPI is disabled\n",
      "atiSetup| GPU is disabled\n",
      "------------------------------------------------\n",
      "\n",
      "\n",
      "atiSetup| Loading library libIUAmpTools.so ............  ON\n",
      "atiSetup| Loading library libAmpTools.so ..............  ON\n",
      "atiSetup| Loading library libAmpPlotter.so ............  ON\n",
      "atiSetup| Loading library libAmpsDataIO.so ............  ON\n",
      "atiSetup| Loading library libFSRoot.so ................  ON\n",
      "atiSetup| Loading library libAmpsGen.so ...............  OFF\n",
      "\n",
      "\n",
      "------------------------------------------------\n",
      "------------------------------------------------\n",
      "\n",
      "atiSetup| minor warning: Unable to alias omegapiAngles - doesn't exist under ROOT namespace\n",
      "atiSetup| minor warning: Unable to alias URtypes - doesn't exist under ROOT namespace\n",
      "atiSetup| minor warning: Unable to alias URConfig - doesn't exist under ROOT namespace\n",
      "atiSetup| minor warning: Unable to alias FSFitFunctions - doesn't exist under ROOT namespace\n",
      "atiSetup| minor warning: Unable to alias FSFitPrivate - doesn't exist under ROOT namespace\n"
     ]
    }
   ],
   "source": [
    "import ROOT\n",
    "from pyamptools import atiSetup\n",
    "import os\n",
    "os.chdir(\"/w/halld-scshelf2101/home/dbarton/gluex/analysis_KsPipLambda\")\n",
    "os.listdir()\n",
    "atiSetup.setup(globals(), use_fsroot=True)\n",
    "fileName = '/w/halld-scshelf2101/home/dbarton/gluex/files/data/pipkslamb/tree_pipkslamb__B4_M16_M18_FSflat.root' # full dataset (fall 2018)\n",
    "# fileName = '/w/halld-scshelf2101/home/dbarton/gluex/files/data/pipkslamb/tree_pipkslamb__B4_M16_M18_FSFlat_small.root' # smaller dataset (for testing)\n",
    "treeName = 'ntFSGlueX_100000000_1100'\n",
    "\n",
    "# USEFUL TUTORIAL: https://halldweb.jlab.org/DocDB/0055/005596/001/20220523_GlueX_AnWorkshop_Malte.pdf\n",
    "\n",
    "# CREATED ROOT FILE WITH FSROOT\n",
    "\n",
    "    # IMPORTANT: All this code depends on the using the correct indices for particles when passing values to functions.  The indices are set when 'flattening' a file by this flag: -mctag[MCExtras_MCDecayCode2_MCDecayCode1]\n",
    "\n",
    "    # To nderstand the indices, you can use the 'flatten' command in the terminal or refer to this documentation: https://github.com/remitche66/FSRoot/blob/master/Documentation/FSRoot.pdf (pg. 8).\n",
    "\n",
    "# FLATTENED USING:\n",
    "\n",
    "\n",
    "# REACTION: gamma p --> Ks pi+ Lambda\n",
    "# Kshort mass NOT constrained (flag M16)\n",
    "# Lambda mass NOT constrained (flag M18)\n",
    "\n",
    "# INDICES ASSIGNED BY 'flatten':\n",
    "# 1. DecayingLambda (0)   1a. Proton (1)   1b. PiMinus2 (2)\n",
    "# 2. DecayingKShort (3)   2a. PiPlus2 (4)   2b. PiMinus1 (5)\n",
    "# 3. PiPlus1 (6)\n",
    "# Note the indices are [1, 1a, 1b, etc.] not numbers in parentheses.\n",
    "\n",
    "# DEFINE VARIABLES CORRESPOONDING TO THE INDICES\n",
    "DecayingLambda = \"1\"\n",
    "Proton = \"1a\"\n",
    "PiMinus2 = \"1b\"\n",
    "DecayingKShort = \"2\"\n",
    "PiPlus2 = \"2a\"\n",
    "PiMinus1 = \"2b\"\n",
    "PiPlus1 = \"3\"\n",
    "\n",
    "# BASIC CUTS JUSTIN'S SURVEY\n",
    "# Unused shower E, target Z, MM^2, KinFitChi^2/DOF\n",
    "# Dominant background is: \n",
    "\n",
    "# DEFINE CUTS\n",
    "ROOT.FSCut.defineCut(\"chi2\",\"Chi2DOF\",\"0.0\",\"3.0\")\n",
    "ROOT.FSCut.defineCut(\"unusedE\",\"EnUnusedSh\",\"0.0\",\"0.1\") # UnusedEnergy (unused \"shower\"? energy)\n",
    "ROOT.FSCut.defineCut(\"unusedTracks\",\"NumUnusedTracks<1\") # No unused tracks\n",
    "ROOT.FSCut.defineCut(\"coherentPeak\",\"EnPB\",\"8.2\",\"8.8\") # Coherent peak: 8.2 < E_beam < 8.8\n",
    "# lambda cut\n",
    "ROOT.FSCut.defineCut(\"constrainLambda\",f\"MASS({Proton},{PiMinus2})\",\"1.1\",\"1.132\", \"1.08\", \"1.1\", \"1.132\", \"1.22\")\n",
    "\n",
    "# DEFINE INVARIANT MASSES\n",
    "# ROOT.FSCut.defineCut(\"constrainLambda\",\"\") # Start unconstrained, then try constraining Lambda\n",
    "# ROOT.FSCut.defineCut(\"lambdaMissingMass\",\"\") # \n",
    "# ROOT.FSCut.defineCut(\"sigma\") # cut on sigma(1385)\n",
    "\n",
    "# TO DO, KEVIN 2/7/2025.  Some plots to start out:\n",
    "# masses, momentum, chi2, RFdeltaT's, Dalitz plots, angle stuff\n",
    "# plot stuff in bins of t, and DeltaE, and t - t_min\n",
    "# what's the code to have a differential cross section?\n",
    "# total cross section?\n",
    "\n",
    "# TOTAL UNCERTAINTY = \n",
    "# stastical uncertainties AND\n",
    "# systematic uncertainties\n",
    "\n",
    "# CORRECTIONS:\n",
    "# acceptance corrections\n",
    "# efficiency corrections\n",
    "# radiative corrections?\n",
    "\n",
    "# ??? what meant by saying \"need to do systematic studies\"?\n",
    "\n",
    "\n",
    "# what's the code to find our what waves we have, s, p, d, f\n",
    "# what is the code to find out what the helicity is\n",
    "# Other interesting things to look at:\n",
    "# - Dalitz plot\n",
    "# - 3D plots\n",
    "# - 2D projections\n",
    "# - 1D projections\n",
    "# - 3D projections\n",
    "\n",
    "# PLOT:\n",
    "# cos_HelicityFrame vs. mass.\n",
    "\n",
    "# sideband subtraction\n",
    "# RF sideband subtraction\n",
    "\n",
    "# combinatorics\n",
    "\n",
    "# IS THIS WHAT'S KNOWN AS STATISTICAL UNCERTAINTY?\n",
    "# hybrid method (bestChi2 and?)\n",
    "# kinematic fit?\n",
    "\n",
    "# LAMBDA MISSING MASS\n",
    "# lambda missing mass\n",
    "# lambda missing mass squared\n",
    "\n",
    "# time of flight cut\n",
    "\n",
    "# ??? How does the kinematic fit work?\n",
    "# ??? how does the calorimeter work?  Like what is measured?  outgoing photons, electrons?\n",
    "\n",
    "# what is the \"physical\" thing we learn from poles, ie. the imaginary part of some amplitude?\n",
    "# what is an Argand plot?\n",
    "\n",
    "# TO ADD TOGETHER A BUNCH OF ROOT FILES:\n",
    "# vim /work/halld/home/ksaldan/fcal_timing/runDSelector.py\n",
    "# vim /work/halld/home/ksaldan/fcal_timing/run_DSelector_TEMPLATE.sh\n",
    "\n",
    "#  2/21/2025 CM notes:\n",
    "\n",
    "# \n",
    "\n"
   ]
  },
  {
   "cell_type": "markdown",
   "metadata": {},
   "source": [
    "### List contents of ROOT file"
   ]
  },
  {
   "cell_type": "code",
   "execution_count": null,
   "metadata": {},
   "outputs": [],
   "source": [
    "def list_trees_and_branches(fileName):\n",
    "    file = ROOT.TFile.Open(fileName)\n",
    "    # Loop over all keys in the file\n",
    "    for key in file.GetListOfKeys():\n",
    "        obj = key.ReadObj()\n",
    "        # Check if the object is a tree\n",
    "        if isinstance(obj, ROOT.TTree):\n",
    "            tree = obj\n",
    "            print(f\"Tree Name: {tree.GetName()}\")\n",
    "            print(\"Branches:\")\n",
    "            # List all branches in the tree\n",
    "            branches = tree.GetListOfBranches()\n",
    "            for branch in branches:\n",
    "                print(f\" - {branch.GetName()}\")\n",
    "\n",
    "    # Close the file\n",
    "    file.Close()\n",
    "\n",
    "list_trees_and_branches(fileName)\n"
   ]
  },
  {
   "cell_type": "markdown",
   "metadata": {},
   "source": [
    "### Chi2/DOF - 2D"
   ]
  },
  {
   "cell_type": "code",
   "execution_count": null,
   "metadata": {},
   "outputs": [],
   "source": [
    "from IPython.display import Image, display\n",
    "latex = ROOT.TLatex()\n",
    "\n",
    "plotTitle = 'Chi2/DOF'\n",
    "axisLabel = 'Chi2/DOF'\n",
    "\n",
    "# INDICES ASSIGNED BY 'flatten':\n",
    "# 1. DecayingLambda (0)   1a. Proton (1)   1b. PiMinus2 (2)\n",
    "# 2. DecayingKShort (3)   2a. PiPlus2 (4)   2b. PiMinus1 (5)\n",
    "# 3. PiPlus1 (6)\n",
    "\n",
    "def plot_hist():\n",
    "\n",
    "    canvas = ROOT.TCanvas('c', 'c', 800, 600)\n",
    "\n",
    "    h1 = ROOT.FSHistogram.getTH2F(fileName, treeName, \"Chi2DOF:Event\", \"(60,0.0,155000000.0,60,0.0,10.0)\", \"\")\n",
    "\n",
    "    h1.SetTitle(plotTitle)\n",
    "    h1.SetStats(False)\n",
    "    # h1.SetLineColor(ROOT.kBlue)\n",
    "    h1.GetXaxis().SetTitle(axisLabel)\n",
    "    h1.GetYaxis().SetTitle('Events')\n",
    "    h1.Draw('colz')\n",
    "    \n",
    "    legend1 = ROOT.TLegend(0.60, 0.80, 0.90, 0.90) # x_left, y_bottom, x_right, y_top\n",
    "    legend1.AddEntry(h1, plotTitle + ' no cuts', 'l')\n",
    "    legend1.Draw('same')\n",
    "\n",
    "    img_path = 'plots/pipkslamb_Chi2DOF-Event'\n",
    "    canvas.SaveAs(img_path + '.pdf')\n",
    "    canvas.SaveAs(img_path + '.png')\n",
    "    canvas.Close()\n",
    "    display(Image(filename=img_path + '.png'))\n",
    "    os.remove(img_path + '.png')\n",
    "\n",
    "plot_hist()"
   ]
  },
  {
   "cell_type": "markdown",
   "metadata": {},
   "source": [
    "### Chi2/DOF 1D"
   ]
  },
  {
   "cell_type": "code",
   "execution_count": null,
   "metadata": {},
   "outputs": [],
   "source": [
    "from IPython.display import Image, display\n",
    "latex = ROOT.TLatex()\n",
    "\n",
    "plotTitle = 'Chi2/DOF'\n",
    "axisLabel = 'Chi2/DOF'\n",
    "\n",
    "# INDICES ASSIGNED BY 'flatten':\n",
    "# 1. DecayingLambda (0)   1a. Proton (1)   1b. PiMinus2 (2)\n",
    "# 2. DecayingKShort (3)   2a. PiPlus2 (4)   2b. PiMinus1 (5)\n",
    "# 3. PiPlus1 (6)\n",
    "\n",
    "def plot_hist():\n",
    "\n",
    "    canvas = ROOT.TCanvas('c', 'c', 800, 600)\n",
    "\n",
    "    h1 = ROOT.FSHistogram.getTH1F(fileName, treeName, \"Chi2DOF\", \"(60,0.0,16.0)\", \"\")\n",
    "\n",
    "    h1.SetTitle(plotTitle)\n",
    "    h1.SetStats(False)\n",
    "    h1.SetLineColor(ROOT.kBlue)\n",
    "    h1.GetXaxis().SetTitle(axisLabel)\n",
    "    h1.GetYaxis().SetTitle('Events')\n",
    "    h1.Draw()\n",
    "    \n",
    "    legend1 = ROOT.TLegend(0.60, 0.80, 0.90, 0.90) # x_left, y_bottom, x_right, y_top\n",
    "    legend1.AddEntry(h1, plotTitle + ' no cuts', 'l')\n",
    "    legend1.Draw('same')\n",
    "\n",
    "    img_path = 'plots/pipkslamb_Chi2DOF'\n",
    "    canvas.SaveAs(img_path + '.pdf')\n",
    "    canvas.SaveAs(img_path + '.png')\n",
    "    canvas.Close()\n",
    "    display(Image(filename=img_path + '.png'))\n",
    "    os.remove(img_path + '.png')\n",
    "\n",
    "plot_hist()"
   ]
  },
  {
   "cell_type": "markdown",
   "metadata": {},
   "source": [
    "### $K_{s} \\pi^{+}$ (can be $K^{*}$)"
   ]
  },
  {
   "cell_type": "code",
   "execution_count": 41,
   "metadata": {},
   "outputs": [
    {
     "data": {
      "image/png": "[encoded data removed]",
      "text/plain": [
       "<IPython.core.display.Image object>"
      ]
     },
     "metadata": {},
     "output_type": "display_data"
    },
    {
     "name": "stdout",
     "output_type": "stream",
     "text": [
      "    CREATING HISTOGRAM... FSRootHist:000084   OKAY           (entries = 72091117)\n",
      "    CREATING HISTOGRAM... FSRootHist:000085   OKAY           (entries = 713352)\n",
      "    CREATING HISTOGRAM... FSRootHist:000086   OKAY           (entries = 553787)\n"
     ]
    },
    {
     "name": "stderr",
     "output_type": "stream",
     "text": [
      "Info in <TCanvas::Print>: pdf file plots/pipkslamb_KsPip_m.pdf has been created\n",
      "Info in <TCanvas::Print>: png file plots/pipkslamb_KsPip_m.png has been created\n"
     ]
    }
   ],
   "source": [
    "from IPython.display import Image, display\n",
    "latex = ROOT.TLatex()\n",
    "\n",
    "plotTitle = 'K^{*}:  \\gamma p \\\\rightarrow K_{s} \\pi^{+} \\Lambda'\n",
    "axisLabel = 'Mass (K_{s} \\pi^{+})'\n",
    "\n",
    "# INDICES ASSIGNED BY 'flatten':\n",
    "# 1. DecayingLambda (0)   1a. Proton (1)   1b. PiMinus2 (2)\n",
    "# 2. DecayingKShort (3)   2a. PiPlus2 (4)   2b. PiMinus1 (5)\n",
    "# 3. PiPlus1 (6)\n",
    "\n",
    "def plot_hist():\n",
    "\n",
    "    # Clear cache when re-plotting/scaling/etc.\n",
    "    ROOT.FSHistogram.clearHistogramCache()\n",
    "\n",
    "    canvas = ROOT.TCanvas('c', 'c', 800, 600)\n",
    "    canvas.SetLeftMargin(0.15)\n",
    "\n",
    "\n",
    "    h1 = ROOT.FSHistogram.getTH1F(fileName, treeName, f\"MASS({DecayingKShort},{PiPlus1})\", \"(60, 0.05, 2.5)\", \"\")\n",
    "    h2 = ROOT.FSHistogram.getTH1F(fileName, treeName, f\"MASS({DecayingKShort},{PiPlus1})\", \"(60, 0.05, 2.5)\", \"CUT(chi2,unusedE,unusedTracks,coherentPeak)\")\n",
    "    h3 = ROOT.FSHistogram.getTH1F(fileName, treeName, f\"MASS({DecayingKShort},{PiPlus1})\", \"(60, 0.05, 2.5)\", \"CUT(chi2,unusedE,unusedTracks,coherentPeak)&&CUTSB(constrainLambda)\")\n",
    "\n",
    "    h1.SetTitle(\"\")\n",
    "    h1.SetTitle(plotTitle)\n",
    "    h1.SetStats(False)\n",
    "    h1.SetLineColor(ROOT.kBlack)\n",
    "    h1.GetXaxis().SetTitle(axisLabel + '[GeV/c^{2}]')\n",
    "    h1.GetYaxis().SetTitle('Events')\n",
    "    # h1.Scale(100)\n",
    "\n",
    "    h2.SetTitle(\"\")\n",
    "    h2.SetTitle(plotTitle)\n",
    "    h2.SetStats(False)\n",
    "    h2.SetLineColor(ROOT.kBlue)\n",
    "    # h2.SetLineStyle(7) # set line type to dashed\n",
    "    # h2.SetLineWidth(2)\n",
    "    h2.GetXaxis().SetTitle(axisLabel + '[GeV/c^{2}]')\n",
    "    h2.GetYaxis().SetTitle('Events')\n",
    "    # h2.Scale(2)\n",
    "\n",
    "    h3.SetTitle(\"\")\n",
    "    h3.SetTitle(plotTitle)\n",
    "    h3.SetStats(False)\n",
    "    h3.SetLineColor(ROOT.kRed)\n",
    "    h3.SetLineStyle(1)\n",
    "    # h3.SetLineWidth(2)\n",
    "    h3.GetXaxis().SetTitle(axisLabel + '[GeV/c^{2}]')\n",
    "    h3.GetYaxis().SetTitle('Events')\n",
    "\n",
    "    # h1.Draw('hist')\n",
    "    # h3.Draw('hist')\n",
    "    h2.Draw('hist')\n",
    "\n",
    "    legend1 = ROOT.TLegend(0.65, 0.750, 0.90, 0.90) # x_left, y_bottom, x_right, y_top\n",
    "    # legend1.AddEntry(h1, 'No cuts', 'l')\n",
    "    legend1.AddEntry(h2, 'Static cuts & select #Lambda', 'l')\n",
    "    # legend1.AddEntry(h3, 'Static & reject #Lambda sidebands', 'l').SetTextColor(ROOT.kRed)\n",
    "    legend1.Draw('same')\n",
    "\n",
    "    img_path = 'plots/pipkslamb_KsPip_m'\n",
    "    canvas.SaveAs(img_path + '.pdf')\n",
    "    canvas.SaveAs(img_path + '.png')\n",
    "    canvas.Close()\n",
    "    display(Image(filename=img_path + '.png'))\n",
    "    os.remove(img_path + '.png')\n",
    "\n",
    "plot_hist()"
   ]
  },
  {
   "cell_type": "markdown",
   "metadata": {},
   "source": [
    "### $\\pi^{+}$ Mass"
   ]
  },
  {
   "cell_type": "code",
   "execution_count": null,
   "metadata": {},
   "outputs": [],
   "source": [
    "from IPython.display import Image, display\n",
    "latex = ROOT.TLatex()\n",
    "\n",
    "plotTitle = '\\Mass (\\pi^{+})'\n",
    "axisLabel = '\\Mass (\\pi^{+})'\n",
    "\n",
    "# INDICES ASSIGNED BY 'flatten':\n",
    "# 1. DecayingLambda (0)   1a. Proton (1)   1b. PiMinus2 (2)\n",
    "# 2. DecayingKShort (3)   2a. PiPlus2 (4)   2b. PiMinus1 (5)\n",
    "# 3. PiPlus1 (6)\n",
    "\n",
    "def plot_hist():\n",
    "\n",
    "    ROOT.FSHistogram.clearHistogramCache()\n",
    "    \n",
    "    canvas = ROOT.TCanvas('c', 'c', 800, 600)\n",
    "    canvas.SetLeftMargin(0.15)\n",
    "\n",
    "    h1 = ROOT.FSHistogram.getTH1F(fileName, treeName, f\"MASS({PiPlus1})\", \"(80, 0.1, 0.2)\", \"\")\n",
    "    \n",
    "    h1.SetTitle(\"\")\n",
    "    h1.SetTitle(plotTitle)\n",
    "    h1.SetStats(False)\n",
    "    h1.SetLineColor(ROOT.kBlue)\n",
    "    h1.GetXaxis().SetTitle(axisLabel + ' [GeV/c^{2}]')\n",
    "    h1.GetYaxis().SetTitle('Events')\n",
    "    h1.Draw('hist')\n",
    "    \n",
    "    legend1 = ROOT.TLegend(0.60, 0.80, 0.90, 0.90) # x_left, y_bottom, x_right, y_top\n",
    "    legend1.AddEntry(h1, plotTitle + ' no cuts', 'l')\n",
    "    legend1.Draw('same')\n",
    "\n",
    "    img_path = 'plots/pipkslamb_Pip_m'\n",
    "    canvas.SaveAs(img_path + '.pdf')\n",
    "    canvas.SaveAs(img_path + '.png')\n",
    "    canvas.Close()\n",
    "    display(Image(filename=img_path + '.png'))\n",
    "    os.remove(img_path + '.png')\n",
    "\n",
    "plot_hist()"
   ]
  },
  {
   "cell_type": "markdown",
   "metadata": {},
   "source": [
    "### $\\Lambda$:   Mass(proton $\\pi^{-}$)"
   ]
  },
  {
   "cell_type": "code",
   "execution_count": 42,
   "metadata": {},
   "outputs": [
    {
     "data": {
      "image/png": "[encoded data removed]",
      "text/plain": [
       "<IPython.core.display.Image object>"
      ]
     },
     "metadata": {},
     "output_type": "display_data"
    },
    {
     "name": "stdout",
     "output_type": "stream",
     "text": [
      "    CREATING HISTOGRAM... FSRootHist:000087   OKAY           (entries = 72091117)\n",
      "    CREATING HISTOGRAM... FSRootHist:000088   OKAY           (entries = 713352)\n",
      "    CREATING HISTOGRAM... FSRootHist:000089   OKAY           (entries = 158934)\n"
     ]
    },
    {
     "name": "stderr",
     "output_type": "stream",
     "text": [
      "Info in <TCanvas::Print>: pdf file plots/pipkslamb_Lambda_m.pdf has been created\n",
      "Info in <TCanvas::Print>: png file plots/pipkslamb_Lambda_m.png has been created\n"
     ]
    }
   ],
   "source": [
    "from IPython.display import Image, display\n",
    "latex = ROOT.TLatex()\n",
    "\n",
    "plotTitle = '\\gamma p \\\\rightarrow K_{s} \\pi^{+} \\Lambda'\n",
    "axisLabel = 'Lambda: M(Proton \\pi^{-})'\n",
    "\n",
    "# INDICES ASSIGNED BY 'flatten':\n",
    "# 1. DecayingLambda (0)   1a. Proton (1)   1b. PiMinus2 (2)\n",
    "# 2. DecayingKShort (3)   2a. PiPlus2 (4)   2b. PiMinus1 (5)\n",
    "# 3. PiPlus1 (6)\n",
    "\n",
    "def plot_hist():\n",
    "\n",
    "    canvas = ROOT.TCanvas('c', 'c', 800, 600)\n",
    "    canvas.SetLeftMargin(0.15)\n",
    "\n",
    "    # clear histogram cache\n",
    "    ROOT.FSHistogram.clearHistogramCache()\n",
    "\n",
    "    h1 = ROOT.FSHistogram.getTH1F(fileName, treeName, f\"MASS({Proton}, {PiMinus2})\", \"(100, 1.078, 1.28)\", \"\")\n",
    "    h2 = ROOT.FSHistogram.getTH1F(fileName, treeName, f\"MASS({Proton}, {PiMinus2})\", \"(100, 1.078, 1.28)\", \"CUT(chi2,unusedE,unusedTracks,coherentPeak)\")\n",
    "    h3 = ROOT.FSHistogram.getTH1F(fileName, treeName, f\"MASS({Proton}, {PiMinus2})\", \"(100, 1.078, 1.28)\", \"CUT(chi2,unusedE,unusedTracks,coherentPeak,constrainLambda)\")    \n",
    "\n",
    "    h1.SetTitle(\"\")\n",
    "    h1.SetTitle(plotTitle)\n",
    "    h1.SetStats(False)\n",
    "    h1.SetLineColor(ROOT.kBlack)\n",
    "    h1.GetXaxis().SetTitle(axisLabel + '[GeV/c^{2}]')\n",
    "    h1.GetYaxis().SetTitle('Events')\n",
    "    # h1.Scale(100)\n",
    "\n",
    "    h2.SetTitle(\"\")\n",
    "    h2.SetTitle(plotTitle)\n",
    "    h2.SetStats(False)\n",
    "    h2.SetLineColor(ROOT.kBlue)\n",
    "    # h2.SetLineStyle(9) # set line type to dashed\n",
    "    h2.SetLineWidth(1)\n",
    "    h2.GetXaxis().SetTitle(axisLabel + '[GeV/c^{2}]')\n",
    "    h2.GetYaxis().SetTitle('Events')\n",
    "    # h2.Scale(2)\n",
    "\n",
    "    h3.SetTitle(\"\")\n",
    "    h3.SetTitle(plotTitle)\n",
    "    h3.SetStats(False)\n",
    "    h3.SetLineColor(ROOT.kRed)\n",
    "    h3.SetLineStyle(1)\n",
    "    h3.SetLineWidth(1)\n",
    "    h3.GetXaxis().SetTitle(axisLabel + '[GeV/c^{2}]')\n",
    "    h3.GetYaxis().SetTitle('Events')\n",
    "\n",
    "    # h1.Draw('hist')\n",
    "    h2.Draw('hist')\n",
    "    h3.Draw('same, hist')\n",
    "\n",
    "\n",
    "    legend1 = ROOT.TLegend(0.65, 0.750, 0.90, 0.90) # x_left, y_bottom, x_right, y_top\n",
    "    # legend1.AddEntry(h1, ' No cuts', 'l')\n",
    "    legend1.AddEntry(h2, ' Static cuts', 'l')\n",
    "    legend1.AddEntry(h3, ' Static cuts & select #Lambda', 'l')\n",
    "    legend1.Draw('same')\n",
    "\n",
    "    img_path = 'plots/pipkslamb_Lambda_m'\n",
    "    canvas.SaveAs(img_path + '.pdf')\n",
    "    canvas.SaveAs(img_path + '.png')\n",
    "    canvas.Close()\n",
    "    display(Image(filename=img_path + '.png'))\n",
    "    os.remove(img_path + '.png')\n",
    "\n",
    "plot_hist()"
   ]
  },
  {
   "cell_type": "markdown",
   "metadata": {},
   "source": [
    "### Lambda sidebands"
   ]
  },
  {
   "cell_type": "code",
   "execution_count": 20,
   "metadata": {},
   "outputs": [
    {
     "data": {
      "image/png": "[encoded data removed]",
      "text/plain": [
       "<IPython.core.display.Image object>"
      ]
     },
     "metadata": {},
     "output_type": "display_data"
    },
    {
     "name": "stdout",
     "output_type": "stream",
     "text": [
      "    CREATING HISTOGRAM... FSRootHist:000022   OKAY           (entries = 713352)\n",
      "    CREATING HISTOGRAM... FSRootHist:000023   OKAY           (entries = 553787)\n"
     ]
    },
    {
     "name": "stderr",
     "output_type": "stream",
     "text": [
      "Info in <TCanvas::Print>: pdf file plots/pipkslamb_protPim2_LambdaSidebands_m.pdf has been created\n",
      "Info in <TCanvas::Print>: png file plots/pipkslamb_protPim2_LambdaSidebands_m.png has been created\n"
     ]
    }
   ],
   "source": [
    "from IPython.display import Image, display\n",
    "latex = ROOT.TLatex()\n",
    "\n",
    "plotTitle = '\\Lambda Sidebands'\n",
    "axisLabel = 'Mass (Proton \\pi^{-})'\n",
    "\n",
    "# INDICES ASSIGNED BY 'flatten':\n",
    "# 1. DecayingLambda (0)   1a. Proton (1)   1b. PiMinus2 (2)\n",
    "# 2. DecayingKShort (3)   2a. PiPlus2 (4)   2b. PiMinus1 (5)\n",
    "# 3. PiPlus1 (6)\n",
    "\n",
    "def plot_hist():\n",
    "\n",
    "    canvas = ROOT.TCanvas('c', 'c', 800, 600)\n",
    "    canvas.SetLeftMargin(0.15)\n",
    "\n",
    "    # clear histogram cache\n",
    "    # ROOT.FSHistogram.clearHistogramCache()\n",
    "\n",
    "    h1 = ROOT.FSHistogram.getTH1F(fileName, treeName, f\"MASS({Proton}, {PiMinus2})\", \"(100, 1.08, 1.206)\", \"CUT(chi2,unusedE,unusedTracks,coherentPeak)\")\n",
    "    h2 = ROOT.FSHistogram.getTH1F(fileName, treeName, f\"MASS({Proton}, {PiMinus2})\", \"(100, 1.08, 1.206)\", \"CUT(chi2,unusedE,unusedTracks,coherentPeak)&&CUTSB(constrainLambda)\")\n",
    "\n",
    "    h1.SetTitle(\"\")\n",
    "    h1.SetTitle(plotTitle)\n",
    "    h1.SetStats(False)\n",
    "    h1.SetLineColor(ROOT.kBlack)\n",
    "    h1.GetXaxis().SetTitle(axisLabel + '[GeV/c^{2}]')\n",
    "    h1.GetYaxis().SetTitle('Events')\n",
    "\n",
    "    h2.SetTitle(\"\")\n",
    "    h2.SetTitle(plotTitle)\n",
    "    h2.SetStats(False)\n",
    "    h2.SetLineColor(ROOT.kRed)\n",
    "    h2.GetXaxis().SetTitle(axisLabel + '[GeV/c^{2}]')\n",
    "    h2.GetYaxis().SetTitle('Events')\n",
    "\n",
    "    h1.Draw('hist')\n",
    "    h2.Draw('hist, same')\n",
    "\n",
    "    legend1 = ROOT.TLegend(0.65, 0.750, 0.90, 0.90) # x_left, y_bottom, x_right, y_top\n",
    "    legend1.AddEntry(h1, 'Lambda', 'l')\n",
    "    legend1.AddEntry(h2,'Select Lambda Sidebands', 'l')\n",
    "    legend1.Draw('same')\n",
    "\n",
    "    img_path = 'plots/pipkslamb_protPim2_LambdaSidebands_m'\n",
    "    canvas.SaveAs(img_path + '.pdf')\n",
    "    canvas.SaveAs(img_path + '.png')\n",
    "    canvas.Close()\n",
    "    display(Image(filename=img_path + '.png'))\n",
    "    os.remove(img_path + '.png')\n",
    "\n",
    "plot_hist()"
   ]
  },
  {
   "cell_type": "markdown",
   "metadata": {},
   "source": [
    "### $\\Lambda$:   Missing Mass"
   ]
  },
  {
   "cell_type": "code",
   "execution_count": null,
   "metadata": {},
   "outputs": [],
   "source": [
    "from IPython.display import Image, display\n",
    "latex = ROOT.TLatex()\n",
    "\n",
    "plotTitle = '#Lambda Missing Mass'\n",
    "axisLabel = '#Lambda Missing Mass'\n",
    "\n",
    "# INDICES ASSIGNED BY 'flatten':\n",
    "# 1. DecayingLambda (0)   1a. Proton (1)   1b. PiMinus2 (2)\n",
    "# 2. DecayingKShort (3)   2a. PiPlus2 (4)   2b. PiMinus1 (5)\n",
    "# 3. PiPlus1 (6)\n",
    "\n",
    "def plot_hist():\n",
    "\n",
    "    canvas = ROOT.TCanvas('c', 'c', 800, 600)\n",
    "\n",
    "    # clear histogram memory before printing the next one\n",
    "    ROOT.FSHistogram.clearHistogramCache()\n",
    "\n",
    "    h1 = ROOT.FSHistogram.getTH1F(fileName, treeName, f\"MASS({DecayingLambda})\", \"(60, 1.07, 1.35)\", \"CUT(chi2,unusedE,unusedTracks,coherentPeak)\")\n",
    "    h1.SetTitle(\"\")\n",
    "    h1.SetTitle(plotTitle)\n",
    "    h1.SetStats(False)\n",
    "    h1.SetLineColor(ROOT.kMagenta)\n",
    "    h1.GetXaxis().SetTitle(axisLabel)\n",
    "    h1.GetYaxis().SetTitle('Events')\n",
    "    h1.Draw('same, hist')\n",
    "\n",
    "\n",
    "    legend1 = ROOT.TLegend(0.60, 0.80, 0.90, 0.90) # x_left, y_bottom, x_right, y_top\n",
    "    legend1.AddEntry(h1, plotTitle + ' cuts', 'l')\n",
    "    legend1.Draw('same')\n",
    "\n",
    "    img_path = 'plots/pipkslamb_decayingLambda_m'\n",
    "    canvas.SaveAs(img_path + '.pdf')\n",
    "    canvas.SaveAs(img_path + '.png')\n",
    "    canvas.Close()\n",
    "    display(Image(filename=img_path + '.png'))\n",
    "    os.remove(img_path + '.png')\n",
    "\n",
    "plot_hist()"
   ]
  },
  {
   "cell_type": "markdown",
   "metadata": {},
   "source": [
    "### $\\pi^{+}$ mass"
   ]
  },
  {
   "cell_type": "code",
   "execution_count": 18,
   "metadata": {},
   "outputs": [
    {
     "data": {
      "image/png": "[encoded data removed]",
      "text/plain": [
       "<IPython.core.display.Image object>"
      ]
     },
     "metadata": {},
     "output_type": "display_data"
    },
    {
     "name": "stdout",
     "output_type": "stream",
     "text": [
      "    CREATING HISTOGRAM... FSRootHist:000018   OKAY           (entries = 72091117)\n"
     ]
    },
    {
     "name": "stderr",
     "output_type": "stream",
     "text": [
      "Info in <TCanvas::Print>: pdf file plots/pipkslamb_PiPlus_m.pdf has been created\n",
      "Info in <TCanvas::Print>: png file plots/pipkslamb_PiPlus_m.png has been created\n"
     ]
    }
   ],
   "source": [
    "from IPython.display import Image, display\n",
    "latex = ROOT.TLatex()\n",
    "\n",
    "plotTitle = '$\\pi^{+}$ Mass'\n",
    "axisLabel = '$Mass (\\pi^{+}) [GeV/c^{2}]$'\n",
    "\n",
    "# INDICES ASSIGNED BY 'flatten':\n",
    "# 1. DecayingLambda (0)   1a. Proton (1)   1b. PiMinus2 (2)\n",
    "# 2. DecayingKShort (3)   2a. PiPlus2 (4)   2b. PiMinus1 (5)\n",
    "# 3. PiPlus1 (6)\n",
    "\n",
    "def plot_hist():\n",
    "\n",
    "    canvas = ROOT.TCanvas('c', 'c', 800, 600)\n",
    "\n",
    "    h1 = ROOT.FSHistogram.getTH1F(fileName, treeName, f\"MASS({PiPlus1})\", \"(80, 0.1, 0.2)\", \"\")\n",
    "\n",
    "    h1.SetTitle(plotTitle)\n",
    "    h1.SetStats(False)\n",
    "    h1.SetLineColor(ROOT.kBlue)\n",
    "    h1.GetXaxis().SetTitle(axisLabel + ' [GeV')\n",
    "    h1.GetYaxis().SetTitle('Events')\n",
    "    h1.Draw('hist')\n",
    "    \n",
    "    legend1 = ROOT.TLegend(0.60, 0.80, 0.90, 0.90) # x_left, y_bottom, x_right, y_top\n",
    "    legend1.AddEntry(h1, plotTitle + ' no cuts', 'l')\n",
    "    legend1.Draw('same')\n",
    "\n",
    "    img_path = 'plots/pipkslamb_PiPlus_m'\n",
    "    canvas.SaveAs(img_path + '.pdf')\n",
    "    canvas.SaveAs(img_path + '.png')\n",
    "    canvas.Close()\n",
    "    display(Image(filename=img_path + '.png'))\n",
    "    os.remove(img_path + '.png')\n",
    "\n",
    "plot_hist()"
   ]
  },
  {
   "cell_type": "markdown",
   "metadata": {},
   "source": [
    "---\n",
    "---\n",
    "### 2D PLOTS\n",
    "---\n",
    "---"
   ]
  },
  {
   "cell_type": "markdown",
   "metadata": {},
   "source": [
    "### Dalitz plot: (Lambda pi0)^2 vs (K+ pi0)^2"
   ]
  },
  {
   "cell_type": "code",
   "execution_count": null,
   "metadata": {},
   "outputs": [
    {
     "data": {
      "image/png": "[encoded data removed]",
      "text/plain": [
       "<IPython.core.display.Image object>"
      ]
     },
     "metadata": {},
     "output_type": "display_data"
    },
    {
     "name": "stdout",
     "output_type": "stream",
     "text": [
      "    FOUND HISTOGRAM...    FSRootHist:000024   OKAY           (entries = 713352)\n"
     ]
    },
    {
     "name": "stderr",
     "output_type": "stream",
     "text": [
      "Info in <TCanvas::Print>: pdf file plots/pipkslamb_LambPipVSKsPip_m2.pdf has been created\n",
      "Info in <TCanvas::Print>: png file plots/pipkslamb_LambPipVSKsPip_m2.png has been created\n"
     ]
    }
   ],
   "source": [
    "from IPython.display import Image, display\n",
    "latex = ROOT.TLatex()\n",
    "\n",
    "plotTitle = 'SYSTEM: \\gamma p \\\\rightarrow K_{s} \\pi^{+} \\Lambda'\n",
    "XaxisLabel = 'M(K_{s} \\pi^{+})^{2}'\n",
    "YaxisLabel = 'M(\\Lambda \\pi^{+})^{2}'\n",
    "\n",
    "# INDICES ASSIGNED BY flatten.  Use leading values, not those in parentheses.\n",
    "# 1. DecayingLambda (0)   1a. Proton (1)   1b. PiMinus2 (2)\n",
    "# 2. DecayingKShort (3)   2a. PiPlus2 (4)   2b. PiMinus1 (5)\n",
    "# 3. PiPlus1 (6)\n",
    "\n",
    "def plot_hist():\n",
    "\n",
    "    canvas = ROOT.TCanvas('c', 'c', 800, 600)\n",
    "\n",
    "    h1 = ROOT.FSHistogram.getTH2F(fileName, treeName, f\"MASS2({DecayingKShort},{PiPlus1}):MASS2({DecayingLambda},{PiPlus1})\", \"(80, 1.2, 14.5, 80, 0.0, 9.5)\", \"CUT(chi2,unusedE,unusedTracks,coherentPeak)\")\n",
    "\n",
    "    h1.SetTitle(plotTitle)\n",
    "    h1.SetStats(False)\n",
    "    h1.SetLineColor(ROOT.kBlue)\n",
    "    h1.GetXaxis().SetTitle(XaxisLabel + ' [GeV^{2}]')\n",
    "    h1.GetYaxis().SetTitle(YaxisLabel + ' [GeV^{2}]')\n",
    "    h1.Draw('colz')\n",
    "    \n",
    "    legend1 = ROOT.TLegend(0.60, 0.80, 0.90, 0.90) # x_left, y_bottom, x_right, y_top\n",
    "    legend1.AddEntry(h1, plotTitle, 'l')\n",
    "    # legend1.Draw('same')\n",
    "\n",
    "    img_path = 'plots/pipkslamb_LambPipVSKsPip_m2'\n",
    "    canvas.SaveAs(img_path + '.pdf')\n",
    "    canvas.SaveAs(img_path + '.png')\n",
    "    canvas.Close()\n",
    "    display(Image(filename=img_path + '.png'))\n",
    "    os.remove(img_path + '.png')\n",
    "\n",
    "plot_hist()"
   ]
  },
  {
   "cell_type": "markdown",
   "metadata": {},
   "source": [
    "### Dalitz plot: ($p_{K^{+}} + p_{\\Lambda})$ vs. ($p_{\\pi^{0}} + p_{\\Lambda})^{2}$"
   ]
  },
  {
   "cell_type": "code",
   "execution_count": null,
   "metadata": {},
   "outputs": [],
   "source": [
    "from IPython.display import Image, display\n",
    "\n",
    "plotTitle = 'Dalitz plot'\n",
    "XaxisLabel = '({K^{+}} + {\\Lambda})^{2}'\n",
    "YaxisLabel = '({\\pi^{0}} + {\\Lambda})^{2}'\n",
    "\n",
    "# INDICES ASSIGNED BY 'flatten':\n",
    "# 1. DecayingLambda (0)   1a. Proton (1)   1b. PiMinus2 (2)\n",
    "# 2. DecayingKShort (3)   2a. PiPlus2 (4)   2b. PiMinus1 (5)\n",
    "# 3. PiPlus1 (6)\n",
    "\n",
    "def plot_hist():\n",
    "\n",
    "    canvas = ROOT.TCanvas('c', 'c', 800, 600)\n",
    "\n",
    "    h1 = ROOT.FSHistogram.getTH2F(fileName, treeName, f\"MASS2({KPlus},{DecayingLambda}):MASS2({DecayingPi0},{DecayingLambda})\", \"(80, 0.0, 21.0, 80, 0.0, 21.0)\", \"\")\n",
    "\n",
    "    h1.SetTitle(plotTitle)\n",
    "    h1.SetStats(False)\n",
    "    h1.SetLineColor(ROOT.kBlue)\n",
    "    h1.GetXaxis().SetTitle(XaxisLabel + ' \\ [GeV^{2}/c^{4}]')\n",
    "    h1.GetYaxis().SetTitle(YaxisLabel + ' \\ [GeV^{2}/c^{4}]')\n",
    "    h1.Draw('colz')\n",
    "    \n",
    "    legend1 = ROOT.TLegend(0.60, 0.80, 0.90, 0.90) # x_left, y_bottom, x_right, y_top\n",
    "    legend1.AddEntry(h1, plotTitle + ' no cuts', 'l')\n",
    "    legend1.Draw('same')\n",
    "\n",
    "    img_path = 'plots/pipkslamb_kpLambVSPi0Lamb'\n",
    "    canvas.SaveAs(img_path + '.pdf')\n",
    "    canvas.SaveAs(img_path + '.png')\n",
    "    canvas.Close()\n",
    "    display(Image(filename=img_path + '.png'))\n",
    "    os.remove(img_path + '.png')\n",
    "\n",
    "plot_hist()"
   ]
  },
  {
   "cell_type": "markdown",
   "metadata": {},
   "source": [
    "---\n",
    "---\n",
    "### Other plots\n",
    "---\n",
    "---"
   ]
  },
  {
   "cell_type": "markdown",
   "metadata": {},
   "source": [
    "### $K_{s}$ mass"
   ]
  },
  {
   "cell_type": "code",
   "execution_count": null,
   "metadata": {},
   "outputs": [
    {
     "data": {
      "image/png": "[encoded data removed]",
      "text/plain": [
       "<IPython.core.display.Image object>"
      ]
     },
     "metadata": {},
     "output_type": "display_data"
    },
    {
     "name": "stdout",
     "output_type": "stream",
     "text": [
      "    CREATING HISTOGRAM... FSRootHist:000025   OKAY           (entries = 72091117)\n",
      "    CREATING HISTOGRAM... FSRootHist:000026   OKAY           (entries = 713352)\n"
     ]
    },
    {
     "name": "stderr",
     "output_type": "stream",
     "text": [
      "Info in <TCanvas::Print>: pdf file plots/pipkslamb_ks_m.pdf has been created\n",
      "Info in <TCanvas::Print>: png file plots/pipkslamb_ks_m.png has been created\n"
     ]
    }
   ],
   "source": [
    "from IPython.display import Image, display\n",
    "latex = ROOT.TLatex()\n",
    "\n",
    "plotTitle = '\\gamma p \\\\rightarrow K_{s} \\pi^{+} \\Lambda'\n",
    "axisLabel = 'Mass (K^{+})'\n",
    "\n",
    "# INDICES ASSIGNED BY 'flatten':\n",
    "# 1. DecayingLambda (0)   1a. Proton (1)   1b. PiMinus2 (2)\n",
    "# 2. DecayingKShort (3)   2a. PiPlus2 (4)   2b. PiMinus1 (5)\n",
    "# 3. PiPlus1 (6)\n",
    "\n",
    "def plot_hist():\n",
    "\n",
    "    canvas = ROOT.TCanvas('c', 'c', 800, 600)\n",
    "\n",
    "    h1 = ROOT.FSHistogram.getTH1F(fileName, treeName, f\"MASS({DecayingKShort})\", \"(60, 0.05, 2.0)\", \"\")\n",
    "    h2 = ROOT.FSHistogram.getTH1F(fileName, treeName, f\"MASS({DecayingKShort})\", \"(60, 0.05, 2.0)\", \"CUT(chi2,unusedE,unusedTracks,coherentPeak)\")\n",
    "\n",
    "    h1.SetTitle(\"\")\n",
    "    h1.SetTitle(plotTitle)\n",
    "    h1.SetStats(False)\n",
    "    h1.SetLineColor(ROOT.kBlue)\n",
    "    h1.GetXaxis().SetTitle(axisLabel + ' [GeV/c^{2}]')\n",
    "    h1.GetYaxis().SetTitle('Events')\n",
    "    h1.Draw('hist')\n",
    "\n",
    "    h2.SetStats(False)\n",
    "    h2.SetLineColor(ROOT.kRed)\n",
    "    h2.GetXaxis().SetTitle(axisLabel)\n",
    "    h2.GetYaxis().SetTitle('Events')\n",
    "    # h2.Draw('same, hist')\n",
    "\n",
    "    legend1 = ROOT.TLegend(0.60, 0.80, 0.90, 0.90) # x_left, y_bottom, x_right, y_top\n",
    "    legend1.AddEntry(h1, plotTitle + ' no cuts', 'l')\n",
    "    legend1.AddEntry(h2, plotTitle + ' cuts', 'l')\n",
    "    legend1.Draw('same')\n",
    "\n",
    "    img_path = 'plots/pipkslamb_ks_m'\n",
    "    canvas.SaveAs(img_path + '.pdf')\n",
    "    canvas.SaveAs(img_path + '.png')\n",
    "    canvas.Close()\n",
    "    display(Image(filename=img_path + '.png'))\n",
    "    os.remove(img_path + '.png')\n",
    "\n",
    "plot_hist()"
   ]
  },
  {
   "cell_type": "markdown",
   "metadata": {},
   "source": [
    "### Beam Energy"
   ]
  },
  {
   "cell_type": "code",
   "execution_count": null,
   "metadata": {},
   "outputs": [],
   "source": [
    "from IPython.display import Image, display\n",
    "\n",
    "plotTitle = 'Beam energy'\n",
    "plot2Title = 'Beam energy measured'\n",
    "axisLabel = 'Beam energy [GeV]'\n",
    "\n",
    "# INDICES ASSIGNED BY 'flatten':\n",
    "# 1. DecayingLambda (0)   1a. Proton (1)   1b. PiMinus2 (2)\n",
    "# 2. DecayingKShort (3)   2a. PiPlus2 (4)   2b. PiMinus1 (5)\n",
    "# 3. PiPlus1 (6)\n",
    "\n",
    "canvas = ROOT.TCanvas('c', 'c', 800, 600)\n",
    "    \n",
    "h1 = ROOT.FSHistogram.getTH1F(fileName, treeName, \"beam_e\", \"(80, 0.0, 14.0)\", \"\")\n",
    "h1.SetStats(False)\n",
    "h1.SetLineColor(ROOT.kBlue)\n",
    "h1.GetXaxis().SetTitle(axisLabel)\n",
    "h1.GetYaxis().SetTitle('Events')\n",
    "h1.Draw()\n",
    "\n",
    "h2 = ROOT.FSHistogram.getTH1F(fileName, treeName, \"beam_e_measured\", \"(80, 0.0, 14.0)\", \"\")\n",
    "h2.SetStats(False)\n",
    "h2.SetMarkerStyle(24)\n",
    "h2.SetMarkerColor(ROOT.kRed)\n",
    "h2.GetXaxis().SetTitle(axisLabel)\n",
    "h2.GetYaxis().SetTitle('Events')\n",
    "h2.Draw('p same')\n",
    "    \n",
    "legend1 = ROOT.TLegend(0.7, 0.9, 0.9, 0.75)\n",
    "# legend1.AddEntry(h1.GetValue(), plotTitle, 'l')\n",
    "# legend1.AddEntry(h2.GetValue(), plot2Title, 'p')\n",
    "legend1.Draw('same')\n",
    "\n",
    "img_path = 'plots/pipkslamb_beam_e.png'\n",
    "canvas.SaveAs(img_path)\n",
    "canvas.Close()\n",
    "display(Image(filename=img_path))"
   ]
  },
  {
   "cell_type": "markdown",
   "metadata": {},
   "source": [
    "### Target proton"
   ]
  },
  {
   "cell_type": "code",
   "execution_count": null,
   "metadata": {},
   "outputs": [],
   "source": [
    "from IPython.display import Image, display\n",
    "import matplotlib.pyplot as plt\n",
    "latex = ROOT.TLatex()\n",
    "\n",
    "plotTitle = 'Target proton mass'\n",
    "axisLabel = 'Mass (target proton) [GeV/c^{2}]'\n",
    "\n",
    "# INDICES ASSIGNED BY 'flatten':\n",
    "# 1. DecayingLambda (0)   1a. Proton (1)   1b. PiMinus2 (2)\n",
    "# 2. DecayingKShort (3)   2a. PiPlus2 (4)   2b. PiMinus1 (5)\n",
    "# 3. PiPlus1 (6)\n",
    "\n",
    "def plot_hist():\n",
    "\n",
    "    canvas = ROOT.TCanvas('c', 'c', 800, 600)\n",
    "    canvas.SetLeftMargin(0.15)\n",
    "\n",
    "    h1 = ROOT.FSHistogram.getTH1F(fileName, treeName, f\"MASS({?????})\", \"(80, 0.0, 4.0)\", \"\")\n",
    "    h1.SetTitle(plotTitle)\n",
    "    h1.SetStats(False)\n",
    "    h1.SetLineColor(ROOT.kBlue)\n",
    "    h1.GetXaxis().SetTitle(axisLabel)\n",
    "    h1.GetYaxis().SetTitle('Events')\n",
    "    h1.Draw()\n",
    "    latex.DrawLatexNDC(0.3, 0.95, plotTitle)\n",
    "    \n",
    "    legend1 = ROOT.TLegend(0.7, 0.9, 0.9, 0.85)\n",
    "    legend1.AddEntry(h1, f'{plotTitle} no cuts', 'l')\n",
    "    legend1.Draw('same')\n",
    "\n",
    "    img_path = 'plots/pipkslamb_target_m_m'\n",
    "    canvas.SaveAs(img_path + '.pdf')\n",
    "    canvas.SaveAs(img_path + '.png')\n",
    "    canvas.Close()\n",
    "    display(Image(filename=img_path + '.png'))\n",
    "    os.remove(img_path + '.png')\n",
    "\n",
    "plot_hist()"
   ]
  },
  {
   "cell_type": "markdown",
   "metadata": {},
   "source": [
    "### Mass ($K_{s}$ $\\pi^{+}$ $\\Lambda$)"
   ]
  },
  {
   "cell_type": "code",
   "execution_count": 43,
   "metadata": {},
   "outputs": [
    {
     "data": {
      "image/png": "[encoded data removed]",
      "text/plain": [
       "<IPython.core.display.Image object>"
      ]
     },
     "metadata": {},
     "output_type": "display_data"
    },
    {
     "name": "stdout",
     "output_type": "stream",
     "text": [
      "    CREATING HISTOGRAM... FSRootHist:000090   OKAY           (entries = 72091117)\n"
     ]
    },
    {
     "name": "stderr",
     "output_type": "stream",
     "text": [
      "Info in <TCanvas::Print>: pdf file plots/pipkslamb_kpPi0ProtPim_m.pdf has been created\n",
      "Info in <TCanvas::Print>: png file plots/pipkslamb_kpPi0ProtPim_m.png has been created\n"
     ]
    }
   ],
   "source": [
    "from IPython.display import Image, display\n",
    "latex = ROOT.TLatex()\n",
    "\n",
    "plotTitle = 'Mass (K_{s} \\pi^{+} #Lambda)'\n",
    "axisLabel = 'Mass (K_{s} \\pi^{+} p \\pi^{-})'\n",
    "\n",
    "# INDICES ASSIGNED BY 'flatten':\n",
    "# 1. DecayingLambda (0)   1a. Proton (1)   1b. PiMinus2 (2)\n",
    "# 2. DecayingKShort (3)   2a. PiPlus2 (4)   2b. PiMinus1 (5)\n",
    "# 3. PiPlus1 (6)\n",
    "\n",
    "def plot_hist():\n",
    "\n",
    "    canvas = ROOT.TCanvas('c', 'c', 800, 600)\n",
    "    canvas.SetLeftMargin(0.15)\n",
    "\n",
    "    h1 = ROOT.FSHistogram.getTH1F(fileName, treeName, f\"MASS({DecayingKShort},{PiPlus1},{Proton},{PiMinus2})\", \"(80, 3.3, 4.6)\", \"\")\n",
    "\n",
    "    # FOR MULTIPLE FINAL STATES AND TO MANAGE PARTICLE COMBINATORICS WITHIN THOSE FINAL STATES.    \n",
    "    # h1 = ROOT.FSModeHistogram.getTH1F(fileName, treeName, f\"MASS({KPlus},{DecayingPi0},{Proton},{PiMinus})\", \"(80, 0.0, 4.0)\", \"\", \"CUT(chi2,unusedE,unusedTracks,coherentPeak)&&CUTSB(constrainLambda)\")\n",
    "    \n",
    "    h1.SetTitle(\"\")\n",
    "    h1.SetTitle(plotTitle)\n",
    "    h1.SetStats(False)\n",
    "    h1.SetLineColor(ROOT.kBlue)\n",
    "    h1.GetXaxis().SetTitle(axisLabel + ' [GeV/c^{2}]')\n",
    "    h1.GetYaxis().SetTitle('Events')\n",
    "    h1.Draw('hist')\n",
    "    \n",
    "    legend1 = ROOT.TLegend(0.60, 0.80, 0.90, 0.90) # x_left, y_bottom, x_right, y_top\n",
    "    legend1.AddEntry(h1, plotTitle + ' no cuts', 'l')\n",
    "    legend1.Draw('same')\n",
    "\n",
    "    img_path = 'plots/pipkslamb_KsPipLamb_m'\n",
    "    canvas.SaveAs(img_path + '.pdf')\n",
    "    canvas.SaveAs(img_path + '.png')\n",
    "    canvas.Close()\n",
    "    display(Image(filename=img_path + '.png'))\n",
    "    os.remove(img_path + '.png')\n",
    "\n",
    "plot_hist()"
   ]
  }
 ],
 "metadata": {
  "kernelspec": {
   "display_name": "Python 3 (ipykernel)",
   "language": "python",
   "name": "python3"
  },
  "language_info": {
   "codemirror_mode": {
    "name": "ipython",
    "version": 3
   },
   "file_extension": ".py",
   "mimetype": "text/x-python",
   "name": "python",
   "nbconvert_exporter": "python",
   "pygments_lexer": "ipython3",
   "version": "3.9.21"
  }
 },
 "nbformat": 4,
 "nbformat_minor": 2
}
