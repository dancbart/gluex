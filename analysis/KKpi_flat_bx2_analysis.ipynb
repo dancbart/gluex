{
 "cells": [
  {
   "cell_type": "code",
   "execution_count": 21,
   "metadata": {},
   "outputs": [],
   "source": [
    "import warnings # for debugging\n",
    "warnings.filterwarnings('error') # prints line number of warning, supposedly\n",
    "\n",
    "import pandas as pd\n",
    "import numpy as np\n",
    "import uproot\n",
    "import ROOT\n",
    "\n",
    "def createDataFrame(filename, treename):\n",
    "    with uproot.open(filename) as file:\n",
    "        df = file[treename].arrays(['pathlength_sig', 'pip1_E', 'pip1_px', 'pip1_py', 'pip1_pz', 'pip2_E', 'pip2_px', 'pip2_py', 'pip2_pz', 'pim_E', 'pim_px', 'pim_py', 'pim_pz', 'km_E', 'km_px', 'km_py', 'km_pz', 'p_E', 'p_px', 'p_py', 'p_pz'], library=\"pd\")\n",
    "        \n",
    "        ######## DEFINITIONS ########\n",
    "\n",
    "        # pi_plus (pip2) i.e. one of two components of kShort.  the other is pi_minus (pim)\n",
    "        # total mass\n",
    "        # dfKKpi['pip2_m'] = np.sqrt(df['pip2_E']**2 - df['pip2_px']**2 - df['pip2_py']**2 - df['pip2_pz']**2)\n",
    "        # mass squared\n",
    "        df['pip2_m2'] = df['pip2_E']**2 - df['pip2_px']**2 - df['pip2_py']**2 - df['pip2_pz']**2\n",
    "\n",
    "        # pi_minus (pim) i.e. one of two components of kShort.  the other is pi_plus (pip2)\n",
    "        # total mass\n",
    "        # df['pim_m'] = np.sqrt(df['pim_E']**2 - df['pim_px']**2 - df['pim_py']**2 - df['pim_pz']**2)\n",
    "        # mass squared\n",
    "        df['pim_m2'] = df['pim_E']**2 - df['pim_px']**2 - df['pim_py']**2 - df['pim_pz']**2\n",
    "\n",
    "        # kShort (pip2 + pim)\n",
    "        # 4-vector components\n",
    "        df['ks_E'] = df['pip2_E'] + df['pim_E']\n",
    "        df['ks_px'] = df['pip2_px'] + df['pim_px']\n",
    "        df['ks_py'] = df['pip2_py'] + df['pim_py']\n",
    "        df['ks_pz'] = df['pip2_pz'] + df['pim_pz']\n",
    "        # total mass\n",
    "        df['ks_m'] = np.sqrt(df['ks_E']**2 - df['ks_px']**2 - df['ks_py']**2 - df['ks_pz']**2)\n",
    "        # mass squared\n",
    "        df['ks_m2'] = df['ks_E']**2 - df['ks_px']**2 - df['ks_py']**2 - df['ks_pz']**2\n",
    "\n",
    "        # delta++ (pip1 + proton)\n",
    "        # 4-vector components\n",
    "        df['delta_E'] = df['pip1_E'] + df['p_E']\n",
    "        df['delta_px'] = df['pip1_px'] + df['p_px']\n",
    "        df['delta_py'] = df['pip1_py'] + df['p_py']\n",
    "        df['delta_pz'] = df['pip1_pz'] + df['p_pz']\n",
    "        # total mass\n",
    "        df['delta_m'] = np.sqrt(df['delta_E']**2 - df['delta_px']**2 - df['delta_py']**2 - df['delta_pz']**2)\n",
    "        # mass squared\n",
    "        df['delta_m2'] = df['delta_E']**2 - df['delta_px']**2 - df['delta_py']**2 - df['delta_pz']**2\n",
    "\n",
    "        # lambda (proton + kMinus)\n",
    "        # 4-vector components\n",
    "        df['lambda_E'] = df['p_E'] + df['km_E']\n",
    "        df['lambda_px'] = df['p_px'] + df['km_px']\n",
    "        df['lambda_py'] = df['p_py'] + df['km_py']\n",
    "        df['lambda_pz'] = df['p_pz'] + df['km_pz']\n",
    "        # total mass\n",
    "        df['lambda_m'] = np.sqrt(df['lambda_E']**2 - df['lambda_px']**2 - df['lambda_py']**2 - df['lambda_pz']**2)\n",
    "        # mass squared\n",
    "        df['lambda_m2'] = df['lambda_E']**2 - df['lambda_px']**2 - df['lambda_py']**2 - df['lambda_pz']**2\n",
    "\n",
    "        # Neutral K* (kMinus + pip1) - for Dalitz plots\n",
    "        # 4-vector components\n",
    "        df['kmpip1_E'] = df['pip1_E'] + df['km_E']\n",
    "        df['kmpip1_px'] = df['pip1_px'] + df['km_px']\n",
    "        df['kmpip1_py'] = df['pip1_py'] + df['km_py']\n",
    "        df['kmpip1_pz'] = df['pip1_pz'] + df['km_pz']\n",
    "        # total mass\n",
    "        df['kmpip1_m'] = np.sqrt(df['kmpip1_E']**2 - df['kmpip1_px']**2 - df['kmpip1_py']**2 - df['kmpip1_pz']**2)\n",
    "        # mass squared\n",
    "        df['kmpip1_m2'] = df['kmpip1_E']**2 - df['kmpip1_px']**2 - df['kmpip1_py']**2 - df['kmpip1_pz']**2\n",
    "\n",
    "        # Charged K* (kShort + pip1) - for Dalitz plots\n",
    "        # 4-vector components\n",
    "        df['kspip1_E'] = df['pip1_E'] + df['ks_E']\n",
    "        df['kspip1_px'] = df['pip1_px'] + df['ks_px']\n",
    "        df['kspip1_py'] = df['pip1_py'] + df['ks_py']\n",
    "        df['kspip1_pz'] = df['pip1_pz'] + df['ks_pz']\n",
    "        # total mass\n",
    "        df['kspip1_m'] = np.sqrt(df['kspip1_E']**2 - df['kspip1_px']**2 - df['kspip1_py']**2 - df['kspip1_pz']**2)\n",
    "        # mass squared\n",
    "        df['kspip1_m2'] = df['kspip1_E']**2 - df['kspip1_px']**2 - df['kspip1_py']**2 - df['kspip1_pz']**2\n",
    "\n",
    "        # KKpi (pip1 + kMinus + kShort(pip2 + pim). Final state particles.\n",
    "        # 4-vector components\n",
    "        df['KKpi_E'] = df['pip1_E'] + df['km_E'] + df['ks_E']\n",
    "        df['KKpi_px'] = df['pip1_px'] + df['km_px'] + df['ks_px']\n",
    "        df['KKpi_py'] = df['pip1_py'] + df['km_py'] + df['ks_py']\n",
    "        df['KKpi_pz'] = df['pip1_pz'] + df['km_pz'] + df['ks_pz']\n",
    "        # total mass\n",
    "        df['KKpi_m'] = np.sqrt(df['KKpi_E']**2 - df['KKpi_px']**2 - df['KKpi_py']**2 - df['KKpi_pz']**2)\n",
    "        # mass squared\n",
    "        df['KKpi_m2'] = df['KKpi_E']**2 - df['KKpi_px']**2 - df['KKpi_py']**2 - df['KKpi_pz']**2\n",
    "\n",
    "        return df\n",
    "\n",
    "dfKKpi = createDataFrame(\"KKpi_flat_bestX2_2017.root\", \"pipkmks__B4_M16;1\")\n"
   ]
  },
  {
   "cell_type": "markdown",
   "metadata": {},
   "source": [
    "## Cuts"
   ]
  },
  {
   "cell_type": "code",
   "execution_count": 22,
   "metadata": {},
   "outputs": [],
   "source": [
    "# Define cuts\n",
    "\n",
    "reject_delta = dfKKpi['delta_m'] > 1.4 # delta++ cut\n",
    "reject_lambda = dfKKpi['lambda_m'] > 1.9 # lambda cut\n",
    "keep_kstar_plus = (dfKKpi['kspip1_m'] >= 0.8) & (dfKKpi['kspip1_m'] <= 1.0) # \"charged\" K*(KsPi+)\n",
    "keep_kstar_zero = (dfKKpi['kmpip1_m'] >= 0.8) & (dfKKpi['kmpip1_m'] <= 1.0) # \"neutral\" K*(K-Pi+)\n",
    "reject_kstar_plus = (dfKKpi['kspip1_m'] <= 0.8) | (dfKKpi['kspip1_m'] >= 1.0) # Reject \"charged\" K*(KsPi+)\n",
    "reject_kstar_zero = (dfKKpi['kmpip1_m'] <= 0.8) | (dfKKpi['kmpip1_m'] >= 1.0) # Reject \"neutral\" K*(K-Pi+)\n",
    "select_kShort = (dfKKpi['ks_m'] >= 0.45) & (dfKKpi['ks_m'] <= 0.55) # Select kShort\n",
    "reject_kShort = (dfKKpi['ks_m'] <= 0.45) | (dfKKpi['ks_m'] >= 0.55) # Reject kShort\n",
    "pathlength_sig = dfKKpi['pathlength_sig'] > 5"
   ]
  },
  {
   "cell_type": "markdown",
   "metadata": {},
   "source": [
    "### kShort histogram"
   ]
  },
  {
   "cell_type": "code",
   "execution_count": 23,
   "metadata": {},
   "outputs": [
    {
     "data": {
      "image/png": "[encoded data removed]",
      "text/plain": [
       "<IPython.core.display.Image object>"
      ]
     },
     "metadata": {},
     "output_type": "display_data"
    },
    {
     "name": "stderr",
     "output_type": "stream",
     "text": [
      "Info in <TCanvas::Print>: png file ../_plots/plot.png has been created\n"
     ]
    }
   ],
   "source": [
    "from IPython.display import Image, display\n",
    "\n",
    "def analysis(df):\n",
    "    \n",
    "    ######## APPLY CUTS ########\n",
    "    filtered_df = dfKKpi[select_kShort & pathlength_sig]\n",
    "    ############################\n",
    "\n",
    "    # Create a histogram, canvas then draw\n",
    "    h1 = ROOT.TH1F(\"hNew\", \"kShort; (GeV); Counts\", 60, 0.400, 0.600)\n",
    "    canvas = ROOT.TCanvas(\"c\", \"c\", 800, 600)\n",
    "    # Fill the histogram\n",
    "    for value in filtered_df['ks_m']:\n",
    "        h1.Fill(value)\n",
    "    h1.SetStats(False)\n",
    "    h1.Draw()\n",
    "    \n",
    "    img_path = \"../_plots/plot.png\"\n",
    "    canvas.SaveAs(img_path)\n",
    "    canvas.Close()\n",
    "\n",
    "    # Display the saved image\n",
    "    display(Image(filename=img_path))\n",
    "\n",
    "analysis(dfKKpi)\n"
   ]
  },
  {
   "cell_type": "markdown",
   "metadata": {},
   "source": [
    "### KK $\\pi$ Histogram"
   ]
  },
  {
   "cell_type": "code",
   "execution_count": null,
   "metadata": {},
   "outputs": [],
   "source": []
  },
  {
   "cell_type": "markdown",
   "metadata": {},
   "source": [
    "### Dalitz Plots (kShort + $\\pi$+) vs. (kMinus + $\\pi$+)"
   ]
  },
  {
   "cell_type": "code",
   "execution_count": null,
   "metadata": {},
   "outputs": [],
   "source": []
  }
 ],
 "metadata": {
  "kernelspec": {
   "display_name": "Python 3",
   "language": "python",
   "name": "python3"
  },
  "language_info": {
   "codemirror_mode": {
    "name": "ipython",
    "version": 3
   },
   "file_extension": ".py",
   "mimetype": "text/x-python",
   "name": "python",
   "nbconvert_exporter": "python",
   "pygments_lexer": "ipython3",
   "version": "3.6.8"
  }
 },
 "nbformat": 4,
 "nbformat_minor": 2
}
