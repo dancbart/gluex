{
 "cells": [
  {
   "cell_type": "code",
   "execution_count": 2,
   "metadata": {},
   "outputs": [
    {
     "name": "stdout",
     "output_type": "stream",
     "text": [
      "Welcome to JupyROOT 6.24/04\n"
     ]
    }
   ],
   "source": [
    "import warnings\n",
    "warnings.filterwarnings('error')\n",
    "\n",
    "import pandas as pd\n",
    "import numpy as np\n",
    "import uproot\n",
    "import ROOT\n",
    "\n",
    "def createDataFrame(filename, treename):\n",
    "    with uproot.open(filename) as file:\n",
    "        df = file[treename].arrays(['pip1_E', 'pip1_px', 'pip1_py', 'pip1_pz', 'pip2_E', 'pip2_px', 'pip2_py', 'pip2_pz', 'pim_E', 'pim_px', 'pim_py', 'pim_pz', 'km_E', 'km_px', 'km_py', 'km_pz', 'p_E', 'p_px', 'p_py', 'p_pz'], library=\"pd\")\n",
    "        \n",
    "        ######## DEFINITIONS ########\n",
    "\n",
    "        # pi_plus (pip2) i.e. one of two components of kShort.  the other is pi_minus (pim)\n",
    "        # total mass\n",
    "        # df['pip2_m'] = np.sqrt(df['pip2_E']**2 - df['pip2_px']**2 - df['pip2_py']**2 - df['pip2_pz']**2)\n",
    "        # mass squared\n",
    "        df['pip2_m2'] = df['pip2_E']**2 - df['pip2_px']**2 - df['pip2_py']**2 - df['pip2_pz']**2\n",
    "\n",
    "        # pi_minus (pim) i.e. one of two components of kShort.  the other is pi_plus (pip2)\n",
    "        # total mass\n",
    "        # df['pim_m'] = np.sqrt(df['pim_E']**2 - df['pim_px']**2 - df['pim_py']**2 - df['pim_pz']**2)\n",
    "        # mass squared\n",
    "        df['pim_m2'] = df['pim_E']**2 - df['pim_px']**2 - df['pim_py']**2 - df['pim_pz']**2\n",
    "\n",
    "        # kShort (pip2 + pim)\n",
    "        # 4-vector components\n",
    "        df['ks_E'] = df['pip2_E'] + df['pim_E']\n",
    "        df['ks_px'] = df['pip2_px'] + df['pim_px']\n",
    "        df['ks_py'] = df['pip2_py'] + df['pim_py']\n",
    "        df['ks_pz'] = df['pip2_pz'] + df['pim_pz']\n",
    "        # total mass\n",
    "        df['ks_m'] = np.sqrt(df['ks_E']**2 - df['ks_px']**2 - df['ks_py']**2 - df['ks_pz']**2)\n",
    "        # mass squared\n",
    "        df['ks_m2'] = df['ks_E']**2 - df['ks_px']**2 - df['ks_py']**2 - df['ks_pz']**2\n",
    "\n",
    "        # delta++ (pip1 + proton)\n",
    "        # 4-vector components\n",
    "        df['delta_E'] = df['pip1_E'] + df['p_E']\n",
    "        df['delta_px'] = df['pip1_px'] + df['p_px']\n",
    "        df['delta_py'] = df['pip1_py'] + df['p_py']\n",
    "        df['delta_pz'] = df['pip1_pz'] + df['p_pz']\n",
    "        # total mass\n",
    "        df['delta_m'] = np.sqrt(df['delta_E']**2 - df['delta_px']**2 - df['delta_py']**2 - df['delta_pz']**2)\n",
    "        # mass squared\n",
    "        df['delta_m2'] = df['delta_E']**2 - df['delta_px']**2 - df['delta_py']**2 - df['delta_pz']**2\n",
    "\n",
    "        # lambda (proton + kMinus)\n",
    "        # 4-vector components\n",
    "        df['lambda_E'] = df['p_E'] + df['km_E']\n",
    "        df['lambda_px'] = df['p_px'] + df['km_px']\n",
    "        df['lambda_py'] = df['p_py'] + df['km_py']\n",
    "        df['lambda_pz'] = df['p_pz'] + df['km_pz']\n",
    "        # total mass\n",
    "        df['lambda_m'] = np.sqrt(df['lambda_E']**2 - df['lambda_px']**2 - df['lambda_py']**2 - df['lambda_pz']**2)\n",
    "        # mass squared\n",
    "        df['lambda_m2'] = df['lambda_E']**2 - df['lambda_px']**2 - df['lambda_py']**2 - df['lambda_pz']**2\n",
    "\n",
    "        # kMinus + pip1 (for Dalitz plots)\n",
    "        # 4-vector components\n",
    "        df['kmpi1_E'] = df['pip1_E'] + df['km_E']\n",
    "        df['kmpi1_px'] = df['pip1_px'] + df['km_px']\n",
    "        df['kmpi1_py'] = df['pip1_py'] + df['km_py']\n",
    "        df['kmpi1_pz'] = df['pip1_pz'] + df['km_pz']\n",
    "        # total mass\n",
    "        df['kmpi1_m'] = np.sqrt(df['kmpi1_E']**2 - df['kmpi1_px']**2 - df['kmpi1_py']**2 - df['kmpi1_pz']**2)\n",
    "        # mass squared\n",
    "        df['kmpi1_m2'] = df['kmpi1_E']**2 - df['kmpi1_px']**2 - df['kmpi1_py']**2 - df['kmpi1_pz']**2\n",
    "\n",
    "        # kShort + pip1 (for Dalitz plots)\n",
    "        # 4-vector components\n",
    "        df['kspip1_E'] = df['pip1_E'] + df['ks_E']\n",
    "        df['kspip1_px'] = df['pip1_px'] + df['ks_px']\n",
    "        df['kspip1_py'] = df['pip1_py'] + df['ks_py']\n",
    "        df['kspip1_pz'] = df['pip1_pz'] + df['ks_pz']\n",
    "        # total mass\n",
    "        df['kspip1_m'] = np.sqrt(df['kspip1_E']**2 - df['kspip1_px']**2 - df['kspip1_py']**2 - df['kspip1_pz']**2)\n",
    "        # mass squared\n",
    "        df['kspip1_m2'] = df['kspip1_E']**2 - df['kspip1_px']**2 - df['kspip1_py']**2 - df['kspip1_pz']**2\n",
    "\n",
    "        # KKpi (pip1 + kMinus + kShort(pip2 + pim). Final state particles.\n",
    "        # 4-vector components\n",
    "        df['KKpi_E'] = df['pip1_E'] + df['km_E'] + df['ks_E']\n",
    "        df['KKpi_px'] = df['pip1_px'] + df['km_px'] + df['ks_px']\n",
    "        df['KKpi_py'] = df['pip1_py'] + df['km_py'] + df['ks_py']\n",
    "        df['KKpi_pz'] = df['pip1_pz'] + df['km_pz'] + df['ks_pz']\n",
    "        # total mass\n",
    "        df['KKpi_m'] = np.sqrt(df['KKpi_E']**2 - df['KKpi_px']**2 - df['KKpi_py']**2 - df['KKpi_pz']**2)\n",
    "        # mass squared\n",
    "        df['KKpi_m2'] = df['KKpi_E']**2 - df['KKpi_px']**2 - df['KKpi_py']**2 - df['KKpi_pz']**2\n",
    "\n",
    "        return df\n",
    "\n",
    "df = createDataFrame(\"KKpi_flat_bestX2_2017.root\", \"pipkmks__B4_M16;1\")\n"
   ]
  },
  {
   "cell_type": "markdown",
   "metadata": {},
   "source": [
    "## Cuts"
   ]
  },
  {
   "cell_type": "code",
   "execution_count": null,
   "metadata": {},
   "outputs": [],
   "source": [
    "reject_delta = df['pip1p_m'] > 1.4 # delta++ cut\n",
    "reject_lambda = df['pkm_m'] > 1.9 # lambda cut\n",
    "keep_kstar_plus = (df['kspip1_m'] >= 0.8) & (df['kspip1_m'] <= 1.0) # \"charged\" K*(KsPi+)\n",
    "keep_kstar_zero = (df['kmpip1_m'] >= 0.8) & (df['kmpip1_m'] <= 1.0) # \"neutral\" K*(K-Pi+)\n",
    "reject_kstar_plus = (df['kspip1_m'] <= 0.8) | (df['kspip1_m'] >= 1.0) # Reject \"charged\" K*(KsPi+)\n",
    "reject_kstar_zero = (df['kmpip1_m'] <= 0.8) | (df['kmpip1_m'] >= 1.0) # Reject \"neutral\" K*(K-Pi+)\n",
    "select_kShort = (df['ks_m'] >= 0.45) & (df['ks_m'] <= 0.55) # Select kShort\n",
    "reject_kShort = (df['ks_m'] <= 0.45) | (df['ks_m'] >= 0.55) # Reject kShort"
   ]
  },
  {
   "cell_type": "markdown",
   "metadata": {},
   "source": [
    "### kShort histogram"
   ]
  },
  {
   "cell_type": "code",
   "execution_count": 8,
   "metadata": {},
   "outputs": [
    {
     "ename": "TypeError",
     "evalue": "'function' object is not subscriptable",
     "output_type": "error",
     "traceback": [
      "\u001b[0;31m---------------------------------------------------------------------------\u001b[0m",
      "\u001b[0;31mTypeError\u001b[0m                                 Traceback (most recent call last)",
      "\u001b[0;32m<ipython-input-8-884bf3c981ee>\u001b[0m in \u001b[0;36m<module>\u001b[0;34m\u001b[0m\n\u001b[1;32m     23\u001b[0m     \u001b[0mdisplay\u001b[0m\u001b[0;34m(\u001b[0m\u001b[0mImage\u001b[0m\u001b[0;34m(\u001b[0m\u001b[0mfilename\u001b[0m\u001b[0;34m=\u001b[0m\u001b[0mimg_path\u001b[0m\u001b[0;34m)\u001b[0m\u001b[0;34m)\u001b[0m\u001b[0;34m\u001b[0m\u001b[0;34m\u001b[0m\u001b[0m\n\u001b[1;32m     24\u001b[0m \u001b[0;34m\u001b[0m\u001b[0m\n\u001b[0;32m---> 25\u001b[0;31m \u001b[0manalysis\u001b[0m\u001b[0;34m(\u001b[0m\u001b[0mdf\u001b[0m\u001b[0;34m)\u001b[0m\u001b[0;34m\u001b[0m\u001b[0;34m\u001b[0m\u001b[0m\n\u001b[0m",
      "\u001b[0;32m<ipython-input-8-884bf3c981ee>\u001b[0m in \u001b[0;36manalysis\u001b[0;34m(df)\u001b[0m\n\u001b[1;32m     11\u001b[0m     \u001b[0mcanvas\u001b[0m \u001b[0;34m=\u001b[0m \u001b[0mROOT\u001b[0m\u001b[0;34m.\u001b[0m\u001b[0mTCanvas\u001b[0m\u001b[0;34m(\u001b[0m\u001b[0;34m\"c\"\u001b[0m\u001b[0;34m,\u001b[0m \u001b[0;34m\"c\"\u001b[0m\u001b[0;34m,\u001b[0m \u001b[0;36m800\u001b[0m\u001b[0;34m,\u001b[0m \u001b[0;36m600\u001b[0m\u001b[0;34m)\u001b[0m\u001b[0;34m\u001b[0m\u001b[0;34m\u001b[0m\u001b[0m\n\u001b[1;32m     12\u001b[0m     \u001b[0;31m# Fill the histogram\u001b[0m\u001b[0;34m\u001b[0m\u001b[0;34m\u001b[0m\u001b[0;34m\u001b[0m\u001b[0m\n\u001b[0;32m---> 13\u001b[0;31m     \u001b[0;32mfor\u001b[0m \u001b[0mvalue\u001b[0m \u001b[0;32min\u001b[0m \u001b[0mselectKShort\u001b[0m\u001b[0;34m[\u001b[0m\u001b[0;34m'ks_m'\u001b[0m\u001b[0;34m]\u001b[0m\u001b[0;34m:\u001b[0m\u001b[0;34m\u001b[0m\u001b[0;34m\u001b[0m\u001b[0m\n\u001b[0m\u001b[1;32m     14\u001b[0m         \u001b[0mh1\u001b[0m\u001b[0;34m.\u001b[0m\u001b[0mFill\u001b[0m\u001b[0;34m(\u001b[0m\u001b[0mvalue\u001b[0m\u001b[0;34m)\u001b[0m\u001b[0;34m\u001b[0m\u001b[0;34m\u001b[0m\u001b[0m\n\u001b[1;32m     15\u001b[0m     \u001b[0mh1\u001b[0m\u001b[0;34m.\u001b[0m\u001b[0mSetStats\u001b[0m\u001b[0;34m(\u001b[0m\u001b[0;32mFalse\u001b[0m\u001b[0;34m)\u001b[0m\u001b[0;34m\u001b[0m\u001b[0;34m\u001b[0m\u001b[0m\n",
      "\u001b[0;31mTypeError\u001b[0m: 'function' object is not subscriptable"
     ]
    }
   ],
   "source": [
    "from IPython.display import Image, display\n",
    "\n",
    "# make dataframe to Select kShort\n",
    "def selectKShort(df):\n",
    "    return df[select_kShort]\n",
    "\n",
    "\n",
    "def analysis(df):\n",
    "    # Create a histogram, canvas then draw\n",
    "    h1 = ROOT.TH1F(\"hNew\", \"kShort; (GeV); Counts\", 60, 0.400, 0.600)\n",
    "    canvas = ROOT.TCanvas(\"c\", \"c\", 800, 600)\n",
    "    # Fill the histogram\n",
    "    for value in selectKShort['ks_m']:\n",
    "        h1.Fill(value)\n",
    "    h1.SetStats(False)\n",
    "    h1.Draw()\n",
    "    \n",
    "    img_path = \"../_plots/plot.png\"\n",
    "    canvas.SaveAs(img_path)\n",
    "    canvas.Close()\n",
    "\n",
    "    # Display the saved image\n",
    "    display(Image(filename=img_path))\n",
    "\n",
    "analysis(df)\n"
   ]
  },
  {
   "cell_type": "markdown",
   "metadata": {},
   "source": [
    "### KK $\\pi$ Histogram"
   ]
  },
  {
   "cell_type": "code",
   "execution_count": null,
   "metadata": {},
   "outputs": [],
   "source": []
  },
  {
   "cell_type": "markdown",
   "metadata": {},
   "source": [
    "### Dalitz Plots (kShort + $\\pi$+) vs. (kMinus + $\\pi$+)"
   ]
  },
  {
   "cell_type": "code",
   "execution_count": null,
   "metadata": {},
   "outputs": [],
   "source": []
  }
 ],
 "metadata": {
  "kernelspec": {
   "display_name": "Python 3",
   "language": "python",
   "name": "python3"
  },
  "language_info": {
   "codemirror_mode": {
    "name": "ipython",
    "version": 3
   },
   "file_extension": ".py",
   "mimetype": "text/x-python",
   "name": "python",
   "nbconvert_exporter": "python",
   "pygments_lexer": "ipython3",
   "version": "3.6.8"
  }
 },
 "nbformat": 4,
 "nbformat_minor": 2
}
