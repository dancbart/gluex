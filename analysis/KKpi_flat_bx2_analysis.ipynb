{
 "cells": [
  {
   "cell_type": "code",
   "execution_count": null,
   "metadata": {},
   "outputs": [],
   "source": [
    "# import warnings # for debugging\n",
    "# warnings.filterwarnings('error') # prints line number of warning, supposedly\n",
    "\n",
    "import numpy as np\n",
    "import ROOT\n",
    "\n",
    "def buildDataFrame(fileName, treeName):\n",
    "    df = ROOT.RDataFrame(treeName, fileName)\n",
    "\n",
    "    df = df.Define('pip2_m2', 'pip2_E*pip2_E - pip2_px*pip2_px - pip2_py*pip2_py - pip2_pz*pip2_pz') \\\n",
    "           .Define('pim_m2', 'pim_E*pim_E - pim_px*pim_px - pim_py*pim_py - pim_pz*pim_pz') \\\n",
    "           .Define('ks_E', 'pip2_E + pim_E') \\\n",
    "           .Define('ks_px', 'pip2_px + pim_px') \\\n",
    "           .Define('ks_py', 'pip2_py + pim_py') \\\n",
    "           .Define('ks_pz', 'pip2_pz + pim_pz') \\\n",
    "           .Define('ks_m', 'TMath::Sqrt(ks_E*ks_E - ks_px*ks_px - ks_py*ks_py - ks_pz*ks_pz)') \\\n",
    "           .Define('ks_m2', 'ks_E*ks_E - ks_px*ks_px - ks_py*ks_py - ks_pz*ks_pz') \\\n",
    "           .Define('delta_E', 'pip1_E + p_E') \\\n",
    "           .Define('delta_px', 'pip1_px + p_px') \\\n",
    "           .Define('delta_py', 'pip1_py + p_py') \\\n",
    "           .Define('delta_pz', 'pip1_pz + p_pz') \\\n",
    "           .Define('delta_m', 'TMath::Sqrt(delta_E*delta_E - delta_px*delta_px - delta_py*delta_py - delta_pz*delta_pz)') \\\n",
    "           .Define('delta_m2', 'delta_E*delta_E - delta_px*delta_px - delta_py*delta_py - delta_pz*delta_pz') \\\n",
    "           .Define('lambda_E', 'p_E + km_E') \\\n",
    "           .Define('lambda_px', 'p_px + km_px') \\\n",
    "           .Define('lambda_py', 'p_py + km_py') \\\n",
    "           .Define('lambda_pz', 'p_pz + km_pz') \\\n",
    "           .Define('lambda_m', 'TMath::Sqrt(lambda_E*lambda_E - lambda_px*lambda_px - lambda_py*lambda_py - lambda_pz*lambda_pz)') \\\n",
    "           .Define('lambda_m2', 'lambda_E*lambda_E - lambda_px*lambda_px - lambda_py*lambda_py - lambda_pz*lambda_pz') \\\n",
    "           .Define('kmpip1_E', 'pip1_E + km_E') \\\n",
    "           .Define('kmpip1_px', 'pip1_px + km_px') \\\n",
    "           .Define('kmpip1_py', 'pip1_py + km_py') \\\n",
    "           .Define('kmpip1_pz', 'pip1_pz + km_pz') \\\n",
    "           .Define('kmpip1_m', 'TMath::Sqrt(kmpip1_E*kmpip1_E - kmpip1_px*kmpip1_px - kmpip1_py*kmpip1_py - kmpip1_pz*kmpip1_pz)') \\\n",
    "           .Define('kmpip1_m2', 'kmpip1_E*kmpip1_E - kmpip1_px*kmpip1_px - kmpip1_py*kmpip1_py - kmpip1_pz*kmpip1_pz') \\\n",
    "           .Define('kspip1_E', 'pip1_E + ks_E') \\\n",
    "           .Define('kspip1_px', 'pip1_px + ks_px') \\\n",
    "           .Define('kspip1_py', 'pip1_py + ks_py') \\\n",
    "           .Define('kspip1_pz', 'pip1_pz + ks_pz') \\\n",
    "           .Define('kspip1_m', 'TMath::Sqrt(kspip1_E*kspip1_E - kspip1_px*kspip1_px - kspip1_py*kspip1_py - kspip1_pz*kspip1_pz)') \\\n",
    "           .Define('kspip1_m2', 'kspip1_E*kspip1_E - kspip1_px*kspip1_px - kspip1_py*kspip1_py - kspip1_pz*kspip1_pz') \\\n",
    "           .Define('KKpi_E', 'pip1_E + km_E + ks_E') \\\n",
    "           .Define('KKpi_px', 'pip1_px + km_px + ks_px') \\\n",
    "           .Define('KKpi_py', 'pip1_py + km_py + ks_py') \\\n",
    "           .Define('KKpi_pz', 'pip1_pz + km_pz + ks_pz') \\\n",
    "           .Define('KKpi_m', 'TMath::Sqrt(KKpi_E*KKpi_E - KKpi_px*KKpi_px - KKpi_py*KKpi_py - KKpi_pz*KKpi_pz)') \\\n",
    "           .Define('KKpi_m2', 'KKpi_E*KKpi_E - KKpi_px*KKpi_px - KKpi_py*KKpi_py - KKpi_pz*KKpi_pz')\n",
    "\n",
    "    return df\n",
    "\n",
    "dfKKpi = buildDataFrame(\"KKpi_flat_bestX2_2017.root\", \"pipkmks__B4_M16;1\")\n"
   ]
  },
  {
   "cell_type": "markdown",
   "metadata": {},
   "source": [
    "## Cuts"
   ]
  },
  {
   "cell_type": "code",
   "execution_count": null,
   "metadata": {},
   "outputs": [],
   "source": [
    "# Define cuts\n",
    "\n",
    "pathlength_sig = 'pathlength_sig > 5' # pathlength significance cut\n",
    "reject_delta = 'delta_m > 1.4' # delta++ cut\n",
    "reject_lambda = 'lambda_m > 1.9' # lambda cut\n",
    "keep_kstar_plus = 'kspip1_m >= 0.8 && kspip1_m <= 1.0' # \"charged\" K*(KsPi+)\n",
    "keep_kstar_zero = 'kmpip1_m >= 0.8 && kmpip1_m <= 1.0' # \"neutral\" K*(K-Pi+)\n",
    "reject_kstar_plus = 'kspip1_m <= 0.8 || kspip1_m >= 1.0' # Reject \"charged\" K*(KsPi+)\n",
    "reject_kstar_zero = 'kmpip1_m <= 0.8 || kmpip1_m >= 1.0' # Reject \"neutral\" K*(K-Pi+)\n",
    "select_kShort = 'ks_m >= 0.45 && ks_m <= 0.55' # Select kShort\n",
    "reject_kShort = 'ks_m <= 0.45 || ks_m >= 0.55' # Reject kShort\n",
    "select_KKpi = 'KKpi_m >= 1.0 && KKpi_m <= 1.8' # Select KKpi\n",
    "\n"
   ]
  },
  {
   "cell_type": "markdown",
   "metadata": {},
   "source": [
    "### kShort histogram"
   ]
  },
  {
   "cell_type": "code",
   "execution_count": null,
   "metadata": {},
   "outputs": [],
   "source": [
    "from IPython.display import Image, display\n",
    "\n",
    "def analysis(df):\n",
    "\n",
    "    ######## APPLY CUTS ########\n",
    "    dfFiltered = df.Filter(pathlength_sig).Filter(select_kShort) \\\n",
    "    ############################\n",
    "\n",
    "    canvas = ROOT.TCanvas(\"c\", \"c\", 800, 600)\n",
    "    h1 = dfFiltered.Histo1D(('ks_m', 'ks_m', 60, 0.3, 0.7), 'ks_m')\n",
    "    h1.SetStats(False)\n",
    "    h1.Draw()\n",
    "\n",
    "    img_path = \"../_plots/_TESThistogram.png\"\n",
    "    canvas.SaveAs(img_path)  # Saves the canvas as an image\n",
    "    canvas.Close()\n",
    "\n",
    "    display(Image(filename=img_path))\n",
    "\n",
    "\n",
    "analysis(dfKKpi)\n"
   ]
  },
  {
   "cell_type": "markdown",
   "metadata": {},
   "source": [
    "### KK $\\pi$ Histogram"
   ]
  },
  {
   "cell_type": "code",
   "execution_count": null,
   "metadata": {},
   "outputs": [],
   "source": [
    "from IPython.display import Image, display\n",
    "\n",
    "def plotting(df):\n",
    "    \n",
    "    ######## APPLY CUTS ########\n",
    "    dfFiltered = df.Filter(keep_kstar_plus).Filter(reject_kstar_zero).Filter(select_kShort).Filter(pathlength_sig).Filter(reject_delta).Filter(reject_lambda)\n",
    "    ############################\n",
    "\n",
    "    canvas = ROOT.TCanvas(\"c\", \"c\", 800, 600)\n",
    "    h1 = dfFiltered.Histo1D(('KKpi_m', 'KKpi', 60, 1.0, 1.8), 'KKpi_m')\n",
    "    h1.SetStats(False)\n",
    "    h1.Draw()\n",
    "    \n",
    "    img_path = \"../_plots/KKpi.png\"\n",
    "    canvas.SaveAs(img_path)\n",
    "    canvas.Close()\n",
    "\n",
    "    # Display the saved image\n",
    "    display(Image(filename=img_path))\n",
    "\n",
    "plotting(dfKKpi)"
   ]
  },
  {
   "cell_type": "markdown",
   "metadata": {},
   "source": [
    "### Dalitz Plots (kShort + $\\pi$+) vs. (kMinus + $\\pi$+)"
   ]
  },
  {
   "cell_type": "code",
   "execution_count": null,
   "metadata": {},
   "outputs": [],
   "source": [
    "from IPython.display import Image, display\n",
    "\n",
    "def dalitzPlot(df):\n",
    "    \n",
    "    ######## APPLY CUTS ########\n",
    "    dfFiltered = df.Filter(pathlength_sig).Filter(select_KKpi)\n",
    "    ############################\n",
    "\n",
    "    h2 = dfFiltered.Histo2D(('DalitzPlot', 'DalitzPlot', 60, 0.1, 1.4, 60, 0.1, 1.4), 'kspip1_m2', 'kmpip1_m2')\n",
    "    canvas = ROOT.TCanvas(\"c\", \"c\", 800, 600)\n",
    "    h2.SetStats(False)\n",
    "    h2.Draw(\"colz\")\n",
    "    canvas.Update()\n",
    "    \n",
    "    img_path = \"../_plots/_dalitzTEST.png\"\n",
    "    canvas.SaveAs(img_path)\n",
    "    canvas.Close()\n",
    "\n",
    "    # Display the saved image\n",
    "    display(Image(filename=img_path))\n",
    "\n",
    "dalitzPlot(dfKKpi)"
   ]
  },
  {
   "cell_type": "markdown",
   "metadata": {},
   "source": [
    "## Fitting: define functions"
   ]
  },
  {
   "cell_type": "code",
   "execution_count": null,
   "metadata": {},
   "outputs": [],
   "source": [
    "# Create various functions from 'ROOT' framework for fitting to histograms\n",
    "\n",
    "# Exponential\n",
    "exp = ROOT.TF1(\"exp\", \"TMath::Exp([0] + [1] * x + [2] * x * x)\", 1.2, 1.7) # c++ code defines this exponential as 'bkg'\n",
    "\n",
    "# Breit-Wigner function\n",
    "bw = ROOT.TF1(\"bw\", \"breitwigner(0)\", 1.2, 1.7); # used to have BreitWigner(x, [4], [5])\n",
    "# bw = ROOT.TF1(\"bw\", \"TMath::BreitWigner(x, [0], [1])\", 0.4, 0.6)\n",
    "\n",
    "# Voigtian function\n",
    "voigtian = ROOT.TF1(\"voigtian\", \"[0]*TMath::Voigt(x - [1], [2], [3])\", 1.2, 1.7)\n",
    "\n",
    "# Voigtian with RooVoigtian\n",
    "# ???\n",
    "\n",
    "######## COMBINED FUNCTIONS ########\n",
    "\n",
    "# Voigtian + Exponential(3 parameters)\n",
    "voigtian_plus_exp = ROOT.TF1(\"voigt_plus_expo3\", \"voigtian + exp\", 0.4, 0.6)\n",
    "voigtian_plus_exp.SetParameter(0, 4.5E2)\n",
    "voigtian_plus_exp.SetParameter(1, 1.45807E0)\n",
    "voigtian_plus_exp.SetParameter(2, 1.0E-02)\n",
    "voigtian_plus_exp.SetParameter(3, 3.81110E-06)\n",
    "voigtian_plus_exp.SetParameter(4, -6.47E0)\n",
    "voigtian_plus_exp.SetParameter(5, 9.29E0)\n",
    "voigtian_plus_exp.SetParameter(6, -2.970E0)"
   ]
  },
  {
   "cell_type": "markdown",
   "metadata": {},
   "source": [
    "## Fitting: plots"
   ]
  },
  {
   "cell_type": "code",
   "execution_count": null,
   "metadata": {},
   "outputs": [],
   "source": [
    "from IPython.display import Image, display\n",
    "\n",
    "def fitting(df):\n",
    "    \n",
    "    ######## APPLY CUTS ########\n",
    "    dfFiltered = df.Filter(keep_kstar_plus).Filter(reject_kstar_zero).Filter(select_kShort).Filter(pathlength_sig).Filter(reject_delta).Filter(reject_lambda)\n",
    "    ############################\n",
    "\n",
    "    canvas = ROOT.TCanvas(\"c\", \"c\", 800, 600)\n",
    "    h1 = dfFiltered.Histo1D(('KKpi_m', 'KKpi', 60, 1.0, 1.8), 'KKpi_m')\n",
    "    h1.SetStats(False)\n",
    "    h1.Fit(voigtian_plus_exp, \"RV\")\n",
    "    h1.Draw()\n",
    "    voigtian_plus_exp.Draw(\"same\")\n",
    "    \n",
    "    img_path = \"../_plots/_KKpi_FIT_TEST.png\"\n",
    "    canvas.SaveAs(img_path)\n",
    "    canvas.Close()\n",
    "\n",
    "    # Display the saved image\n",
    "    display(Image(filename=img_path))\n",
    "\n",
    "fitting(dfKKpi)"
   ]
  }
 ],
 "metadata": {
  "kernelspec": {
   "display_name": "Python 3",
   "language": "python",
   "name": "python3"
  },
  "language_info": {
   "codemirror_mode": {
    "name": "ipython",
    "version": 3
   },
   "file_extension": ".py",
   "mimetype": "text/x-python",
   "name": "python",
   "nbconvert_exporter": "python",
   "pygments_lexer": "ipython3",
   "version": "3.6.8"
  }
 },
 "nbformat": 4,
 "nbformat_minor": 2
}
