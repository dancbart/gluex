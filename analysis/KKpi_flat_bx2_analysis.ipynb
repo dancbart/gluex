{
 "cells": [
  {
   "cell_type": "code",
   "execution_count": 41,
   "metadata": {},
   "outputs": [],
   "source": [
    "# import warnings # for debugging\n",
    "# warnings.filterwarnings('error') # prints line number of warning, supposedly\n",
    "\n",
    "import numpy as np\n",
    "import ROOT\n",
    "\n",
    "def buildDataFrame(fileName, treeName):\n",
    "    df = ROOT.RDataFrame(treeName, fileName)\n",
    "\n",
    "    df = df.Define('pip2_m2', 'pip2_E*pip2_E - pip2_px*pip2_px - pip2_py*pip2_py - pip2_pz*pip2_pz') \\\n",
    "           .Define('pim_m2', 'pim_E*pim_E - pim_px*pim_px - pim_py*pim_py - pim_pz*pim_pz') \\\n",
    "           .Define('ks_E', 'pip2_E + pim_E') \\\n",
    "           .Define('ks_px', 'pip2_px + pim_px') \\\n",
    "           .Define('ks_py', 'pip2_py + pim_py') \\\n",
    "           .Define('ks_pz', 'pip2_pz + pim_pz') \\\n",
    "           .Define('ks_m', 'TMath::Sqrt(ks_E*ks_E - ks_px*ks_px - ks_py*ks_py - ks_pz*ks_pz)') \\\n",
    "           .Define('ks_m2', 'ks_E*ks_E - ks_px*ks_px - ks_py*ks_py - ks_pz*ks_pz') \\\n",
    "           .Define('delta_E', 'pip1_E + p_E') \\\n",
    "           .Define('delta_px', 'pip1_px + p_px') \\\n",
    "           .Define('delta_py', 'pip1_py + p_py') \\\n",
    "           .Define('delta_pz', 'pip1_pz + p_pz') \\\n",
    "           .Define('delta_m', 'TMath::Sqrt(delta_E*delta_E - delta_px*delta_px - delta_py*delta_py - delta_pz*delta_pz)') \\\n",
    "           .Define('delta_m2', 'delta_E*delta_E - delta_px*delta_px - delta_py*delta_py - delta_pz*delta_pz') \\\n",
    "           .Define('lambda_E', 'p_E + km_E') \\\n",
    "           .Define('lambda_px', 'p_px + km_px') \\\n",
    "           .Define('lambda_py', 'p_py + km_py') \\\n",
    "           .Define('lambda_pz', 'p_pz + km_pz') \\\n",
    "           .Define('lambda_m', 'TMath::Sqrt(lambda_E*lambda_E - lambda_px*lambda_px - lambda_py*lambda_py - lambda_pz*lambda_pz)') \\\n",
    "           .Define('lambda_m2', 'lambda_E*lambda_E - lambda_px*lambda_px - lambda_py*lambda_py - lambda_pz*lambda_pz') \\\n",
    "           .Define('kmpip1_E', 'pip1_E + km_E') \\\n",
    "           .Define('kmpip1_px', 'pip1_px + km_px') \\\n",
    "           .Define('kmpip1_py', 'pip1_py + km_py') \\\n",
    "           .Define('kmpip1_pz', 'pip1_pz + km_pz') \\\n",
    "           .Define('kmpip1_m', 'TMath::Sqrt(kmpip1_E*kmpip1_E - kmpip1_px*kmpip1_px - kmpip1_py*kmpip1_py - kmpip1_pz*kmpip1_pz)') \\\n",
    "           .Define('kmpip1_m2', 'kmpip1_E*kmpip1_E - kmpip1_px*kmpip1_px - kmpip1_py*kmpip1_py - kmpip1_pz*kmpip1_pz') \\\n",
    "           .Define('kspip1_E', 'pip1_E + ks_E') \\\n",
    "           .Define('kspip1_px', 'pip1_px + ks_px') \\\n",
    "           .Define('kspip1_py', 'pip1_py + ks_py') \\\n",
    "           .Define('kspip1_pz', 'pip1_pz + ks_pz') \\\n",
    "           .Define('kspip1_m', 'TMath::Sqrt(kspip1_E*kspip1_E - kspip1_px*kspip1_px - kspip1_py*kspip1_py - kspip1_pz*kspip1_pz)') \\\n",
    "           .Define('kspip1_m2', 'kspip1_E*kspip1_E - kspip1_px*kspip1_px - kspip1_py*kspip1_py - kspip1_pz*kspip1_pz') \\\n",
    "           .Define('KKpi_E', 'pip1_E + km_E + ks_E') \\\n",
    "           .Define('KKpi_px', 'pip1_px + km_px + ks_px') \\\n",
    "           .Define('KKpi_py', 'pip1_py + km_py + ks_py') \\\n",
    "           .Define('KKpi_pz', 'pip1_pz + km_pz + ks_pz') \\\n",
    "           .Define('KKpi_m', 'TMath::Sqrt(KKpi_E*KKpi_E - KKpi_px*KKpi_px - KKpi_py*KKpi_py - KKpi_pz*KKpi_pz)') \\\n",
    "           .Define('KKpi_m2', 'KKpi_E*KKpi_E - KKpi_px*KKpi_px - KKpi_py*KKpi_py - KKpi_pz*KKpi_pz')\n",
    "\n",
    "    return df\n",
    "\n",
    "dfKKpi = buildDataFrame(\"KKpi_flat_bestX2_2017.root\", \"pipkmks__B4_M16;1\")\n"
   ]
  },
  {
   "cell_type": "markdown",
   "metadata": {},
   "source": [
    "## Cuts"
   ]
  },
  {
   "cell_type": "code",
   "execution_count": 42,
   "metadata": {},
   "outputs": [],
   "source": [
    "# Define cuts\n",
    "\n",
    "pathlength_sig = 'pathlength_sig > 5' # pathlength significance cut\n",
    "reject_delta = 'delta_m > 1.4' # delta++ cut\n",
    "reject_lambda = 'lambda_m > 1.9' # lambda cut\n",
    "keep_kstar_plus = 'kspip1_m >= 0.8 && kspip1_m <= 1.0' # \"charged\" K*(KsPi+)\n",
    "keep_kstar_zero = 'kmpip1_m >= 0.8 && kmpip1_m <= 1.0' # \"neutral\" K*(K-Pi+)\n",
    "reject_kstar_plus = 'kspip1_m <= 0.8 || kspip1_m >= 1.0' # Reject \"charged\" K*(KsPi+)\n",
    "reject_kstar_zero = 'kmpip1_m <= 0.8 || kmpip1_m >= 1.0' # Reject \"neutral\" K*(K-Pi+)\n",
    "select_kShort = 'ks_m >= 0.45 && ks_m <= 0.55' # Select kShort\n",
    "reject_kShort = 'ks_m <= 0.45 || ks_m >= 0.55' # Reject kShort\n",
    "select_KKpi = 'KKpi_m >= 1.0 && KKpi_m <= 1.8' # Select KKpi\n",
    "\n"
   ]
  },
  {
   "cell_type": "markdown",
   "metadata": {},
   "source": [
    "### kShort histogram"
   ]
  },
  {
   "cell_type": "code",
   "execution_count": 46,
   "metadata": {},
   "outputs": [
    {
     "data": {
      "image/png": "[encoded data removed]",
      "text/plain": [
       "<IPython.core.display.Image object>"
      ]
     },
     "metadata": {},
     "output_type": "display_data"
    },
    {
     "name": "stderr",
     "output_type": "stream",
     "text": [
      "Info in <TCanvas::Print>: png file ../_plots/_TESThistogram.png has been created\n"
     ]
    }
   ],
   "source": [
    "from IPython.display import Image, display\n",
    "\n",
    "def analysis(df):\n",
    "\n",
    "    ######## APPLY CUTS ########\n",
    "    dfFiltered = df.Filter(pathlength_sig).Filter(select_kShort) \\\n",
    "    ############################\n",
    "\n",
    "    canvas = ROOT.TCanvas(\"c\", \"c\", 800, 600)\n",
    "    h1 = dfFiltered.Histo1D(('ks_m', 'ks_m', 60, 0.3, 0.7), 'ks_m')\n",
    "    h1.SetStats(False)\n",
    "    h1.Draw()\n",
    "\n",
    "    img_path = \"../_plots/_TESThistogram.png\"\n",
    "    canvas.SaveAs(img_path)  # Saves the canvas as an image\n",
    "    canvas.Close()\n",
    "\n",
    "    display(Image(filename=img_path))\n",
    "\n",
    "\n",
    "analysis(dfKKpi)\n"
   ]
  },
  {
   "cell_type": "markdown",
   "metadata": {},
   "source": [
    "### KK $\\pi$ Histogram"
   ]
  },
  {
   "cell_type": "code",
   "execution_count": 51,
   "metadata": {},
   "outputs": [
    {
     "data": {
      "image/png": "[encoded data removed]",
      "text/plain": [
       "<IPython.core.display.Image object>"
      ]
     },
     "metadata": {},
     "output_type": "display_data"
    },
    {
     "name": "stderr",
     "output_type": "stream",
     "text": [
      "Info in <TCanvas::Print>: png file ../_plots/KKpi.png has been created\n"
     ]
    }
   ],
   "source": [
    "from IPython.display import Image, display\n",
    "\n",
    "def plotting(df):\n",
    "    \n",
    "    ######## APPLY CUTS ########\n",
    "    dfFiltered = df.Filter(keep_kstar_plus).Filter(reject_kstar_zero).Filter(select_kShort).Filter(pathlength_sig).Filter(reject_delta).Filter(reject_lambda)\n",
    "    ############################\n",
    "\n",
    "    canvas = ROOT.TCanvas(\"c\", \"c\", 800, 600)\n",
    "    h1 = dfFiltered.Histo1D(('KKpi_m', 'KKpi', 60, 1.0, 1.8), 'KKpi_m')\n",
    "    h1.SetStats(False)\n",
    "    h1.Draw()\n",
    "    \n",
    "    img_path = \"../_plots/KKpi.png\"\n",
    "    canvas.SaveAs(img_path)\n",
    "    canvas.Close()\n",
    "\n",
    "    # Display the saved image\n",
    "    display(Image(filename=img_path))\n",
    "\n",
    "plotting(dfKKpi)"
   ]
  },
  {
   "cell_type": "markdown",
   "metadata": {},
   "source": [
    "### Dalitz Plots (kShort + $\\pi$+) vs. (kMinus + $\\pi$+)"
   ]
  },
  {
   "cell_type": "code",
   "execution_count": 49,
   "metadata": {},
   "outputs": [
    {
     "data": {
      "image/png": "[encoded data removed]",
      "text/plain": [
       "<IPython.core.display.Image object>"
      ]
     },
     "metadata": {},
     "output_type": "display_data"
    },
    {
     "name": "stderr",
     "output_type": "stream",
     "text": [
      "Info in <TCanvas::Print>: png file ../_plots/dalitz.png has been created\n"
     ]
    }
   ],
   "source": [
    "from IPython.display import Image, display\n",
    "\n",
    "def dalitzPlot(df):\n",
    "    \n",
    "    ######## APPLY CUTS ########\n",
    "    dfFiltered = df.Filter(pathlength_sig).Filter(select_KKpi)\n",
    "    ############################\n",
    "\n",
    "    h2 = dfFiltered.Histo2D(('DalitzPlot', 'DalitzPlot', 60, 0.1, 1.4, 60, 0.1, 1.4), 'kspip1_m2', 'kmpip1_m2')\n",
    "    canvas = ROOT.TCanvas(\"c\", \"c\", 800, 600)\n",
    "    h2.SetStats(False)\n",
    "    h2.Draw(\"colz\")\n",
    "    canvas.Update()\n",
    "    \n",
    "    img_path = \"../_plots/_dalitzTEST.png\"\n",
    "    canvas.SaveAs(img_path)\n",
    "    canvas.Close()\n",
    "\n",
    "    # Display the saved image\n",
    "    display(Image(filename=img_path))\n",
    "\n",
    "dalitzPlot(dfKKpi)"
   ]
  },
  {
   "cell_type": "markdown",
   "metadata": {},
   "source": [
    "## Fitting: define functions"
   ]
  },
  {
   "cell_type": "code",
   "execution_count": 63,
   "metadata": {},
   "outputs": [
    {
     "name": "stderr",
     "output_type": "stream",
     "text": [
      "input_line_217:2:110: error: use of undeclared identifier 'exp3'\n",
      "Double_t TFormula____id17114482477672915213(Double_t *x,Double_t *p){ return (TMath::Voigt(x[0],p[0],p[1]))+{exp3} ; }\n",
      "                                                                                                             ^\n",
      "input_line_218:2:110: error: use of undeclared identifier 'exp3'\n",
      "Double_t TFormula____id17114482477672915213(Double_t *x,Double_t *p){ return (TMath::Voigt(x[0],p[0],p[1]))+{exp3} ; }\n",
      "                                                                                                             ^\n",
      "Error in <prepareMethod>: Can't compile function TFormula____id17114482477672915213 prototype with arguments Double_t*,Double_t*\n",
      "Error in <TFormula::InputFormulaIntoCling>: Error compiling formula expression in Cling\n",
      "Error in <TFormula::ProcessFormula>: \"exp3\" has not been matched in the formula expression\n",
      "Error in <TFormula::ProcessFormula>: Formula \"(TMath::Voigt(x,[p0],[p1]))+exp3\" is invalid !\n"
     ]
    }
   ],
   "source": [
    "# Create various functions from 'ROOT' framework for fitting to histograms\n",
    "\n",
    "# Gaussian\n",
    "gaus = ROOT.TF1(\"gaus\", \"gaus\", 0.4, 0.6)\n",
    "gaus.SetParameter(0, 1)\n",
    "gaus.SetParameter(1, 0.5)\n",
    "gaus.SetParameter(2, 0.1)\n",
    "\n",
    "# Exponential, with 2 parameters\n",
    "exp = ROOT.TF1(\"expo\", \"expo\", 0.4, 0.6)\n",
    "exp.SetParameter(0, 1)\n",
    "exp.SetParameter(1, -1)\n",
    "\n",
    "# Exponential, with 3 parameters\n",
    "exp3 = ROOT.TF1(\"expo3\", \"expo\", 0.4, 0.6)\n",
    "exp3.SetParameter(0, 1)\n",
    "exp3.SetParameter(1, -1)\n",
    "exp3.SetParameter(2, 0.1)\n",
    "\n",
    "# Breit-Wigner function\n",
    "bw = ROOT.TF1(\"bw\", \"TMath::BreitWigner(x, [0], [1])\", 0.4, 0.6)\n",
    "bw.SetParameter(0, 0.5)\n",
    "bw.SetParameter(1, 0.1)\n",
    "\n",
    "# Voigtian function\n",
    "voigt = ROOT.TF1(\"voigt\", \"TMath::Voigt(x, [0], [1])\", 0.4, 0.6)\n",
    "voigt.SetParameter(0, 0.5)\n",
    "voigt.SetParameter(1, 0.1)\n",
    "\n",
    "# Voigtian with RooVoigtian\n",
    "# ???\n",
    "\n",
    "######## COMBINED FUNCTIONS ########\n",
    "\n",
    "# Voigtian + Exponential(3 parameters)\n",
    "voigt_plus_exp3 = ROOT.TF1(\"voigt_plus_expo3\", \"voigt + exp3\", 0.4, 0.6)\n",
    "voigt_plus_exp3.SetParameter(0, 4.5E2)\n",
    "voigt_plus_exp3.SetParameter(1, 1.45807E0)\n",
    "voigt_plus_exp3.SetParameter(2, 1.0E-02)\n",
    "voigt_plus_exp3.SetParameter(3, 3.81110E-06)\n",
    "voigt_plus_exp3.SetParameter(4, -1.0E0)\n",
    "\n"
   ]
  },
  {
   "cell_type": "markdown",
   "metadata": {},
   "source": [
    "## Fitting: plots"
   ]
  },
  {
   "cell_type": "code",
   "execution_count": 62,
   "metadata": {},
   "outputs": [
    {
     "data": {
      "image/png": "[encoded data removed]",
      "text/plain": [
       "<IPython.core.display.Image object>"
      ]
     },
     "metadata": {},
     "output_type": "display_data"
    },
    {
     "name": "stdout",
     "output_type": "stream",
     "text": [
      "Unknown function: voigt_plus_exp3\n"
     ]
    },
    {
     "name": "stderr",
     "output_type": "stream",
     "text": [
      "Info in <TCanvas::Print>: png file ../_plots/_KKpi_FIT_TEST.png has been created\n"
     ]
    }
   ],
   "source": [
    "from IPython.display import Image, display\n",
    "\n",
    "def fitting(df):\n",
    "    \n",
    "    ######## APPLY CUTS ########\n",
    "    dfFiltered = df.Filter(keep_kstar_plus).Filter(reject_kstar_zero).Filter(select_kShort).Filter(pathlength_sig).Filter(reject_delta).Filter(reject_lambda)\n",
    "    ############################\n",
    "\n",
    "    canvas = ROOT.TCanvas(\"c\", \"c\", 800, 600)\n",
    "    h1 = dfFiltered.Histo1D(('KKpi_m', 'KKpi', 60, 1.0, 1.8), 'KKpi_m')\n",
    "    h1.SetStats(False)\n",
    "    h1.Fit(\"voigt_plus_exp3\", \"R\")\n",
    "    h1.Draw()\n",
    "    voigt_plus_exp3.Draw(\"same\")\n",
    "    \n",
    "    img_path = \"../_plots/_KKpi_FIT_TEST.png\"\n",
    "    canvas.SaveAs(img_path)\n",
    "    canvas.Close()\n",
    "\n",
    "    # Display the saved image\n",
    "    display(Image(filename=img_path))\n",
    "\n",
    "fitting(dfKKpi)"
   ]
  }
 ],
 "metadata": {
  "kernelspec": {
   "display_name": "Python 3",
   "language": "python",
   "name": "python3"
  },
  "language_info": {
   "codemirror_mode": {
    "name": "ipython",
    "version": 3
   },
   "file_extension": ".py",
   "mimetype": "text/x-python",
   "name": "python",
   "nbconvert_exporter": "python",
   "pygments_lexer": "ipython3",
   "version": "3.6.8"
  }
 },
 "nbformat": 4,
 "nbformat_minor": 2
}
