{
 "cells": [
  {
   "cell_type": "code",
   "execution_count": 16,
   "metadata": {},
   "outputs": [],
   "source": [
    "# import warnings # for debugging\n",
    "# warnings.filterwarnings('error') # prints line number of warning, supposedly\n",
    "\n",
    "import pandas as pd\n",
    "import numpy as np\n",
    "import uproot\n",
    "import ROOT\n",
    "\n",
    "def buildDataFrame(filename, treename):\n",
    "    with uproot.open(filename) as file:\n",
    "        df = file[treename].arrays(['pathlength_sig', 'pip1_E', 'pip1_px', 'pip1_py', 'pip1_pz', 'pip2_E', 'pip2_px', 'pip2_py', 'pip2_pz', 'pim_E', 'pim_px', 'pim_py', 'pim_pz', 'km_E', 'km_px', 'km_py', 'km_pz', 'p_E', 'p_px', 'p_py', 'p_pz'], library=\"pd\")\n",
    "        \n",
    "        ######## DEFINITIONS ########\n",
    "\n",
    "        # pi_plus (pip2) i.e. one of two components of kShort.  the other is pi_minus (pim)\n",
    "        # total mass\n",
    "        # dfKKpi['pip2_m'] = np.sqrt(df['pip2_E']**2 - df['pip2_px']**2 - df['pip2_py']**2 - df['pip2_pz']**2)\n",
    "        # mass squared\n",
    "        df['pip2_m2'] = df['pip2_E']**2 - df['pip2_px']**2 - df['pip2_py']**2 - df['pip2_pz']**2\n",
    "\n",
    "        # pi_minus (pim) i.e. one of two components of kShort.  the other is pi_plus (pip2)\n",
    "        # total mass\n",
    "        # df['pim_m'] = np.sqrt(df['pim_E']**2 - df['pim_px']**2 - df['pim_py']**2 - df['pim_pz']**2)\n",
    "        # mass squared\n",
    "        df['pim_m2'] = df['pim_E']**2 - df['pim_px']**2 - df['pim_py']**2 - df['pim_pz']**2\n",
    "\n",
    "        # kShort (pip2 + pim)\n",
    "        # 4-vector components\n",
    "        df['ks_E'] = df['pip2_E'] + df['pim_E']\n",
    "        df['ks_px'] = df['pip2_px'] + df['pim_px']\n",
    "        df['ks_py'] = df['pip2_py'] + df['pim_py']\n",
    "        df['ks_pz'] = df['pip2_pz'] + df['pim_pz']\n",
    "        # total mass\n",
    "        df['ks_m'] = np.sqrt(df['ks_E']**2 - df['ks_px']**2 - df['ks_py']**2 - df['ks_pz']**2)\n",
    "        # mass squared\n",
    "        df['ks_m2'] = df['ks_E']**2 - df['ks_px']**2 - df['ks_py']**2 - df['ks_pz']**2\n",
    "\n",
    "        # delta++ (pip1 + proton)\n",
    "        # 4-vector components\n",
    "        df['delta_E'] = df['pip1_E'] + df['p_E']\n",
    "        df['delta_px'] = df['pip1_px'] + df['p_px']\n",
    "        df['delta_py'] = df['pip1_py'] + df['p_py']\n",
    "        df['delta_pz'] = df['pip1_pz'] + df['p_pz']\n",
    "        # total mass\n",
    "        df['delta_m'] = np.sqrt(df['delta_E']**2 - df['delta_px']**2 - df['delta_py']**2 - df['delta_pz']**2)\n",
    "        # mass squared\n",
    "        df['delta_m2'] = df['delta_E']**2 - df['delta_px']**2 - df['delta_py']**2 - df['delta_pz']**2\n",
    "\n",
    "        # lambda (proton + kMinus)\n",
    "        # 4-vector components\n",
    "        df['lambda_E'] = df['p_E'] + df['km_E']\n",
    "        df['lambda_px'] = df['p_px'] + df['km_px']\n",
    "        df['lambda_py'] = df['p_py'] + df['km_py']\n",
    "        df['lambda_pz'] = df['p_pz'] + df['km_pz']\n",
    "        # total mass\n",
    "        df['lambda_m'] = np.sqrt(df['lambda_E']**2 - df['lambda_px']**2 - df['lambda_py']**2 - df['lambda_pz']**2)\n",
    "        # mass squared\n",
    "        df['lambda_m2'] = df['lambda_E']**2 - df['lambda_px']**2 - df['lambda_py']**2 - df['lambda_pz']**2\n",
    "\n",
    "        # kMinus + pip1 (Can be neutral K*) - for Dalitz plots\n",
    "        # 4-vector components\n",
    "        df['kmpip1_E'] = df['pip1_E'] + df['km_E']\n",
    "        df['kmpip1_px'] = df['pip1_px'] + df['km_px']\n",
    "        df['kmpip1_py'] = df['pip1_py'] + df['km_py']\n",
    "        df['kmpip1_pz'] = df['pip1_pz'] + df['km_pz']\n",
    "        # total mass\n",
    "        df['kmpip1_m'] = np.sqrt(df['kmpip1_E']**2 - df['kmpip1_px']**2 - df['kmpip1_py']**2 - df['kmpip1_pz']**2)\n",
    "        # mass squared\n",
    "        df['kmpip1_m2'] = df['kmpip1_E']**2 - df['kmpip1_px']**2 - df['kmpip1_py']**2 - df['kmpip1_pz']**2\n",
    "\n",
    "        # kShort + pip1 (Can be charged K*)- for Dalitz plots\n",
    "        # 4-vector components\n",
    "        df['kspip1_E'] = df['pip1_E'] + df['ks_E']\n",
    "        df['kspip1_px'] = df['pip1_px'] + df['ks_px']\n",
    "        df['kspip1_py'] = df['pip1_py'] + df['ks_py']\n",
    "        df['kspip1_pz'] = df['pip1_pz'] + df['ks_pz']\n",
    "        # total mass\n",
    "        df['kspip1_m'] = np.sqrt(df['kspip1_E']**2 - df['kspip1_px']**2 - df['kspip1_py']**2 - df['kspip1_pz']**2)\n",
    "        # mass squared\n",
    "        df['kspip1_m2'] = df['kspip1_E']**2 - df['kspip1_px']**2 - df['kspip1_py']**2 - df['kspip1_pz']**2\n",
    "\n",
    "        # KKpi (pip1 + kMinus + kShort(pip2 + pim). Final state particles. Can be f1(1420) or eta(1405).\n",
    "        # 4-vector components\n",
    "        df['KKpi_E'] = df['pip1_E'] + df['km_E'] + df['ks_E']\n",
    "        df['KKpi_px'] = df['pip1_px'] + df['km_px'] + df['ks_px']\n",
    "        df['KKpi_py'] = df['pip1_py'] + df['km_py'] + df['ks_py']\n",
    "        df['KKpi_pz'] = df['pip1_pz'] + df['km_pz'] + df['ks_pz']\n",
    "        # total mass\n",
    "        df['KKpi_m'] = np.sqrt(df['KKpi_E']**2 - df['KKpi_px']**2 - df['KKpi_py']**2 - df['KKpi_pz']**2)\n",
    "        # mass squared\n",
    "        df['KKpi_m2'] = df['KKpi_E']**2 - df['KKpi_px']**2 - df['KKpi_py']**2 - df['KKpi_pz']**2\n",
    "\n",
    "        return df\n",
    "\n",
    "dfKKpi = buildDataFrame(\"KKpi_flat_bestX2_2017.root\", \"pipkmks__B4_M16;1\")\n"
   ]
  },
  {
   "cell_type": "markdown",
   "metadata": {},
   "source": [
    "## Cuts"
   ]
  },
  {
   "cell_type": "code",
   "execution_count": 9,
   "metadata": {},
   "outputs": [],
   "source": [
    "# Define cuts\n",
    "\n",
    "pathlength_sig = dfKKpi['pathlength_sig'] > 5 # pathlength significance cut\n",
    "reject_delta = dfKKpi['delta_m'] > 1.4 # delta++ cut\n",
    "reject_lambda = dfKKpi['lambda_m'] > 1.9 # lambda cut\n",
    "keep_kstar_plus = (dfKKpi['kspip1_m'] >= 0.8) & (dfKKpi['kspip1_m'] <= 1.0) # \"charged\" K*(KsPi+)\n",
    "keep_kstar_zero = (dfKKpi['kmpip1_m'] >= 0.8) & (dfKKpi['kmpip1_m'] <= 1.0) # \"neutral\" K*(K-Pi+)\n",
    "reject_kstar_plus = (dfKKpi['kspip1_m'] <= 0.8) | (dfKKpi['kspip1_m'] >= 1.0) # Reject \"charged\" K*(KsPi+)\n",
    "reject_kstar_zero = (dfKKpi['kmpip1_m'] <= 0.8) | (dfKKpi['kmpip1_m'] >= 1.0) # Reject \"neutral\" K*(K-Pi+)\n",
    "select_kShort = (dfKKpi['ks_m'] >= 0.45) & (dfKKpi['ks_m'] <= 0.55) # Select kShort\n",
    "reject_kShort = (dfKKpi['ks_m'] <= 0.45) | (dfKKpi['ks_m'] >= 0.55) # Reject kShort\n",
    "# Final state (KKpi) mass range\n",
    "select_KKpi = (dfKKpi['KKpi_m'] >= 1.0) & (dfKKpi['KKpi_m'] <= 1.8) # Select KKpi"
   ]
  },
  {
   "cell_type": "markdown",
   "metadata": {},
   "source": [
    "### kShort histogram"
   ]
  },
  {
   "cell_type": "code",
   "execution_count": 23,
   "metadata": {},
   "outputs": [
    {
     "data": {
      "image/png": "[encoded data removed]",
      "text/plain": [
       "<IPython.core.display.Image object>"
      ]
     },
     "metadata": {},
     "output_type": "display_data"
    },
    {
     "name": "stderr",
     "output_type": "stream",
     "text": [
      "Info in <TCanvas::Print>: png file ../_plots/plot.png has been created\n"
     ]
    }
   ],
   "source": [
    "from IPython.display import Image, display\n",
    "\n",
    "def analysis(df):\n",
    "    \n",
    "    ######## APPLY CUTS ########\n",
    "    filtered_df = dfKKpi[select_kShort & pathlength_sig]\n",
    "    ############################\n",
    "\n",
    "    # Create a histogram, canvas then draw\n",
    "    h1 = ROOT.TH1F(\"hNew\", \"kShort; (GeV); Counts\", 60, 0.400, 0.600)\n",
    "    canvas = ROOT.TCanvas(\"c\", \"c\", 800, 600)\n",
    "    # Fill the histogram\n",
    "    for value in filtered_df['ks_m']:\n",
    "        h1.Fill(value)\n",
    "    h1.SetStats(False)\n",
    "    h1.Draw()\n",
    "    \n",
    "    img_path = \"../_plots/plot.png\"\n",
    "    canvas.SaveAs(img_path)\n",
    "    canvas.Close()\n",
    "\n",
    "    # Display the saved image\n",
    "    display(Image(filename=img_path))\n",
    "\n",
    "analysis(dfKKpi)\n"
   ]
  },
  {
   "cell_type": "markdown",
   "metadata": {},
   "source": [
    "### KK $\\pi$ Histogram"
   ]
  },
  {
   "cell_type": "code",
   "execution_count": 17,
   "metadata": {},
   "outputs": [
    {
     "data": {
      "image/png": "[encoded data removed]",
      "text/plain": [
       "<IPython.core.display.Image object>"
      ]
     },
     "metadata": {},
     "output_type": "display_data"
    },
    {
     "name": "stderr",
     "output_type": "stream",
     "text": [
      "Info in <TCanvas::Print>: png file ../_plots/KKpi.png has been created\n"
     ]
    }
   ],
   "source": [
    "from IPython.display import Image, display\n",
    "\n",
    "def plotting(df):\n",
    "    \n",
    "    ######## APPLY CUTS ########\n",
    "    filtered_df = dfKKpi[select_kShort & pathlength_sig & reject_delta & reject_lambda & keep_kstar_plus & reject_kstar_zero]\n",
    "    ############################\n",
    "\n",
    "    # Create a histogram, canvas then draw\n",
    "    h1 = ROOT.TH1F(\"hNew\", \"KKpi; (GeV); Counts\", 60, 1.00, 2.40)\n",
    "    canvas = ROOT.TCanvas(\"c\", \"c\", 800, 600)\n",
    "    # Fill the histogram\n",
    "    for value in filtered_df['KKpi_m']:\n",
    "        h1.Fill(value)\n",
    "    h1.SetStats(False)\n",
    "    h1.Draw()\n",
    "    \n",
    "    img_path = \"../_plots/KKpi.png\"\n",
    "    canvas.SaveAs(img_path)\n",
    "    canvas.Close()\n",
    "\n",
    "    # Display the saved image\n",
    "    display(Image(filename=img_path))\n",
    "\n",
    "plotting(dfKKpi)"
   ]
  },
  {
   "cell_type": "markdown",
   "metadata": {},
   "source": [
    "### Dalitz Plots (kShort + $\\pi$+) vs. (kMinus + $\\pi$+)"
   ]
  },
  {
   "cell_type": "code",
   "execution_count": 12,
   "metadata": {},
   "outputs": [
    {
     "data": {
      "image/png": "[encoded data removed]",
      "text/plain": [
       "<IPython.core.display.Image object>"
      ]
     },
     "metadata": {},
     "output_type": "display_data"
    },
    {
     "name": "stderr",
     "output_type": "stream",
     "text": [
      "Info in <TCanvas::Print>: png file ../_plots/plot.png has been created\n"
     ]
    }
   ],
   "source": [
    "from IPython.display import Image, display\n",
    "\n",
    "def dalitzPlot(df):\n",
    "    \n",
    "    ######## APPLY CUTS ########\n",
    "    filtered_df = dfKKpi[pathlength_sig & select_KKpi]\n",
    "    ############################\n",
    "\n",
    "    # Create 2D histogram (Dalitz plot) of: kShort + pip1 (Can be charged K*) vs kMinus + pip1 (Can be neutral K*)\n",
    "    h2 = ROOT.TH2F(\"h2\", \"Dalitz Plot; kMinus + pip1 (GeV); kShort + pip1 (GeV)\", 60, 0.4, 1.4, 60, 0.4, 1.4)\n",
    "    # Fill the histogram\n",
    "    for i in range(len(filtered_df['kmpip1_E'])):\n",
    "        h2.Fill(filtered_df['kmpip1_m'].iloc[i], filtered_df['kspip1_m'].iloc[i])\n",
    "    h2.SetStats(False)\n",
    "    \n",
    "    # Create Canvas\n",
    "    canvas = ROOT.TCanvas(\"c\", \"c\", 800, 600)\n",
    "    h2.Draw(\"colz\")\n",
    "    canvas.Update()\n",
    "    \n",
    "    img_path = \"../_plots/dalitz.png\"\n",
    "    canvas.SaveAs(img_path)\n",
    "    canvas.Close()\n",
    "\n",
    "    # Display the saved image\n",
    "    display(Image(filename=img_path))\n",
    "\n",
    "dalitzPlot(dfKKpi)"
   ]
  },
  {
   "cell_type": "markdown",
   "metadata": {},
   "source": [
    "## Fitting: define functions"
   ]
  },
  {
   "cell_type": "code",
   "execution_count": 23,
   "metadata": {},
   "outputs": [],
   "source": [
    "# Create various functions from 'ROOT' framework for fitting to histograms\n",
    "\n",
    "# Gaussian function\n",
    "gaus = ROOT.TF1(\"gaus\", \"gaus\", 0.4, 0.6)\n",
    "gaus.SetParameter(0, 1)\n",
    "gaus.SetParameter(1, 0.5)\n",
    "gaus.SetParameter(2, 0.1)\n",
    "\n",
    "# Exponential, with 2 parameters\n",
    "expo = ROOT.TF1(\"expo\", \"expo\", 0.4, 0.6)\n",
    "expo.SetParameter(0, 1)\n",
    "expo.SetParameter(1, -1)\n",
    "\n",
    "# Exponential, with 3 parameters\n",
    "expo3 = ROOT.TF1(\"expo3\", \"expo\", 0.4, 0.6)\n",
    "expo3.SetParameter(0, 1)\n",
    "expo3.SetParameter(1, -1)\n",
    "expo3.SetParameter(2, 0.1)\n",
    "\n",
    "# Breit-Wigner function\n",
    "bw = ROOT.TF1(\"bw\", \"TMath::BreitWigner(x, [0], [1])\", 0.4, 0.6)\n",
    "bw.SetParameter(0, 0.5)\n",
    "bw.SetParameter(1, 0.1)\n",
    "\n",
    "# Voigtian function\n",
    "voigt = ROOT.TF1(\"voigt\", \"TMath::Voigt(x, [0], [1])\", 0.4, 0.6)\n",
    "voigt.SetParameter(0, 0.5)\n",
    "voigt.SetParameter(1, 0.1)\n",
    "\n",
    "# Voigtian with RooVoigtian\n",
    "# ???\n",
    "\n",
    "######## COMBINED FUNCTIONS ########\n",
    "# Voigtian + Exponential(3 parameters)\n",
    "voigt_plus_expo3 = ROOT.TF1(\"voigt_plus_expo3\", \"TMath::Voigt(x, [0], [1]) + TMath::Exp([2] + [3]*x)\", 0.4, 0.6)\n",
    "voigt_plus_expo3.SetParameter(0, 4.5E2)\n",
    "voigt_plus_expo3.SetParameter(1, 1.45807E0)\n",
    "voigt_plus_expo3.SetParameter(2, 1.0E-02)\n",
    "voigt_plus_expo3.SetParameter(3, 3.81110E-06)\n",
    "\n"
   ]
  },
  {
   "cell_type": "markdown",
   "metadata": {},
   "source": [
    "## Fitting: plots"
   ]
  },
  {
   "cell_type": "code",
   "execution_count": 24,
   "metadata": {},
   "outputs": [
    {
     "ename": "ReferenceError",
     "evalue": "attempt to access a null-pointer",
     "output_type": "error",
     "traceback": [
      "\u001b[0;31m---------------------------------------------------------------------------\u001b[0m",
      "\u001b[0;31mReferenceError\u001b[0m                            Traceback (most recent call last)",
      "\u001b[0;32m<ipython-input-24-f4b974df2b67>\u001b[0m in \u001b[0;36m<module>\u001b[0;34m\u001b[0m\n\u001b[1;32m     27\u001b[0m     \u001b[0mdisplay\u001b[0m\u001b[0;34m(\u001b[0m\u001b[0mImage\u001b[0m\u001b[0;34m(\u001b[0m\u001b[0mfilename\u001b[0m\u001b[0;34m=\u001b[0m\u001b[0mimg_path\u001b[0m\u001b[0;34m)\u001b[0m\u001b[0;34m)\u001b[0m\u001b[0;34m\u001b[0m\u001b[0;34m\u001b[0m\u001b[0m\n\u001b[1;32m     28\u001b[0m \u001b[0;34m\u001b[0m\u001b[0m\n\u001b[0;32m---> 29\u001b[0;31m \u001b[0mfitting\u001b[0m\u001b[0;34m(\u001b[0m\u001b[0mdfKKpi\u001b[0m\u001b[0;34m)\u001b[0m\u001b[0;34m\u001b[0m\u001b[0;34m\u001b[0m\u001b[0m\n\u001b[0m",
      "\u001b[0;32m<ipython-input-24-f4b974df2b67>\u001b[0m in \u001b[0;36mfitting\u001b[0;34m(df)\u001b[0m\n\u001b[1;32m     18\u001b[0m     \u001b[0mh3\u001b[0m\u001b[0;34m.\u001b[0m\u001b[0mDraw\u001b[0m\u001b[0;34m(\u001b[0m\u001b[0;34m)\u001b[0m\u001b[0;34m\u001b[0m\u001b[0;34m\u001b[0m\u001b[0m\n\u001b[1;32m     19\u001b[0m     \u001b[0;31m# Draw the fit\u001b[0m\u001b[0;34m\u001b[0m\u001b[0;34m\u001b[0m\u001b[0;34m\u001b[0m\u001b[0m\n\u001b[0;32m---> 20\u001b[0;31m     \u001b[0mh3\u001b[0m\u001b[0;34m.\u001b[0m\u001b[0mGetFunction\u001b[0m\u001b[0;34m(\u001b[0m\u001b[0;34m\"voigt_plus_expo3\"\u001b[0m\u001b[0;34m)\u001b[0m\u001b[0;34m.\u001b[0m\u001b[0mSetLineColor\u001b[0m\u001b[0;34m(\u001b[0m\u001b[0mROOT\u001b[0m\u001b[0;34m.\u001b[0m\u001b[0mkRed\u001b[0m\u001b[0;34m)\u001b[0m\u001b[0;34m\u001b[0m\u001b[0;34m\u001b[0m\u001b[0m\n\u001b[0m\u001b[1;32m     21\u001b[0m \u001b[0;34m\u001b[0m\u001b[0m\n\u001b[1;32m     22\u001b[0m     \u001b[0mimg_path\u001b[0m \u001b[0;34m=\u001b[0m \u001b[0;34m\"../_plots/KKpi.png\"\u001b[0m\u001b[0;34m\u001b[0m\u001b[0;34m\u001b[0m\u001b[0m\n",
      "\u001b[0;31mReferenceError\u001b[0m: attempt to access a null-pointer"
     ]
    },
    {
     "name": "stderr",
     "output_type": "stream",
     "text": [
      "Warning in <TROOT::Append>: Replacing existing TH1: hNew (Potential memory leak).\n",
      "Warning in <TCanvas::Constructor>: Deleting canvas with same name: c\n",
      "Warning in <ROOT::Fit::FillData>: fit range is outside histogram range, no fit data for xaxis\n",
      "Warning in <Fit>: Fit data is empty \n"
     ]
    }
   ],
   "source": [
    "from IPython.display import Image, display\n",
    "\n",
    "def fitting(df):\n",
    "    \n",
    "    ######## APPLY CUTS ########\n",
    "    filtered_df = dfKKpi[select_kShort & pathlength_sig & reject_delta & reject_lambda & keep_kstar_plus & reject_kstar_zero]\n",
    "    ############################\n",
    "\n",
    "    # Create a histogram, canvas then draw\n",
    "    h3 = ROOT.TH1F(\"hNew\", \"KKpi; (GeV); Counts\", 60, 1.00, 2.40)\n",
    "    canvas = ROOT.TCanvas(\"c\", \"c\", 800, 600)\n",
    "    # Fill the histogram\n",
    "    for value in filtered_df['KKpi_m']:\n",
    "        h3.Fill(value)\n",
    "    h3.SetStats(False)\n",
    "    # Fit the histogram with the combined function\n",
    "    h3.Fit(\"voigt_plus_expo3\", \"R\")\n",
    "    h3.Draw()\n",
    "    # Draw the fit\n",
    "    h3.GetFunction(\"voigt_plus_expo3\").SetLineColor(ROOT.kRed)\n",
    "    \n",
    "    img_path = \"../_plots/KKpi.png\"\n",
    "    canvas.SaveAs(img_path)\n",
    "    canvas.Close()\n",
    "\n",
    "    # Display the saved image\n",
    "    display(Image(filename=img_path))\n",
    "\n",
    "fitting(dfKKpi)"
   ]
  }
 ],
 "metadata": {
  "kernelspec": {
   "display_name": "Python 3",
   "language": "python",
   "name": "python3"
  },
  "language_info": {
   "codemirror_mode": {
    "name": "ipython",
    "version": 3
   },
   "file_extension": ".py",
   "mimetype": "text/x-python",
   "name": "python",
   "nbconvert_exporter": "python",
   "pygments_lexer": "ipython3",
   "version": "3.6.8"
  }
 },
 "nbformat": 4,
 "nbformat_minor": 2
}
