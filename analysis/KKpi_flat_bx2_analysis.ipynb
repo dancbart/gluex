{
 "cells": [
  {
   "cell_type": "code",
   "execution_count": 11,
   "metadata": {},
   "outputs": [
    {
     "name": "stdout",
     "output_type": "stream",
     "text": [
      "['run', 'event', 'trigbits', 'rftime', 'kin_chisq', 'kin_ndf', 'beam_beamid', 'beam_x4_meas', 'beam_p4_meas', 'beam_x4_kin', 'beam_p4_kin', 'pip1_trkid', 'pip1_x4_meas', 'pip1_p4_meas', 'pip1_x4_kin', 'pip1_p4_kin', 'pip1_pid_fom', 'pip1_beta_time', 'pip1_chisq_time', 'pip1_ndf_time', 'pip1_ndf_trk', 'pip1_chisq_trk', 'pip1_ndf_dedx', 'pip1_chisq_dedx', 'pip1_dedx_cdc', 'pip1_dedx_fdc', 'pip1_dedx_tof', 'pip1_dedx_st', 'pip1_ebcal', 'pip1_eprebcal', 'pip1_efcal', 'pip1_bcal_delphi', 'pip1_bcal_delz', 'pip1_fcal_doca', 'km_trkid', 'km_x4_meas', 'km_p4_meas', 'km_x4_kin', 'km_p4_kin', 'km_pid_fom', 'km_beta_time', 'km_chisq_time', 'km_ndf_time', 'km_ndf_trk', 'km_chisq_trk', 'km_ndf_dedx', 'km_chisq_dedx', 'km_dedx_cdc', 'km_dedx_fdc', 'km_dedx_tof', 'km_dedx_st', 'km_ebcal', 'km_eprebcal', 'km_efcal', 'km_bcal_delphi', 'km_bcal_delz', 'km_fcal_doca', 'p_trkid', 'p_x4_meas', 'p_p4_meas', 'p_x4_kin', 'p_p4_kin', 'p_pid_fom', 'p_beta_time', 'p_chisq_time', 'p_ndf_time', 'p_ndf_trk', 'p_chisq_trk', 'p_ndf_dedx', 'p_chisq_dedx', 'p_dedx_cdc', 'p_dedx_fdc', 'p_dedx_tof', 'p_dedx_st', 'p_ebcal', 'p_eprebcal', 'p_efcal', 'p_bcal_delphi', 'p_bcal_delz', 'p_fcal_doca', 'pim_trkid', 'pim_x4_meas', 'pim_p4_meas', 'pim_x4_kin', 'pim_p4_kin', 'pim_pid_fom', 'pim_beta_time', 'pim_chisq_time', 'pim_ndf_time', 'pim_ndf_trk', 'pim_chisq_trk', 'pim_ndf_dedx', 'pim_chisq_dedx', 'pim_dedx_cdc', 'pim_dedx_fdc', 'pim_dedx_tof', 'pim_dedx_st', 'pim_ebcal', 'pim_eprebcal', 'pim_efcal', 'pim_bcal_delphi', 'pim_bcal_delz', 'pim_fcal_doca', 'pip2_trkid', 'pip2_x4_meas', 'pip2_p4_meas', 'pip2_x4_kin', 'pip2_p4_kin', 'pip2_pid_fom', 'pip2_beta_time', 'pip2_chisq_time', 'pip2_ndf_time', 'pip2_ndf_trk', 'pip2_chisq_trk', 'pip2_ndf_dedx', 'pip2_chisq_dedx', 'pip2_dedx_cdc', 'pip2_dedx_fdc', 'pip2_dedx_tof', 'pip2_dedx_st', 'pip2_ebcal', 'pip2_eprebcal', 'pip2_efcal', 'pip2_bcal_delphi', 'pip2_bcal_delz', 'pip2_fcal_doca', 'accidweight', 'e_beam', 'pip1_px', 'pip1_py', 'pip1_pz', 'pip1_E', 'pip2_px', 'pip2_py', 'pip2_pz', 'pip2_E', 'pim_px', 'pim_py', 'pim_pz', 'pim_E', 'km_px', 'km_py', 'km_pz', 'km_E', 'p_px', 'p_py', 'p_pz', 'p_E', 'pip1_px_measured', 'pip1_py_measured', 'pip1_pz_measured', 'pip1_E_measured', 'pip2_px_measured', 'pip2_py_measured', 'pip2_pz_measured', 'pip2_E_measured', 'pim_px_measured', 'pim_py_measured', 'pim_pz_measured', 'pim_E_measured', 'km_px_measured', 'km_py_measured', 'km_pz_measured', 'km_E_measured', 'p_px_measured', 'p_py_measured', 'p_pz_measured', 'p_E_measured', 'pathlength_sig', 'cos_colin', 'vertex_distance', 'mand_t', 'w', 's']\n",
      "RangeIndex(start=0, stop=0, step=1)\n"
     ]
    }
   ],
   "source": [
    "import uproot\n",
    "import pandas as pd\n",
    "\n",
    "file = uproot.open(\"KKpi_flat_bestX2_2017.root\")\n",
    "tree = file[\"pipkmks__B4_M16\"]\n",
    "print(tree.keys())\n",
    "df = pd.DataFrame()\n",
    "\n",
    "print(df.columns)\n"
   ]
  },
  {
   "cell_type": "code",
   "execution_count": 3,
   "metadata": {},
   "outputs": [
    {
     "name": "stdout",
     "output_type": "stream",
     "text": [
      "Index(['pip2pim_E', 'ks_E', 'pip2pim_px', 'ks_px', 'pip2pim_py', 'ks_py',\n",
      "       'pip2pim_pz', 'ks_pz', 'pip2pim_m', 'ks_m'],\n",
      "      dtype='object')\n"
     ]
    }
   ],
   "source": [
    "import pandas as pd\n",
    "import numpy as np\n",
    "import uproot\n",
    "\n",
    "def analysis(filename, treename):\n",
    "    # Open the ROOT file using uproot\n",
    "    with uproot.open(filename) as file:\n",
    "        # Read the necessary branches as arrays\n",
    "        branches = file[treename].arrays(['pip2_E', 'pip2_px', 'pip2_py', 'pip2_pz', 'pim_E', 'pim_px', 'pim_py', 'pim_pz'], library=\"np\")\n",
    "        \n",
    "        # Create an empty DataFrame\n",
    "        df = pd.DataFrame()\n",
    "        \n",
    "        # Perform calculations and add as new columns\n",
    "        df['pip2pim_E'] = branches['pip2_E'] + branches['pim_E']\n",
    "        df['ks_E'] = df['pip2pim_E']  # Alias\n",
    "        \n",
    "        df['pip2pim_px'] = branches['pip2_px'] + branches['pim_px']\n",
    "        df['ks_px'] = df['pip2pim_px']  # Alias\n",
    "        \n",
    "        df['pip2pim_py'] = branches['pip2_py'] + branches['pim_py']\n",
    "        df['ks_py'] = df['pip2pim_py']  # Alias\n",
    "        \n",
    "        df['pip2pim_pz'] = branches['pip2_pz'] + branches['pim_pz']\n",
    "        df['ks_pz'] = df['pip2pim_pz']  # Alias\n",
    "        \n",
    "        # Calculate total mass\n",
    "        df['pip2pim_m'] = np.sqrt(df['pip2pim_E']**2 - df['pip2pim_px']**2 - df['pip2pim_py']**2 - df['pip2pim_pz']**2)\n",
    "        df['ks_m'] = df['pip2pim_m']  # Alias\n",
    "\n",
    "        # Print dataframe columns to check the new ones\n",
    "        print(df.columns)\n",
    "\n",
    "# Replace the filename and treename with your actual file and tree names\n",
    "analysis(\"KKpi_flat_bestX2_2017.root\", \"pipkmks__B4_M16;1\")\n"
   ]
  },
  {
   "cell_type": "code",
   "execution_count": 8,
   "metadata": {},
   "outputs": [
    {
     "name": "stdout",
     "output_type": "stream",
     "text": [
      "env: ROOTSYS=/group/halld/Software/builds/Linux_CentOS7.7-x86_64-gcc4.8.5/root/root-6.24.04\n",
      "env: PYTHONPATH=/group/halld/Software/builds/Linux_CentOS7.7-x86_64-gcc4.8.5/root/root-6.24.04/lib:$PYTHONPATH\n",
      "env: LD_LIBRARY_PATH=/group/halld/Software/builds/Linux_CentOS7.7-x86_64-gcc4.8.5/root/root-6.24.04/lib:$LD_LIBRARY_PATH\n"
     ]
    },
    {
     "ename": "ModuleNotFoundError",
     "evalue": "No module named 'ROOT'",
     "output_type": "error",
     "traceback": [
      "\u001b[0;31m---------------------------------------------------------------------------\u001b[0m",
      "\u001b[0;31mModuleNotFoundError\u001b[0m                       Traceback (most recent call last)",
      "Cell \u001b[0;32mIn[8], line 5\u001b[0m\n\u001b[1;32m      2\u001b[0m get_ipython()\u001b[38;5;241m.\u001b[39mrun_line_magic(\u001b[38;5;124m'\u001b[39m\u001b[38;5;124menv\u001b[39m\u001b[38;5;124m'\u001b[39m, \u001b[38;5;124m'\u001b[39m\u001b[38;5;124mPYTHONPATH=/group/halld/Software/builds/Linux_CentOS7.7-x86_64-gcc4.8.5/root/root-6.24.04/lib:$PYTHONPATH\u001b[39m\u001b[38;5;124m'\u001b[39m)\n\u001b[1;32m      3\u001b[0m get_ipython()\u001b[38;5;241m.\u001b[39mrun_line_magic(\u001b[38;5;124m'\u001b[39m\u001b[38;5;124menv\u001b[39m\u001b[38;5;124m'\u001b[39m, \u001b[38;5;124m'\u001b[39m\u001b[38;5;124mLD_LIBRARY_PATH=/group/halld/Software/builds/Linux_CentOS7.7-x86_64-gcc4.8.5/root/root-6.24.04/lib:$LD_LIBRARY_PATH\u001b[39m\u001b[38;5;124m'\u001b[39m)\n\u001b[0;32m----> 5\u001b[0m \u001b[38;5;28;01mimport\u001b[39;00m \u001b[38;5;21;01mROOT\u001b[39;00m\n",
      "\u001b[0;31mModuleNotFoundError\u001b[0m: No module named 'ROOT'"
     ]
    }
   ],
   "source": [
    "%env ROOTSYS=/group/halld/Software/builds/Linux_CentOS7.7-x86_64-gcc4.8.5/root/root-6.24.04\n",
    "%env PYTHONPATH=/group/halld/Software/builds/Linux_CentOS7.7-x86_64-gcc4.8.5/root/root-6.24.04/lib:$PYTHONPATH\n",
    "%env LD_LIBRARY_PATH=/group/halld/Software/builds/Linux_CentOS7.7-x86_64-gcc4.8.5/root/root-6.24.04/lib:$LD_LIBRARY_PATH\n",
    "\n",
    "import ROOT"
   ]
  },
  {
   "cell_type": "code",
   "execution_count": 11,
   "metadata": {},
   "outputs": [
    {
     "name": "stdout",
     "output_type": "stream",
     "text": [
      "env: ROOTSYS=/group/halld/Software/builds/Linux_CentOS7.7-x86_64-gcc4.8.5/root/root-6.24.04\n",
      "env: PYTHONPATH=/group/halld/Software/builds/Linux_CentOS7.7-x86_64-gcc4.8.5/root/root-6.24.04/lib:$PYTHONPATH\n",
      "env: LD_LIBRARY_PATH=/group/halld/Software/builds/Linux_CentOS7.7-x86_64-gcc4.8.5/root/root-6.24.04/lib:$LD_LIBRARY_PATH\n"
     ]
    },
    {
     "ename": "ModuleNotFoundError",
     "evalue": "No module named 'ROOT'",
     "output_type": "error",
     "traceback": [
      "\u001b[0;31m---------------------------------------------------------------------------\u001b[0m",
      "\u001b[0;31mModuleNotFoundError\u001b[0m                       Traceback (most recent call last)",
      "Cell \u001b[0;32mIn[11], line 4\u001b[0m\n\u001b[1;32m      2\u001b[0m get_ipython()\u001b[38;5;241m.\u001b[39mrun_line_magic(\u001b[38;5;124m'\u001b[39m\u001b[38;5;124menv\u001b[39m\u001b[38;5;124m'\u001b[39m, \u001b[38;5;124m'\u001b[39m\u001b[38;5;124mPYTHONPATH=/group/halld/Software/builds/Linux_CentOS7.7-x86_64-gcc4.8.5/root/root-6.24.04/lib:$PYTHONPATH\u001b[39m\u001b[38;5;124m'\u001b[39m)\n\u001b[1;32m      3\u001b[0m get_ipython()\u001b[38;5;241m.\u001b[39mrun_line_magic(\u001b[38;5;124m'\u001b[39m\u001b[38;5;124menv\u001b[39m\u001b[38;5;124m'\u001b[39m, \u001b[38;5;124m'\u001b[39m\u001b[38;5;124mLD_LIBRARY_PATH=/group/halld/Software/builds/Linux_CentOS7.7-x86_64-gcc4.8.5/root/root-6.24.04/lib:$LD_LIBRARY_PATH\u001b[39m\u001b[38;5;124m'\u001b[39m)\n\u001b[0;32m----> 4\u001b[0m \u001b[38;5;28;01mimport\u001b[39;00m \u001b[38;5;21;01mROOT\u001b[39;00m\n\u001b[1;32m      5\u001b[0m \u001b[38;5;28;01mimport\u001b[39;00m \u001b[38;5;21;01muproot\u001b[39;00m\n\u001b[1;32m      6\u001b[0m \u001b[38;5;28;01mimport\u001b[39;00m \u001b[38;5;21;01mnumpy\u001b[39;00m \u001b[38;5;28;01mas\u001b[39;00m \u001b[38;5;21;01mnp\u001b[39;00m\n",
      "\u001b[0;31mModuleNotFoundError\u001b[0m: No module named 'ROOT'"
     ]
    }
   ],
   "source": [
    "%env ROOTSYS=/group/halld/Software/builds/Linux_CentOS7.7-x86_64-gcc4.8.5/root/root-6.24.04\n",
    "%env PYTHONPATH=/group/halld/Software/builds/Linux_CentOS7.7-x86_64-gcc4.8.5/root/root-6.24.04/lib:$PYTHONPATH\n",
    "%env LD_LIBRARY_PATH=/group/halld/Software/builds/Linux_CentOS7.7-x86_64-gcc4.8.5/root/root-6.24.04/lib:$LD_LIBRARY_PATH\n",
    "import ROOT\n",
    "import uproot\n",
    "import numpy as np\n",
    "\n",
    "def analysis(filename, treename):\n",
    "    # Open the ROOT file using uproot\n",
    "    with uproot.open(filename) as file:\n",
    "        # Extract arrays for the required branches\n",
    "        branches = file[treename].arrays(['pip2_E', 'pip2_px', 'pip2_py', 'pip2_pz', 'pim_E', 'pim_px', 'pim_py', 'pim_pz'], library=\"np\")\n",
    "\n",
    "        # Calculate the quantities before creating the DataFrame\n",
    "        pip2pim_E = branches['pip2_E'] + branches['pim_E']\n",
    "        pip2pim_px = branches['pip2_px'] + branches['pim_px']\n",
    "        pip2pim_py = branches['pip2_py'] + branches['pim_py']\n",
    "        pip2pim_pz = branches['pip2_pz'] + branches['pim_pz']\n",
    "        pip2pim_m = np.sqrt(pip2pim_E**2 - pip2pim_px**2 - pip2pim_py**2 - pip2pim_pz**2)\n",
    "\n",
    "        # Instantiate a TH1F histogram filled with values of \"ks_m\"\n",
    "        # Create a TH1F object\n",
    "        h_ks_m = ROOT.TH1F(\"h_ks_m\", \"Invariant Mass of K_S; Mass (GeV/c^2); Counts\", 50, min(pip2pim_m), max(pip2pim_m))\n",
    "        \n",
    "        # Fill the histogram\n",
    "        for value in pip2pim_m:\n",
    "            h_ks_m.Fill(value)\n",
    "\n",
    "        # Draw the histogram\n",
    "        h_ks_m.Draw()\n",
    "\n",
    "        # Note: To see the histogram, you'll need to run this in a ROOT-enabled environment,\n",
    "        # or use a Jupyter notebook with ROOT integration.\n",
    "\n",
    "# Replace the filename and treename with your actual file and tree names\n",
    "analysis(\"KKpi_flat_bestX2_2017.root\", \"pipkmks__B4_M16;1\")\n"
   ]
  }
 ],
 "metadata": {
  "kernelspec": {
   "display_name": "Python 3",
   "language": "python",
   "name": "python3"
  },
  "language_info": {
   "codemirror_mode": {
    "name": "ipython",
    "version": 3
   },
   "file_extension": ".py",
   "mimetype": "text/x-python",
   "name": "python",
   "nbconvert_exporter": "python",
   "pygments_lexer": "ipython3",
   "version": "3.9.18"
  }
 },
 "nbformat": 4,
 "nbformat_minor": 2
}
