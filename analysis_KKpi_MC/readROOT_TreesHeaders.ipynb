{
 "cells": [
  {
   "cell_type": "code",
   "execution_count": 2,
   "metadata": {},
   "outputs": [
    {
     "name": "stdout",
     "output_type": "stream",
     "text": [
      "current working directory:  /w/halld-scshelf2101/home/dbarton/gluex/analysis\n",
      "changed directory to:  /w/halld-scshelf2101/home/dbarton/gluex/analysisMC\n"
     ]
    },
    {
     "data": {
      "text/plain": [
       "0"
      ]
     },
     "execution_count": 2,
     "metadata": {},
     "output_type": "execute_result"
    }
   ],
   "source": [
    "import os \n",
    "print(\"current working directory: \", os.getcwd())\n",
    "os.chdir(\"/w/halld-scshelf2101/home/dbarton/gluex/analysisMC\")\n",
    "print(\"changed directory to: \", os.getcwd())\n",
    "os.system(\"ls -l\")"
   ]
  },
  {
   "cell_type": "code",
   "execution_count": 3,
   "metadata": {},
   "outputs": [
    {
     "name": "stdout",
     "output_type": "stream",
     "text": [
      "Welcome to JupyROOT 6.24/04\n",
      "Tree Name: pipkmks_flat_THROWN_bestX2\n",
      "Branches:\n",
      " - nParticles\n",
      " - nThrown\n",
      " - Beam_px\n",
      " - Beam_py\n",
      " - Beam_pz\n",
      " - Beam_E\n",
      " - Target_px\n",
      " - Target_py\n",
      " - Target_pz\n",
      " - Target_E\n",
      " - PiPlus1_px\n",
      " - PiPlus1_py\n",
      " - PiPlus1_pz\n",
      " - PiPlus1_E\n",
      " - PiPlus2_px\n",
      " - PiPlus2_py\n",
      " - PiPlus2_pz\n",
      " - PiPlus2_E\n",
      " - PiMinus_px\n",
      " - PiMinus_py\n",
      " - PiMinus_pz\n",
      " - PiMinus_E\n",
      " - KMinus_px\n",
      " - KMinus_py\n",
      " - KMinus_pz\n",
      " - KMinus_E\n",
      " - Proton_px\n",
      " - Proton_py\n",
      " - Proton_pz\n",
      " - Proton_E\n",
      " - Ks_px\n",
      " - Ks_py\n",
      " - Ks_pz\n",
      " - Ks_E\n",
      " - theta_p\n",
      " - mom_p\n",
      " - phi_p\n",
      " - theta_km\n",
      " - mom_km\n",
      " - phi_km\n",
      " - theta_pip1\n",
      " - mom_pip1\n",
      " - phi_pip1\n",
      " - theta_pip2\n",
      " - mom_pip2\n",
      " - phi_pip2\n",
      " - theta_pim\n",
      " - mom_pim\n",
      " - phi_pim\n",
      " - theta_f1\n",
      " - mom_f1\n",
      " - phi_f1\n",
      " - mass_f1\n",
      " - mpippim\n",
      " - mppip1\n",
      " - mKsKm\n",
      " - men_s\n",
      " - men_t\n",
      " - cosTheta_f1_cm\n",
      " - phi_f1_cm\n",
      " - cosTheta_Ks_cm\n",
      " - phi_Ks_cm\n"
     ]
    }
   ],
   "source": [
    "import ROOT\n",
    "\n",
    "filename = \"KKpi_mcTHROWN_vTYLER.root\"\n",
    "\n",
    "def list_trees_and_branches(filename):\n",
    "    file = ROOT.TFile.Open(filename)\n",
    "    # Loop over all keys in the file\n",
    "    for key in file.GetListOfKeys():\n",
    "        obj = key.ReadObj()\n",
    "        # Check if the object is a tree\n",
    "        if isinstance(obj, ROOT.TTree):\n",
    "            tree = obj\n",
    "            print(f\"Tree Name: {tree.GetName()}\")\n",
    "            print(\"Branches:\")\n",
    "            # List all branches in the tree\n",
    "            branches = tree.GetListOfBranches()\n",
    "            for branch in branches:\n",
    "                print(f\" - {branch.GetName()}\")\n",
    "\n",
    "    # Close the file\n",
    "    file.Close()\n",
    "\n",
    "list_trees_and_branches(filename)\n"
   ]
  }
 ],
 "metadata": {
  "kernelspec": {
   "display_name": "Python 3",
   "language": "python",
   "name": "python3"
  },
  "language_info": {
   "codemirror_mode": {
    "name": "ipython",
    "version": 3
   },
   "file_extension": ".py",
   "mimetype": "text/x-python",
   "name": "python",
   "nbconvert_exporter": "python",
   "pygments_lexer": "ipython3",
   "version": "3.6.8"
  }
 },
 "nbformat": 4,
 "nbformat_minor": 2
}
