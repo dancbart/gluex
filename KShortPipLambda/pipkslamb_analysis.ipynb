{
 "cells": [
  {
   "cell_type": "markdown",
   "metadata": {},
   "source": [
    "### Startup"
   ]
  },
  {
   "cell_type": "code",
   "execution_count": 15,
   "metadata": {},
   "outputs": [
    {
     "name": "stdout",
     "output_type": "stream",
     "text": [
      "atiSetup| jupyter-lab called python3.9\n",
      "\n",
      "------------------------------------------------\n",
      "atiSetup| MPI is disabled\n",
      "atiSetup| GPU is disabled\n",
      "------------------------------------------------\n",
      "\n",
      "\n",
      "atiSetup| Loading library libIUAmpTools.so ............  ON\n",
      "atiSetup| Loading library libAmpTools.so ..............  ON\n",
      "atiSetup| Loading library libAmpPlotter.so ............  ON\n",
      "atiSetup| Loading library libAmpsDataIO.so ............  ON\n",
      "atiSetup| Loading library libFSRoot.so ................  ON\n",
      "atiSetup| Loading library libAmpsGen.so ...............  OFF\n",
      "\n",
      "\n",
      "------------------------------------------------\n",
      "------------------------------------------------\n",
      "\n",
      "atiSetup| Saved aliases found in /app/PyAmpTools/src/pyamptools/.aliases.txt, attempting to load...\n",
      "atiSetup| minor warning: Unable to alias omegapiAngles - doesn't exist under ROOT namespace\n",
      "atiSetup| minor warning: Unable to alias URtypes - doesn't exist under ROOT namespace\n",
      "atiSetup| minor warning: Unable to alias URConfig - doesn't exist under ROOT namespace\n",
      "atiSetup| minor warning: Unable to alias FSFitFunctions - doesn't exist under ROOT namespace\n",
      "atiSetup| minor warning: Unable to alias FSFitPrivate - doesn't exist under ROOT namespace\n"
     ]
    }
   ],
   "source": [
    "import ROOT\n",
    "from pyamptools import atiSetup\n",
    "import os\n",
    "os.chdir(\"/w/halld-scshelf2101/home/dbarton/gluex/analysis_KsPipLambda\")\n",
    "os.listdir()\n",
    "atiSetup.setup(globals(), use_fsroot=True)\n",
    "\n",
    "\n",
    "# DEFINE VARIABLES CORRESPOONDING TO THE INDICES\n",
    "DecayingLambda = \"1\"\n",
    "Proton = \"1a\"\n",
    "PiMinus2 = \"1b\"\n",
    "DecayingKShort = \"2\"\n",
    "PiPlus2 = \"2a\"\n",
    "PiMinus1 = \"2b\"\n",
    "PiPlus1 = \"3\"\n",
    "\n",
    "# DEFINE CUTS\n",
    "ROOT.FSCut.defineCut(\"flightSigLambda\",\"VeeLP1>5.0\")\n",
    "ROOT.FSCut.defineCut(\"flightSigKShort\",\"VeeLP2>5.0\") \n",
    "\n",
    "ROOT.FSCut.defineCut(\"chi2DOF\",\"Chi2DOF\",\"0.0\",\"3.0\")\n",
    "ROOT.FSCut.defineCut(\"unusedE\",\"EnUnusedSh\",\"0.0\",\"0.1\") # UnusedEnergy (unused \"shower\"? energy)\n",
    "ROOT.FSCut.defineCut(\"unusedTracks\",\"NumUnusedTracks<1\") # No unused tracks\n",
    "ROOT.FSCut.defineCut(\"coherentPeak\",\"EnPB\",\"8.2\",\"8.8\") # Coherent peak: 8.2 < E_beam < 8.8\n",
    "ROOT.FSCut.defineCut(\"constrainLambda\",f\"MASS({Proton},{PiMinus2})\",\"1.1\",\"1.132\", \"1.08\", \"1.1\", \"1.132\", \"1.22\")\n",
    "ROOT.FSCut.defineCut(\"constrainKShort\",f\"MASS({DecayingKShort})\",\"0.49\",\"0.51\", \"0.0\", \"0.49\", \"0.51\", \"1.0\")\n",
    "ROOT.FSCut.defineCut(\"constrainKSTAR\",f\"MASS({DecayingKShort},{PiPlus1})\",\"0.85\",\"0.95\", \"0.0\", \"0.85\", \"0.95\", \"1.0\")\n",
    "\n",
    "# Other cuts.  ARE THESE RIGHT???\n",
    "ROOT.FSCut.defineCut(\"targetZ\",\"ZVertex\",\"-10.0\",\"10.0\") # Target Z\n",
    "ROOT.FSCut.defineCut(\"missingMass2Lambda\",\"MM2Lambda\",\"-0.1\",\"0.1\") # MissingMass2 for Lambda\n",
    "\n",
    "# DEFINE INVARIANT MASSES\n",
    "# ROOT.FSCut.defineCut(\"constrainLambda\",\"\") # Start unconstrained, then try constraining Lambda\n",
    "# ROOT.FSCut.defineCut(\"lambdaMissingMass\",\"\") # \n",
    "# ROOT.FSCut.defineCut(\"sigma\") # cut on sigma(1385)\n",
    "\n",
    "# TO DO, KEVIN 2/7/2025.  Some plots to start out:\n",
    "# masses, momentum, chi2, RFdeltaT's, Dalitz plots, angle stuff\n",
    "# plot stuff in bins of t, and DeltaE, and t - t_min\n",
    "# what's the code to have a differential cross section?\n",
    "# total cross section?\n",
    "\n",
    "# TOTAL UNCERTAINTY = \n",
    "# stastical uncertainties AND\n",
    "# systematic uncertainties\n",
    "\n",
    "# CORRECTIONS:\n",
    "# acceptance corrections\n",
    "# efficiency corrections\n",
    "# radiative corrections?\n",
    "\n",
    "# ??? what meant by saying \"need to do systematic studies\"?\n",
    "\n",
    "\n",
    "# what's the code to find our what waves we have, s, p, d, f\n",
    "# what is the code to find out what the helicity is\n",
    "# Other interesting things to look at:\n",
    "# - Dalitz plot\n",
    "# - 3D plots\n",
    "# - 2D projections\n",
    "# - 1D projections\n",
    "# - 3D projections\n",
    "\n",
    "# PLOT:\n",
    "# cos_HelicityFrame vs. mass.\n",
    "\n",
    "# sideband subtraction\n",
    "# RF sideband subtraction\n",
    "\n",
    "# combinatorics\n",
    "\n",
    "# IS THIS WHAT'S KNOWN AS STATISTICAL UNCERTAINTY?\n",
    "# hybrid method (bestChi2 and?)\n",
    "# kinematic fit?\n",
    "\n",
    "# LAMBDA MISSING MASS\n",
    "# lambda missing mass\n",
    "# lambda missing mass squared\n",
    "\n",
    "# time of flight cut\n",
    "\n",
    "# ??? How does the kinematic fit work?\n",
    "# ??? how does the calorimeter work?  Like what is measured?  outgoing photons, electrons?\n",
    "\n",
    "# what is the \"physical\" thing we learn from poles, ie. the imaginary part of some amplitude?\n",
    "# what is an Argand plot?\n",
    "\n",
    "# TO ADD TOGETHER A BUNCH OF ROOT FILES:\n",
    "# vim /work/halld/home/ksaldan/fcal_timing/runDSelector.py\n",
    "# vim /work/halld/home/ksaldan/fcal_timing/run_DSelector_TEMPLATE.sh\n",
    "\n",
    "#  2/21/2025 CM notes:\n",
    "\n",
    "# \n",
    "\n"
   ]
  },
  {
   "cell_type": "markdown",
   "metadata": {},
   "source": [
    "### Big file not constrained"
   ]
  },
  {
   "cell_type": "code",
   "execution_count": null,
   "metadata": {},
   "outputs": [],
   "source": [
    "fileName = '/volatile/halld/home/dbarton/pipkslamb/flatten/fall2018/tree_pipkslamb__B4_FSflat_Fa18.root'\n",
    "treeName = 'ntFSGlueX_100000000_1100'"
   ]
  },
  {
   "cell_type": "markdown",
   "metadata": {},
   "source": [
    "### Big file"
   ]
  },
  {
   "cell_type": "code",
   "execution_count": 13,
   "metadata": {},
   "outputs": [],
   "source": [
    "# fileName = '/volatile/halld/home/dbarton/pipkslamb/flatten/fall2018/tree_pipkslamb__B4_M16_M18_FSflat.root'\n",
    "fileName = '/volatile/halld/home/dbarton/pipkslamb/flatten/fall2018/tree_pipkslamb__B4_M16_M18_FSflat_Spr-Fa18.root' # ALL 2018\n",
    "treeName = 'ntFSGlueX_100000000_1100'"
   ]
  },
  {
   "cell_type": "markdown",
   "metadata": {},
   "source": [
    "### Little file"
   ]
  },
  {
   "cell_type": "code",
   "execution_count": 4,
   "metadata": {},
   "outputs": [],
   "source": [
    "fileName = '/volatile/halld/home/dbarton/pipkslamb/flatten/fall2018/tree_pipkslamb__B4_M16_M18_FSFlat_small.root'\n",
    "treeName = 'ntFSGlueX_100000000_1100'"
   ]
  },
  {
   "cell_type": "markdown",
   "metadata": {},
   "source": [
    "### List trees"
   ]
  },
  {
   "cell_type": "code",
   "execution_count": null,
   "metadata": {},
   "outputs": [],
   "source": [
    "def list_trees_and_branches(fileName):\n",
    "    file = ROOT.TFile.Open(fileName)\n",
    "    # Loop over all keys in the file\n",
    "    for key in file.GetListOfKeys():\n",
    "        obj = key.ReadObj()\n",
    "        # Check if the object is a tree\n",
    "        if isinstance(obj, ROOT.TTree):\n",
    "            tree = obj\n",
    "            print(f\"Tree Name: {tree.GetName()}\")\n",
    "            print(\"Branches:\")\n",
    "            # List all branches in the tree\n",
    "            branches = tree.GetListOfBranches()\n",
    "            for branch in branches:\n",
    "                print(f\" - {branch.GetName()}\")\n",
    "\n",
    "    # Close the file\n",
    "    file.Close()\n",
    "\n",
    "list_trees_and_branches(fileName)\n"
   ]
  },
  {
   "cell_type": "markdown",
   "metadata": {},
   "source": [
    "### Chi2/DOF - 2D"
   ]
  },
  {
   "cell_type": "code",
   "execution_count": null,
   "metadata": {},
   "outputs": [],
   "source": [
    "from IPython.display import Image, display\n",
    "latex = ROOT.TLatex()\n",
    "\n",
    "plotTitle = 'Chi2/DOF'\n",
    "axisLabel = 'Chi2/DOF'\n",
    "\n",
    "# INDICES ASSIGNED BY 'flatten':\n",
    "# 1. DecayingLambda (0)   1a. Proton (1)   1b. PiMinus2 (2)\n",
    "# 2. DecayingKShort (3)   2a. PiPlus2 (4)   2b. PiMinus1 (5)\n",
    "# 3. PiPlus1 (6)\n",
    "\n",
    "def plot_hist():\n",
    "\n",
    "    canvas = ROOT.TCanvas('c', 'c', 800, 600)\n",
    "\n",
    "    h1 = ROOT.FSHistogram.getTH2F(fileName, treeName, \"Chi2DOF:Event\", \"(60,0.0,155000000.0,60,0.0,10.0)\", \"\")\n",
    "\n",
    "    h1.SetTitle(plotTitle)\n",
    "    h1.SetStats(False)\n",
    "    # h1.SetLineColor(ROOT.kBlue)\n",
    "    h1.GetXaxis().SetTitle(axisLabel)\n",
    "    h1.GetYaxis().SetTitle('Events')\n",
    "    h1.Draw('colz')\n",
    "    \n",
    "    legend1 = ROOT.TLegend(0.60, 0.80, 0.90, 0.90) # x_left, y_bottom, x_right, y_top\n",
    "    legend1.AddEntry(h1, plotTitle + ' no cuts', 'l')\n",
    "    legend1.Draw('same')\n",
    "\n",
    "    img_path = 'plots/Chi2DOF-Event'\n",
    "    canvas.SaveAs(img_path + '.pdf')\n",
    "    canvas.SaveAs(img_path + '.png')\n",
    "    canvas.Close()\n",
    "    display(Image(filename=img_path + '.png'))\n",
    "    os.remove(img_path + '.png')\n",
    "\n",
    "plot_hist()"
   ]
  },
  {
   "cell_type": "markdown",
   "metadata": {},
   "source": [
    "### Chi2/DOF 1D"
   ]
  },
  {
   "cell_type": "code",
   "execution_count": null,
   "metadata": {},
   "outputs": [],
   "source": [
    "from IPython.display import Image, display\n",
    "latex = ROOT.TLatex()\n",
    "\n",
    "plotTitle = 'Chi2/DOF'\n",
    "axisLabel = 'Chi2/DOF'\n",
    "\n",
    "# INDICES ASSIGNED BY 'flatten':\n",
    "# 1. DecayingLambda (0)   1a. Proton (1)   1b. PiMinus2 (2)\n",
    "# 2. DecayingKShort (3)   2a. PiPlus2 (4)   2b. PiMinus1 (5)\n",
    "# 3. PiPlus1 (6)\n",
    "\n",
    "def plot_hist():\n",
    "\n",
    "    canvas = ROOT.TCanvas('c', 'c', 800, 600)\n",
    "\n",
    "    h1 = ROOT.FSHistogram.getTH1F(fileName, treeName, \"chi2DOF\", \"(80,0.0,10.0)\", \"CUT()\")\n",
    "\n",
    "    h1.SetTitle(plotTitle)\n",
    "    h1.SetStats(False)\n",
    "    h1.SetLineColor(ROOT.kBlue)\n",
    "    h1.GetXaxis().SetTitle(axisLabel)\n",
    "    h1.GetYaxis().SetTitle('Events')\n",
    "    h1.Draw()\n",
    "    \n",
    "    legend1 = ROOT.TLegend(0.60, 0.80, 0.90, 0.90) # x_left, y_bottom, x_right, y_top\n",
    "    legend1.AddEntry(h1, plotTitle + ' no cuts', 'l')\n",
    "    legend1.Draw('same')\n",
    "\n",
    "    img_path = 'plots/Chi2DOF'\n",
    "    canvas.SaveAs(img_path + '.pdf')\n",
    "    canvas.SaveAs(img_path + '.png')\n",
    "    canvas.Close()\n",
    "    display(Image(filename=img_path + '.png'))\n",
    "    os.remove(img_path + '.png')\n",
    "\n",
    "plot_hist()"
   ]
  },
  {
   "cell_type": "markdown",
   "metadata": {},
   "source": [
    "### K Star (KShort Pi Plus)"
   ]
  },
  {
   "cell_type": "code",
   "execution_count": 16,
   "metadata": {},
   "outputs": [
    {
     "data": {
      "image/png": "[encoded data removed]",
      "text/plain": [
       "<IPython.core.display.Image object>"
      ]
     },
     "metadata": {},
     "output_type": "display_data"
    },
    {
     "name": "stdout",
     "output_type": "stream",
     "text": [
      "    CREATING HISTOGRAM... FSRootHist:000013   OKAY           (entries = 19230)\n",
      "    CREATING HISTOGRAM... FSRootHist:000014   OKAY           (entries = 2724)\n"
     ]
    },
    {
     "name": "stderr",
     "output_type": "stream",
     "text": [
      "Info in <TCanvas::Print>: pdf file plots/KsPip_m.pdf has been created\n",
      "Info in <TCanvas::Print>: png file plots/KsPip_m.png has been created\n"
     ]
    }
   ],
   "source": [
    "from IPython.display import Image, display\n",
    "latex = ROOT.TLatex()\n",
    "\n",
    "plotTitle = '\\gamma p \\\\rightarrow K_{s} \\pi^{+} \\Lambda'\n",
    "axisLabel = 'Mass (K_{s} \\pi^{+})'\n",
    "\n",
    "# INDICES ASSIGNED BY 'flatten':\n",
    "# 1. DecayingLambda (0)   1a. Proton (1)   1b. PiMinus2 (2)\n",
    "# 2. DecayingKShort (3)   2a. PiPlus2 (4)   2b. PiMinus1 (5)\n",
    "# 3. PiPlus1 (6)\n",
    "\n",
    "def plot_hist():\n",
    "\n",
    "    # Clear cache when re-plotting/scaling/etc.\n",
    "    ROOT.FSHistogram.clearHistogramCache()\n",
    "\n",
    "    canvas = ROOT.TCanvas('c', 'c', 800, 600)\n",
    "    canvas.SetLeftMargin(0.15)\n",
    "\n",
    "    # h1 = ROOT.FSHistogram.getTH1F(fileName, treeName, f\"MASS({DecayingKShort},{PiPlus1})\", \"(100, 0.05, 2.5)\", \"CUT(chi2DOF,unusedE,unusedTracks,coherentPeak)\")\n",
    "    h2 = ROOT.FSHistogram.getTH1F(fileName, treeName, f\"MASS({DecayingKShort},{PiPlus1})\", \"(100, 0.05, 2.5)\", \"CUT(chi2DOF,unusedE,unusedTracks,coherentPeak,flightSigKShort,flightSigLambda)\")\n",
    "    h3 = ROOT.FSHistogram.getTH1F(fileName, treeName, f\"MASS({DecayingKShort},{PiPlus1})\", \"(100, 0.05, 2.5)\", \"CUT(chi2DOF,unusedE,unusedTracks,coherentPeak,flightSigKShort,flightSigLambda,constrainKSTAR)\")\n",
    "    # h4 = ROOT.FSHistogram.getTH1F(fileName, treeName, f\"MASS({DecayingKShort},{PiPlus1})\", \"(100, 0.05, 2.5)\", \"CUT(chi2DOF,unusedE,unusedTracks,coherentPeak,,constrainKShort,constrainLambda,flightSigKShort,flightSigLambda)\")\n",
    "\n",
    "    # h1.SetTitle(\"\")\n",
    "    # h1.SetTitle(plotTitle)\n",
    "    # h1.SetStats(False)\n",
    "    # h1.SetLineColor(ROOT.kBlack)\n",
    "    # h1.GetXaxis().SetTitle(axisLabel + '[GeV/c^{2}]')\n",
    "    # h1.GetYaxis().SetTitle('Events')\n",
    "    # # h1.Scale(100)\n",
    "\n",
    "    h2.SetTitle(\"\")\n",
    "    h2.SetTitle(plotTitle)\n",
    "    h2.SetStats(False)\n",
    "    h2.SetLineColor(ROOT.kBlack)\n",
    "    h2.GetXaxis().SetTitle(axisLabel + '[GeV/c^{2}]')\n",
    "    h2.GetYaxis().SetTitle('Events')\n",
    "\n",
    "    h3.SetTitle(\"\")\n",
    "    h3.SetTitle(plotTitle)\n",
    "    h3.SetStats(False)\n",
    "    h3.SetLineColor(ROOT.kBlue)\n",
    "    h3.GetXaxis().SetTitle(axisLabel + '[GeV/c^{2}]')\n",
    "    h3.GetYaxis().SetTitle('Events')\n",
    "\n",
    "    # h4.SetTitle(\"\")\n",
    "    # h4.SetTitle(plotTitle)\n",
    "    # h4.SetStats(False)\n",
    "    # h4.SetLineColor(ROOT.kRed)\n",
    "    # h4.GetXaxis().SetTitle(axisLabel + '[GeV/c^{2}]')\n",
    "    # h4.GetYaxis().SetTitle('Events')\n",
    "\n",
    "    # h1.Draw('hist')\n",
    "    h2.Draw('hist')\n",
    "    h3.Draw('hist, same')\n",
    "    # h4.Draw('hist')\n",
    "\n",
    "    legend1 = ROOT.TLegend(0.50, 0.750, 0.90, 0.90) # x_left, y_bottom, x_right, y_top\n",
    "    # legend1.AddEntry(h1, 'initial cuts', 'l')\n",
    "    legend1.AddEntry(h2, 'initial cuts & ks+lambFlightSig', 'l')\n",
    "    legend1.AddEntry(h3, 'initial cuts & ks+lambFlightSig & selK*', 'l')\n",
    "    # legend1.AddEntry(h4, 'initial cuts & selKS-Lamb & ks+lambFlightSig', 'l')\n",
    "    legend1.Draw('same')\n",
    "\n",
    "    img_path = 'plots/KsPip_m'\n",
    "    canvas.SaveAs(img_path + '.pdf')\n",
    "    canvas.SaveAs(img_path + '.png')\n",
    "    canvas.Close()\n",
    "    display(Image(filename=img_path + '.png'))\n",
    "    os.remove(img_path + '.png')\n",
    "\n",
    "plot_hist()"
   ]
  },
  {
   "cell_type": "markdown",
   "metadata": {},
   "source": [
    "### KShort Lambda"
   ]
  },
  {
   "cell_type": "code",
   "execution_count": 17,
   "metadata": {},
   "outputs": [
    {
     "data": {
      "image/png": "[encoded data removed]",
      "text/plain": [
       "<IPython.core.display.Image object>"
      ]
     },
     "metadata": {},
     "output_type": "display_data"
    },
    {
     "name": "stdout",
     "output_type": "stream",
     "text": [
      "    CREATING HISTOGRAM... FSRootHist:000005   OKAY           (entries = 106021)\n",
      "    CREATING HISTOGRAM... FSRootHist:000006   OKAY           (entries = 17535)\n"
     ]
    },
    {
     "name": "stderr",
     "output_type": "stream",
     "text": [
      "Info in <TCanvas::Print>: pdf file plots/KsLamb_m.pdf has been created\n",
      "Info in <TCanvas::Print>: png file plots/KsLamb_m.png has been created\n"
     ]
    }
   ],
   "source": [
    "from IPython.display import Image, display\n",
    "latex = ROOT.TLatex()\n",
    "\n",
    "plotTitle = '\\gamma p \\\\rightarrow K_{s} \\pi^{+} \\Lambda'\n",
    "axisLabel = 'Mass (K_{s} #Lambda)'\n",
    "\n",
    "# INDICES ASSIGNED BY 'flatten':\n",
    "# 1. DecayingLambda (0)   1a. Proton (1)   1b. PiMinus2 (2)\n",
    "# 2. DecayingKShort (3)   2a. PiPlus2 (4)   2b. PiMinus1 (5)\n",
    "# 3. PiPlus1 (6)\n",
    "\n",
    "def plot_hist():\n",
    "\n",
    "    ROOT.FSHistogram.clearHistogramCache()\n",
    "\n",
    "    canvas = ROOT.TCanvas('c', 'c', 800, 600)\n",
    "    canvas.SetLeftMargin(0.15)\n",
    "\n",
    "\n",
    "    h1 = ROOT.FSHistogram.getTH1F(fileName, treeName, f\"MASS({DecayingKShort},{DecayingLambda})\", \"(100, 1.5, 2.5)\", \"CUT(chi2DOF,unusedE,unusedTracks,coherentPeak,constrainLambda,constrainKShort)\")\n",
    "    h2 = ROOT.FSHistogram.getTH1F(fileName, treeName, f\"MASS({DecayingKShort},{DecayingLambda})\", \"(100, 1.5, 2.5)\", \"CUT(chi2DOF,unusedE,unusedTracks,coherentPeak,constrainLambda,constrainKShort,flightSigLambda,flightSigKShort)\")\n",
    "\n",
    "    h1.SetTitle(\"\")\n",
    "    h1.SetTitle(plotTitle)\n",
    "    h1.SetStats(False)\n",
    "    h1.SetLineColor(ROOT.kBlack)\n",
    "    h1.GetXaxis().SetTitle(axisLabel + '[GeV/c^{2}]')\n",
    "    h1.GetYaxis().SetTitle('Events')\n",
    "\n",
    "    h2.SetTitle(\"\")\n",
    "    h2.SetTitle(plotTitle)\n",
    "    h2.SetStats(False)\n",
    "    h2.SetLineColor(ROOT.kRed)\n",
    "    h2.SetLineStyle(1)\n",
    "    h2.GetXaxis().SetTitle(axisLabel + '[GeV/c^{2}]')\n",
    "    h2.GetYaxis().SetTitle('Events')\n",
    "\n",
    "    h1.Draw('hist')\n",
    "    h2.Draw('hist')\n",
    "\n",
    "    legend1 = ROOT.TLegend(0.25, 0.80, 0.60, 0.90) # x_left, y_bottom, x_right, y_top\n",
    "    legend1.AddEntry(h1, 'initial cuts', 'l')\n",
    "    legend1.AddEntry(h2, 'all cuts', 'l')\n",
    "    legend1.Draw('same')\n",
    "\n",
    "    img_path = 'plots/KsLamb_m'\n",
    "    canvas.SaveAs(img_path + '.pdf')\n",
    "    canvas.SaveAs(img_path + '.png')\n",
    "    canvas.Close()\n",
    "    display(Image(filename=img_path + '.png'))\n",
    "    os.remove(img_path + '.png')\n",
    "\n",
    "plot_hist()"
   ]
  },
  {
   "cell_type": "markdown",
   "metadata": {},
   "source": [
    "### Lambda   (proton Pi Minus)"
   ]
  },
  {
   "cell_type": "code",
   "execution_count": null,
   "metadata": {},
   "outputs": [
    {
     "data": {
      "image/png": "[encoded data removed]",
      "text/plain": [
       "<IPython.core.display.Image object>"
      ]
     },
     "metadata": {},
     "output_type": "display_data"
    },
    {
     "name": "stdout",
     "output_type": "stream",
     "text": [
      "    CREATING HISTOGRAM... FSRootHist:000007   OKAY           (entries = 138409617)\n",
      "    CREATING HISTOGRAM... FSRootHist:000008   OKAY           (entries = 1148987)\n",
      "    CREATING HISTOGRAM... FSRootHist:000009   OKAY           (entries = 242785)\n"
     ]
    },
    {
     "name": "stderr",
     "output_type": "stream",
     "text": [
      "Info in <TCanvas::Print>: pdf file plots/Lambda_m.pdf has been created\n",
      "Info in <TCanvas::Print>: png file plots/Lambda_m.png has been created\n"
     ]
    }
   ],
   "source": [
    "from IPython.display import Image, display\n",
    "latex = ROOT.TLatex()\n",
    "\n",
    "plotTitle = '\\gamma p \\\\rightarrow K_{s} \\pi^{+} \\Lambda'\n",
    "axisLabel = 'Lambda: M(Proton \\pi^{-})'\n",
    "\n",
    "# INDICES ASSIGNED BY 'flatten':\n",
    "# 1. DecayingLambda (0)   1a. Proton (1)   1b. PiMinus2 (2)\n",
    "# 2. DecayingKShort (3)   2a. PiPlus2 (4)   2b. PiMinus1 (5)\n",
    "# 3. PiPlus1 (6)\n",
    "\n",
    "def plot_hist():\n",
    "\n",
    "    canvas = ROOT.TCanvas('c', 'c', 800, 600)\n",
    "    canvas.SetLeftMargin(0.15)\n",
    "\n",
    "    # clear histogram cache\n",
    "    ROOT.FSHistogram.clearHistogramCache()\n",
    "\n",
    "    h1 = ROOT.FSHistogram.getTH1F(fileName, treeName, f\"MASS({Proton}, {PiMinus2})\", \"(100, 1.078, 1.28)\", \"\")\n",
    "    h2 = ROOT.FSHistogram.getTH1F(fileName, treeName, f\"MASS({Proton}, {PiMinus2})\", \"(100, 1.078, 1.28)\", \"CUT(chi2DOF,unusedE,unusedTracks,coherentPeak)\")\n",
    "    h3 = ROOT.FSHistogram.getTH1F(fileName, treeName, f\"MASS({Proton}, {PiMinus2})\", \"(100, 1.078, 1.28)\", \"CUT(chi2DOF,unusedE,unusedTracks,coherentPeak,constrainLambda,constrainKShort)\")    \n",
    "\n",
    "    h1.SetTitle(\"\")\n",
    "    h1.SetTitle(plotTitle)\n",
    "    h1.SetStats(False)\n",
    "    h1.SetLineColor(ROOT.kBlack)\n",
    "    h1.GetXaxis().SetTitle(axisLabel + '[GeV/c^{2}]')\n",
    "    h1.GetYaxis().SetTitle('Events')\n",
    "    # h1.Scale(100)\n",
    "\n",
    "    h2.SetTitle(\"\")\n",
    "    h2.SetTitle(plotTitle)\n",
    "    h2.SetStats(False)\n",
    "    h2.SetLineColor(ROOT.kBlack)\n",
    "    # h2.SetLineStyle(9) # set line type to dashed\n",
    "    h2.SetLineWidth(1)\n",
    "    h2.GetXaxis().SetTitle(axisLabel + '[GeV/c^{2}]')\n",
    "    h2.GetYaxis().SetTitle('Events')\n",
    "    # h2.Scale(2)\n",
    "\n",
    "    h3.SetTitle(\"\")\n",
    "    h3.SetTitle(plotTitle)\n",
    "    h3.SetStats(False)\n",
    "    h3.SetLineColor(ROOT.kRed)\n",
    "    h3.SetLineStyle(1)\n",
    "    h3.SetLineWidth(1)\n",
    "    h3.GetXaxis().SetTitle(axisLabel + '[GeV/c^{2}]')\n",
    "    h3.GetYaxis().SetTitle('Events')\n",
    "\n",
    "    # h1.Draw('hist')\n",
    "    h2.Draw('hist')\n",
    "    h3.Draw('same, hist')\n",
    "\n",
    "\n",
    "    legend1 = ROOT.TLegend(0.65, 0.750, 0.90, 0.90) # x_left, y_bottom, x_right, y_top\n",
    "    legend1.AddEntry(h1, ' No cuts', 'l')\n",
    "    legend1.AddEntry(h2, ' initial cuts', 'l')\n",
    "    legend1.AddEntry(h3, ' initial, select #Lambda & K_{s}', 'l')\n",
    "    legend1.Draw('same')\n",
    "\n",
    "    img_path = 'plots/Lambda_m'\n",
    "    canvas.SaveAs(img_path + '.pdf')\n",
    "    canvas.SaveAs(img_path + '.png')\n",
    "    canvas.Close()\n",
    "    display(Image(filename=img_path + '.png'))\n",
    "    os.remove(img_path + '.png')\n",
    "\n",
    "plot_hist()"
   ]
  },
  {
   "cell_type": "markdown",
   "metadata": {},
   "source": [
    "### Lambda sidebands"
   ]
  },
  {
   "cell_type": "code",
   "execution_count": null,
   "metadata": {},
   "outputs": [],
   "source": [
    "from IPython.display import Image, display\n",
    "latex = ROOT.TLatex()\n",
    "\n",
    "plotTitle = '\\Lambda Sidebands'\n",
    "axisLabel = 'Mass (Proton \\pi^{-})'\n",
    "\n",
    "# INDICES ASSIGNED BY 'flatten':\n",
    "# 1. DecayingLambda (0)   1a. Proton (1)   1b. PiMinus2 (2)\n",
    "# 2. DecayingKShort (3)   2a. PiPlus2 (4)   2b. PiMinus1 (5)\n",
    "# 3. PiPlus1 (6)\n",
    "\n",
    "def plot_hist():\n",
    "\n",
    "    canvas = ROOT.TCanvas('c', 'c', 800, 600)\n",
    "    canvas.SetLeftMargin(0.15)\n",
    "\n",
    "    # clear histogram cache\n",
    "    # ROOT.FSHistogram.clearHistogramCache()\n",
    "\n",
    "    h1 = ROOT.FSHistogram.getTH1F(fileName, treeName, f\"MASS({Proton}, {PiMinus2})\", \"(100, 1.08, 1.206)\", \"CUT(chi2DOF,unusedE,unusedTracks,coherentPeak)\")\n",
    "    h2 = ROOT.FSHistogram.getTH1F(fileName, treeName, f\"MASS({Proton}, {PiMinus2})\", \"(100, 1.08, 1.206)\", \"CUT(chi2DOF,unusedE,unusedTracks,coherentPeak)&&CUTSB(constrainLambda)\")\n",
    "\n",
    "    h1.SetTitle(\"\")\n",
    "    h1.SetTitle(plotTitle)\n",
    "    h1.SetStats(False)\n",
    "    h1.SetLineColor(ROOT.kBlack)\n",
    "    h1.GetXaxis().SetTitle(axisLabel + '[GeV/c^{2}]')\n",
    "    h1.GetYaxis().SetTitle('Events')\n",
    "\n",
    "    h2.SetTitle(\"\")\n",
    "    h2.SetTitle(plotTitle)\n",
    "    h2.SetStats(False)\n",
    "    h2.SetLineColor(ROOT.kRed)\n",
    "    h2.GetXaxis().SetTitle(axisLabel + '[GeV/c^{2}]')\n",
    "    h2.GetYaxis().SetTitle('Events')\n",
    "\n",
    "    h1.Draw('hist')\n",
    "    h2.Draw('hist, same')\n",
    "\n",
    "    legend1 = ROOT.TLegend(0.65, 0.750, 0.90, 0.90) # x_left, y_bottom, x_right, y_top\n",
    "    legend1.AddEntry(h1, 'Static cuts', 'l')\n",
    "    legend1.AddEntry(h2,'Static & #Lambda Sidebands', 'l')\n",
    "    legend1.Draw('same')\n",
    "\n",
    "    img_path = 'plots/LambdaSidebands_m'\n",
    "    canvas.SaveAs(img_path + '.pdf')\n",
    "    canvas.SaveAs(img_path + '.png')\n",
    "    canvas.Close()\n",
    "    display(Image(filename=img_path + '.png'))\n",
    "    os.remove(img_path + '.png')\n",
    "\n",
    "plot_hist()"
   ]
  },
  {
   "cell_type": "markdown",
   "metadata": {},
   "source": [
    "### Lambda missing mass"
   ]
  },
  {
   "cell_type": "code",
   "execution_count": null,
   "metadata": {},
   "outputs": [],
   "source": [
    "from IPython.display import Image, display\n",
    "latex = ROOT.TLatex()\n",
    "\n",
    "plotTitle = '#Lambda Missing Mass'\n",
    "axisLabel = '#Lambda Missing Mass'\n",
    "\n",
    "# INDICES ASSIGNED BY 'flatten':\n",
    "# 1. DecayingLambda (0)   1a. Proton (1)   1b. PiMinus2 (2)\n",
    "# 2. DecayingKShort (3)   2a. PiPlus2 (4)   2b. PiMinus1 (5)\n",
    "# 3. PiPlus1 (6)\n",
    "\n",
    "def plot_hist():\n",
    "\n",
    "    canvas = ROOT.TCanvas('c', 'c', 800, 600)\n",
    "\n",
    "    # clear histogram memory before printing the next one\n",
    "    ROOT.FSHistogram.clearHistogramCache()\n",
    "\n",
    "    h1 = ROOT.FSHistogram.getTH1F(fileName, treeName, f\"MASS({DecayingLambda})\", \"(60, 1.07, 1.35)\", \"CUT(chi2DOF,unusedE,unusedTracks,coherentPeak)\")\n",
    "    h1.SetTitle(\"\")\n",
    "    h1.SetTitle(plotTitle)\n",
    "    h1.SetStats(False)\n",
    "    h1.SetLineColor(ROOT.kMagenta)\n",
    "    h1.GetXaxis().SetTitle(axisLabel)\n",
    "    h1.GetYaxis().SetTitle('Events')\n",
    "    h1.Draw('same, hist')\n",
    "\n",
    "\n",
    "    legend1 = ROOT.TLegend(0.60, 0.80, 0.90, 0.90) # x_left, y_bottom, x_right, y_top\n",
    "    legend1.AddEntry(h1, plotTitle + ' cuts', 'l')\n",
    "    legend1.Draw('same')\n",
    "\n",
    "    img_path = 'plots/decayingLambda_m'\n",
    "    canvas.SaveAs(img_path + '.pdf')\n",
    "    canvas.SaveAs(img_path + '.png')\n",
    "    canvas.Close()\n",
    "    display(Image(filename=img_path + '.png'))\n",
    "    os.remove(img_path + '.png')\n",
    "\n",
    "plot_hist()"
   ]
  },
  {
   "cell_type": "markdown",
   "metadata": {},
   "source": [
    "### Pi Plus"
   ]
  },
  {
   "cell_type": "code",
   "execution_count": 13,
   "metadata": {},
   "outputs": [
    {
     "data": {
      "image/png": "[encoded data removed]",
      "text/plain": [
       "<IPython.core.display.Image object>"
      ]
     },
     "metadata": {},
     "output_type": "display_data"
    },
    {
     "name": "stdout",
     "output_type": "stream",
     "text": [
      "    FOUND HISTOGRAM...    FSRootHist:000002   OKAY           (entries = 762)\n"
     ]
    },
    {
     "name": "stderr",
     "output_type": "stream",
     "text": [
      "Info in <TCanvas::Print>: pdf file plots/PiPlus_m.pdf has been created\n",
      "Info in <TCanvas::Print>: png file plots/PiPlus_m.png has been created\n"
     ]
    }
   ],
   "source": [
    "from IPython.display import Image, display\n",
    "latex = ROOT.TLatex()\n",
    "\n",
    "plotTitle = '$\\pi^{+}$ Mass'\n",
    "axisLabel = '$Mass (\\pi^{+}) [GeV/c^{2}]$'\n",
    "\n",
    "# INDICES ASSIGNED BY 'flatten':\n",
    "# 1. DecayingLambda (0)   1a. Proton (1)   1b. PiMinus2 (2)\n",
    "# 2. DecayingKShort (3)   2a. PiPlus2 (4)   2b. PiMinus1 (5)\n",
    "# 3. PiPlus1 (6)\n",
    "\n",
    "def plot_hist():\n",
    "\n",
    "    canvas = ROOT.TCanvas('c', 'c', 800, 600)\n",
    "\n",
    "    h1 = ROOT.FSHistogram.getTH1F(fileName, treeName, f\"MASS({PiPlus1})\", \"(80, 0.1, 0.2)\", \"CUT(chi2DOF,unusedE,unusedTracks,coherentPeak,constrainLambda,constrainKShort)\")\n",
    "\n",
    "    h1.SetTitle(plotTitle)\n",
    "    h1.SetStats(False)\n",
    "    h1.SetLineColor(ROOT.kBlue)\n",
    "    h1.GetXaxis().SetTitle(axisLabel + ' [GeV')\n",
    "    h1.GetYaxis().SetTitle('Events')\n",
    "    h1.Draw('hist')\n",
    "    \n",
    "    legend1 = ROOT.TLegend(0.60, 0.80, 0.90, 0.90) # x_left, y_bottom, x_right, y_top\n",
    "    legend1.AddEntry(h1, 'initial cuts, select #Lambda & K_{s}', 'l')\n",
    "    legend1.Draw('same')\n",
    "\n",
    "    img_path = 'plots/PiPlus_m'\n",
    "    canvas.SaveAs(img_path + '.pdf')\n",
    "    canvas.SaveAs(img_path + '.png')\n",
    "    canvas.Close()\n",
    "    display(Image(filename=img_path + '.png'))\n",
    "    os.remove(img_path + '.png')\n",
    "\n",
    "plot_hist()"
   ]
  },
  {
   "cell_type": "markdown",
   "metadata": {},
   "source": [
    "### Dalitz plots"
   ]
  },
  {
   "cell_type": "code",
   "execution_count": null,
   "metadata": {},
   "outputs": [],
   "source": [
    "from IPython.display import Image, display\n",
    "latex = ROOT.TLatex()\n",
    "\n",
    "plotTitle = '\\gamma p \\\\rightarrow K_{s} \\pi^{+} \\Lambda'\n",
    "YaxisLabel = 'M(K_{s} \\pi^{+})^{2}'\n",
    "XaxisLabel = 'M(\\Lambda \\pi^{+})^{2}'\n",
    "\n",
    "# INDICES ASSIGNED BY flatten.  Use leading values, not those in parentheses.\n",
    "# 1. DecayingLambda (0)   1a. Proton (1)   1b. PiMinus2 (2)\n",
    "# 2. DecayingKShort (3)   2a. PiPlus2 (4)   2b. PiMinus1 (5)\n",
    "# 3. PiPlus1 (6)\n",
    "\n",
    "def plot_hist():\n",
    "\n",
    "    canvas = ROOT.TCanvas('c', 'c', 800, 600)\n",
    "\n",
    "    h1 = ROOT.FSHistogram.getTH2F(fileName, treeName, f\"MASS2({DecayingKShort},{PiPlus1}):MASS2({DecayingLambda},{PiPlus1})\", \"(80, 1.6, 2.6, 80, 0.6, 5.2)\", \"CUT(chi2DOF,unusedE,unusedTracks,coherentPeak,constrainLambda,constrainKShort)\") # MASS2(y-axis1,y-axis2):MASS2(x-axis1,x-axis2), \"x_bins, x_min, x_max, y_bins, y_min, y_max\"\n",
    "\n",
    "    h1.SetTitle(plotTitle)\n",
    "    h1.SetStats(False)\n",
    "    h1.SetLineColor(ROOT.kBlue)\n",
    "    h1.GetXaxis().SetTitle(XaxisLabel + ' [GeV^{2}]')\n",
    "    h1.GetYaxis().SetTitle(YaxisLabel + ' [GeV^{2}]')\n",
    "    h1.Draw('colz')\n",
    "    \n",
    "    legend1 = ROOT.TLegend(0.60, 0.80, 0.90, 0.90) # x_left, y_bottom, x_right, y_top\n",
    "    legend1.AddEntry(h1, plotTitle, 'l')\n",
    "    # legend1.Draw('same')\n",
    "\n",
    "    img_path = 'plots/KsPipVSLambPip_m2'\n",
    "    canvas.SaveAs(img_path + '.pdf')\n",
    "    canvas.SaveAs(img_path + '.png')\n",
    "    canvas.Close()\n",
    "    display(Image(filename=img_path + '.png'))\n",
    "    os.remove(img_path + '.png')\n",
    "\n",
    "plot_hist()"
   ]
  },
  {
   "cell_type": "markdown",
   "metadata": {},
   "source": [
    "### 2D mass plots"
   ]
  },
  {
   "cell_type": "code",
   "execution_count": null,
   "metadata": {},
   "outputs": [],
   "source": [
    "from IPython.display import Image, display\n",
    "latex = ROOT.TLatex()\n",
    "\n",
    "plotTitle = '\\gamma p \\\\rightarrow K_{s} \\pi^{+} \\Lambda'\n",
    "YaxisLabel = 'M(Proton \\pi^{-})'\n",
    "XaxisLabel = 'M(KShort \\pi^{+})'\n",
    "\n",
    "# INDICES ASSIGNED BY flatten.  Use leading values, not those in parentheses.\n",
    "# 1. DecayingLambda (0)   1a. Proton (1)   1b. PiMinus2 (2)\n",
    "# 2. DecayingKShort (3)   2a. PiPlus2 (4)   2b. PiMinus1 (5)\n",
    "# 3. PiPlus1 (6)\n",
    "\n",
    "def plot_hist():\n",
    "\n",
    "    canvas = ROOT.TCanvas('c', 'c', 800, 600)\n",
    "\n",
    "    # clear histogram memory before printing the next one\n",
    "    ROOT.FSHistogram.clearHistogramCache()\n",
    "\n",
    "    h1 = ROOT.FSHistogram.getTH2F(fileName, treeName, f\"MASS({Proton},{PiMinus2}):MASS({DecayingKShort},{PiPlus1})\", \"(80, 0.42, 4.5, 80, 1.2, 1.5)\", \"CUT(chi2DOF,unusedE,unusedTracks,coherentPeak,constrainLambda,constrainKShort)\") # MASS2(y-axis1,y-axis2):MASS2(x-axis1,x-axis2), \"x_bins, x_min, x_max, y_bins, y_min, y_max\"\n",
    "\n",
    "    h1.SetTitle(plotTitle)\n",
    "    h1.SetStats(False)\n",
    "    h1.SetLineColor(ROOT.kBlue)\n",
    "    h1.GetXaxis().SetTitle(XaxisLabel + ' [GeV^{2}]')\n",
    "    h1.GetYaxis().SetTitle(YaxisLabel + ' [GeV^{2}]')\n",
    "    h1.Draw('colz')\n",
    "    \n",
    "    legend1 = ROOT.TLegend(0.60, 0.80, 0.90, 0.90) # x_left, y_bottom, x_right, y_top\n",
    "    legend1.AddEntry(h1, plotTitle, 'l')\n",
    "    # legend1.Draw('same')\n",
    "\n",
    "    img_path = 'plots/Lamb_VS_KsPip_m'\n",
    "    canvas.SaveAs(img_path + '.pdf')\n",
    "    canvas.SaveAs(img_path + '.png')\n",
    "    canvas.Close()\n",
    "    display(Image(filename=img_path + '.png'))\n",
    "    os.remove(img_path + '.png')\n",
    "\n",
    "plot_hist()"
   ]
  },
  {
   "cell_type": "markdown",
   "metadata": {},
   "source": [
    "### KShort"
   ]
  },
  {
   "cell_type": "code",
   "execution_count": 26,
   "metadata": {},
   "outputs": [
    {
     "data": {
      "image/png": "[encoded data removed]",
      "text/plain": [
       "<IPython.core.display.Image object>"
      ]
     },
     "metadata": {},
     "output_type": "display_data"
    },
    {
     "name": "stdout",
     "output_type": "stream",
     "text": [
      "    CREATING HISTOGRAM... FSRootHist:000019   OKAY           (entries = 21153355)\n",
      "    CREATING HISTOGRAM... FSRootHist:000020   OKAY           (entries = 42306)\n"
     ]
    },
    {
     "name": "stderr",
     "output_type": "stream",
     "text": [
      "Info in <TCanvas::Print>: pdf file plots/ks_m.pdf has been created\n",
      "Info in <TCanvas::Print>: png file plots/ks_m.png has been created\n"
     ]
    }
   ],
   "source": [
    "from IPython.display import Image, display\n",
    "latex = ROOT.TLatex()\n",
    "\n",
    "plotTitle = '\\gamma p \\\\rightarrow K_{s} \\pi^{+} \\Lambda'\n",
    "axisLabel = 'Mass (K_{s})'\n",
    "\n",
    "# INDICES ASSIGNED BY 'flatten':\n",
    "# 1. DecayingLambda (0)   1a. Proton (1)   1b. PiMinus2 (2)\n",
    "# 2. DecayingKShort (3)   2a. PiPlus2 (4)   2b. PiMinus1 (5)\n",
    "# 3. PiPlus1 (6)\n",
    "\n",
    "def plot_hist():\n",
    "\n",
    "    canvas = ROOT.TCanvas('c', 'c', 800, 600)\n",
    "    canvas.SetLeftMargin(0.15)\n",
    "\n",
    "    ROOT.FSHistogram.clearHistogramCache()\n",
    "\n",
    "    h1 = ROOT.FSHistogram.getTH1F(fileName, treeName, f\"MASS({DecayingKShort})\", \"(80, 0.45, 0.55)\", \"CUT(flightSigKShort)\")\n",
    "    h2 = ROOT.FSHistogram.getTH1F(fileName, treeName, f\"MASS({DecayingKShort})\", \"(80, 0.45, 0.55)\", \"CUT(chi2DOF,unusedE,unusedTracks,coherentPeak,constrainLambda,constrainKShort,flightSigKShort)\")\n",
    "\n",
    "    h1.SetTitle(\"\")\n",
    "    h1.SetTitle(plotTitle)\n",
    "    h1.SetStats(False)\n",
    "    h1.SetLineColor(ROOT.kBlue)\n",
    "    h1.GetXaxis().SetTitle(axisLabel + ' [GeV/c^{2}]')\n",
    "    h1.GetYaxis().SetTitle('Events')\n",
    "    # h1.Draw('hist')\n",
    "\n",
    "    h2.SetTitle(\"\")\n",
    "    h2.SetTitle(plotTitle)\n",
    "    h2.SetStats(False)\n",
    "    h2.SetLineColor(ROOT.kBlack)\n",
    "    h2.GetXaxis().SetTitle(axisLabel)\n",
    "    h2.GetYaxis().SetTitle('Events')\n",
    "    h2.Draw('same, hist')\n",
    "\n",
    "\n",
    "    legend1 = ROOT.TLegend(0.60, 0.80, 0.90, 0.90) # x_left, y_bottom, x_right, y_top\n",
    "    # legend1.AddEntry(h1, ' initial cuts', 'l')\n",
    "    legend1.AddEntry(h2, ' initial cuts & ksFlightSig', 'l')\n",
    "\n",
    "    legend1.Draw('same')\n",
    "\n",
    "    img_path = 'plots/ks_m'\n",
    "    canvas.SaveAs(img_path + '.pdf')\n",
    "    canvas.SaveAs(img_path + '.png')\n",
    "    canvas.Close()\n",
    "    display(Image(filename=img_path + '.png'))\n",
    "    os.remove(img_path + '.png')\n",
    "\n",
    "plot_hist()"
   ]
  },
  {
   "cell_type": "markdown",
   "metadata": {},
   "source": [
    "### FSModeHistogram ..."
   ]
  },
  {
   "cell_type": "code",
   "execution_count": 22,
   "metadata": {},
   "outputs": [],
   "source": [
    "#  bggen, plot, but use \"FSModeHistogram\" instead of \"FSHistogram\"\n",
    "\n",
    "# kvin 3/4/25"
   ]
  },
  {
   "cell_type": "markdown",
   "metadata": {},
   "source": [
    "### flight sig"
   ]
  },
  {
   "cell_type": "code",
   "execution_count": 3,
   "metadata": {},
   "outputs": [
    {
     "data": {
      "image/png": "[encoded data removed]",
      "text/plain": [
       "<IPython.core.display.Image object>"
      ]
     },
     "metadata": {},
     "output_type": "display_data"
    },
    {
     "name": "stdout",
     "output_type": "stream",
     "text": [
      "    CREATING HISTOGRAM... FSRootHist:000001   OKAY           (entries = 138409617)\n"
     ]
    },
    {
     "name": "stderr",
     "output_type": "stream",
     "text": [
      "Info in <TCanvas::Print>: png file plots/VeeLP1.png has been created\n"
     ]
    }
   ],
   "source": [
    "from IPython.display import Image, display\n",
    "latex = ROOT.TLatex()\n",
    "\n",
    "plotTitle = '\\gamma p \\\\rightarrow K_{s} \\pi^{+} \\Lambda'\n",
    "axisLabel = 'Mass (K_{s})'\n",
    "\n",
    "# INDICES ASSIGNED BY 'flatten':\n",
    "# 1. DecayingLambda (0)   1a. Proton (1)   1b. PiMinus2 (2)\n",
    "# 2. DecayingKShort (3)   2a. PiPlus2 (4)   2b. PiMinus1 (5)\n",
    "# 3. PiPlus1 (6)\n",
    "\n",
    "\n",
    "\n",
    "def plot_hist():\n",
    "\n",
    "    canvas = ROOT.TCanvas('c', 'c', 800, 600)\n",
    "    canvas.SetLeftMargin(0.15)\n",
    "\n",
    "    ROOT.FSHistogram.clearHistogramCache()\n",
    "\n",
    "    h1 = ROOT.FSHistogram.getTH1F(fileName, treeName, \"VeeLP1\", \"(100, -5.0, 40.0)\", \"\")\n",
    "                                  \n",
    "    # h1 = ROOT.FSHistogram.getTH1F(fileName, treeName, f\"MASS({DecayingKShort})\", \"(80, 0.45, 0.55)\", \"CUT(flightSigKShort)&&MAXEVENTS==10000\")\n",
    "\n",
    "\n",
    "    h1.SetTitle(\"\")\n",
    "    h1.SetTitle(plotTitle)\n",
    "    h1.SetStats(False)\n",
    "    h1.SetLineColor(ROOT.kBlue)\n",
    "    h1.GetXaxis().SetTitle(axisLabel + ' [GeV/c^{2}]')\n",
    "    h1.GetYaxis().SetTitle('Events')\n",
    "    h1.Draw('')\n",
    "\n",
    "    legend1 = ROOT.TLegend(0.60, 0.80, 0.90, 0.90) # x_left, y_bottom, x_right, y_top\n",
    "    legend1.AddEntry(h1, ' ks flightSig variable', 'l')\n",
    "\n",
    "    legend1.Draw('same')\n",
    "\n",
    "    img_path = 'plots/VeeLP1'\n",
    "    # canvas.SaveAs(img_path + '.pdf')\n",
    "    canvas.SaveAs(img_path + '.png')\n",
    "    canvas.Close()\n",
    "    display(Image(filename=img_path + '.png'))\n",
    "    # os.remove(img_path + '.png')\n",
    "\n",
    "plot_hist()"
   ]
  },
  {
   "cell_type": "markdown",
   "metadata": {},
   "source": [
    "### Beam Energy"
   ]
  },
  {
   "cell_type": "code",
   "execution_count": null,
   "metadata": {},
   "outputs": [],
   "source": [
    "from IPython.display import Image, display\n",
    "\n",
    "plotTitle = 'Beam energy'\n",
    "plot2Title = 'Beam energy measured'\n",
    "axisLabel = 'Beam energy [GeV]'\n",
    "\n",
    "# INDICES ASSIGNED BY 'flatten':\n",
    "# 1. DecayingLambda (0)   1a. Proton (1)   1b. PiMinus2 (2)\n",
    "# 2. DecayingKShort (3)   2a. PiPlus2 (4)   2b. PiMinus1 (5)\n",
    "# 3. PiPlus1 (6)\n",
    "\n",
    "canvas = ROOT.TCanvas('c', 'c', 800, 600)\n",
    "    \n",
    "h1 = ROOT.FSHistogram.getTH1F(fileName, treeName, \"beam_e\", \"(80, 0.0, 14.0)\", \"\")\n",
    "h1.SetStats(False)\n",
    "h1.SetLineColor(ROOT.kBlue)\n",
    "h1.GetXaxis().SetTitle(axisLabel)\n",
    "h1.GetYaxis().SetTitle('Events')\n",
    "h1.Draw()\n",
    "\n",
    "h2 = ROOT.FSHistogram.getTH1F(fileName, treeName, \"beam_e_measured\", \"(80, 0.0, 14.0)\", \"\")\n",
    "h2.SetStats(False)\n",
    "h2.SetMarkerStyle(24)\n",
    "h2.SetMarkerColor(ROOT.kRed)\n",
    "h2.GetXaxis().SetTitle(axisLabel)\n",
    "h2.GetYaxis().SetTitle('Events')\n",
    "h2.Draw('p same')\n",
    "    \n",
    "legend1 = ROOT.TLegend(0.7, 0.9, 0.9, 0.75)\n",
    "# legend1.AddEntry(h1.GetValue(), plotTitle, 'l')\n",
    "# legend1.AddEntry(h2.GetValue(), plot2Title, 'p')\n",
    "legend1.Draw('same')\n",
    "\n",
    "img_path = 'plots/beam_e.png'\n",
    "canvas.SaveAs(img_path)\n",
    "canvas.Close()\n",
    "display(Image(filename=img_path))"
   ]
  },
  {
   "cell_type": "markdown",
   "metadata": {},
   "source": [
    "### Target proton"
   ]
  },
  {
   "cell_type": "code",
   "execution_count": null,
   "metadata": {},
   "outputs": [],
   "source": [
    "from IPython.display import Image, display\n",
    "import matplotlib.pyplot as plt\n",
    "latex = ROOT.TLatex()\n",
    "\n",
    "plotTitle = 'Target proton mass'\n",
    "axisLabel = 'Mass (target proton) [GeV/c^{2}]'\n",
    "\n",
    "# INDICES ASSIGNED BY 'flatten':\n",
    "# 1. DecayingLambda (0)   1a. Proton (1)   1b. PiMinus2 (2)\n",
    "# 2. DecayingKShort (3)   2a. PiPlus2 (4)   2b. PiMinus1 (5)\n",
    "# 3. PiPlus1 (6)\n",
    "\n",
    "def plot_hist():\n",
    "\n",
    "    canvas = ROOT.TCanvas('c', 'c', 800, 600)\n",
    "    canvas.SetLeftMargin(0.15)\n",
    "\n",
    "    h1 = ROOT.FSHistogram.getTH1F(fileName, treeName, f\"MASS({?????})\", \"(80, 0.0, 4.0)\", \"\")\n",
    "    h1.SetTitle(plotTitle)\n",
    "    h1.SetStats(False)\n",
    "    h1.SetLineColor(ROOT.kBlue)\n",
    "    h1.GetXaxis().SetTitle(axisLabel)\n",
    "    h1.GetYaxis().SetTitle('Events')\n",
    "    h1.Draw()\n",
    "    latex.DrawLatexNDC(0.3, 0.95, plotTitle)\n",
    "    \n",
    "    legend1 = ROOT.TLegend(0.7, 0.9, 0.9, 0.85)\n",
    "    legend1.AddEntry(h1, f'{plotTitle} no cuts', 'l')\n",
    "    legend1.Draw('same')\n",
    "\n",
    "    img_path = 'plots/target_m_m'\n",
    "    canvas.SaveAs(img_path + '.pdf')\n",
    "    canvas.SaveAs(img_path + '.png')\n",
    "    canvas.Close()\n",
    "    display(Image(filename=img_path + '.png'))\n",
    "    os.remove(img_path + '.png')\n",
    "\n",
    "plot_hist()"
   ]
  },
  {
   "cell_type": "markdown",
   "metadata": {},
   "source": [
    "### KShort Pi Plus Lambda"
   ]
  },
  {
   "cell_type": "code",
   "execution_count": null,
   "metadata": {},
   "outputs": [],
   "source": [
    "from IPython.display import Image, display\n",
    "latex = ROOT.TLatex()\n",
    "\n",
    "plotTitle = 'Mass (K_{s} \\pi^{+} #Lambda)'\n",
    "axisLabel = 'Mass (K_{s} \\pi^{+} p \\pi^{-})'\n",
    "\n",
    "# INDICES ASSIGNED BY 'flatten':\n",
    "# 1. DecayingLambda (0)   1a. Proton (1)   1b. PiMinus2 (2)\n",
    "# 2. DecayingKShort (3)   2a. PiPlus2 (4)   2b. PiMinus1 (5)\n",
    "# 3. PiPlus1 (6)\n",
    "\n",
    "def plot_hist():\n",
    "\n",
    "    canvas = ROOT.TCanvas('c', 'c', 800, 600)\n",
    "    canvas.SetLeftMargin(0.15)\n",
    "\n",
    "    h1 = ROOT.FSHistogram.getTH1F(fileName, treeName, f\"MASS({DecayingKShort},{PiPlus1},{Proton},{PiMinus2})\", \"(80, 2.5, 4.8)\", \"\")\n",
    "\n",
    "    # FOR MULTIPLE FINAL STATES AND TO MANAGE PARTICLE COMBINATORICS WITHIN THOSE FINAL STATES.    \n",
    "    # h1 = ROOT.FSModeHistogram.getTH1F(fileName, treeName, f\"MASS({KPlus},{DecayingPi0},{Proton},{PiMinus})\", \"(80, 0.0, 4.0)\", \"\", \"CUT(chi2DOF,unusedE,unusedTracks,coherentPeak)&&CUTSB(constrainLambda)\")\n",
    "    \n",
    "    h1.SetTitle(\"\")\n",
    "    h1.SetTitle(plotTitle)\n",
    "    h1.SetStats(False)\n",
    "    h1.SetLineColor(ROOT.kBlue)\n",
    "    h1.GetXaxis().SetTitle(axisLabel + ' [GeV/c^{2}]')\n",
    "    h1.GetYaxis().SetTitle('Events')\n",
    "    h1.Draw('hist')\n",
    "    \n",
    "    legend1 = ROOT.TLegend(0.60, 0.80, 0.90, 0.90) # x_left, y_bottom, x_right, y_top\n",
    "    legend1.AddEntry(h1, plotTitle + ' no cuts', 'l')\n",
    "    legend1.Draw('same')\n",
    "\n",
    "    img_path = 'plots/KsPipLamb_m'\n",
    "    canvas.SaveAs(img_path + '.pdf')\n",
    "    canvas.SaveAs(img_path + '.png')\n",
    "    canvas.Close()\n",
    "    display(Image(filename=img_path + '.png'))\n",
    "    os.remove(img_path + '.png')\n",
    "\n",
    "plot_hist()"
   ]
  }
 ],
 "metadata": {
  "kernelspec": {
   "display_name": "Python 3 (ipykernel)",
   "language": "python",
   "name": "python3"
  },
  "language_info": {
   "codemirror_mode": {
    "name": "ipython",
    "version": 3
   },
   "file_extension": ".py",
   "mimetype": "text/x-python",
   "name": "python",
   "nbconvert_exporter": "python",
   "pygments_lexer": "ipython3",
   "version": "3.9.21"
  }
 },
 "nbformat": 4,
 "nbformat_minor": 2
}
