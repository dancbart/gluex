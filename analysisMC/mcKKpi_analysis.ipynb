{
 "cells": [
  {
   "cell_type": "markdown",
   "metadata": {},
   "source": [
    "## Create Dataframe \\& columns for all particles."
   ]
  },
  {
   "cell_type": "code",
   "execution_count": 1,
   "metadata": {},
   "outputs": [
    {
     "name": "stdout",
     "output_type": "stream",
     "text": [
      "current working directory:  /w/halld-scshelf2101/home/dbarton\n",
      "changed directory to:  /w/halld-scshelf2101/home/dbarton/gluex/analysisMC\n",
      "['KKpi_mc.root', 'mcKKpi_analysis_thrown.ipynb', 'KKpi_mc_OutOfBox.root', 'KKpi_mc_Wrong-usesThrownCode.root', 'mcKKpi_analysis.ipynb', 'readROOT_TreesHeaders.ipynb', 'config_files', 'KKpi_mcThrown.root']\n"
     ]
    }
   ],
   "source": [
    "import os \n",
    "print(\"current working directory: \", os.getcwd())\n",
    "os.chdir(\"/w/halld-scshelf2101/home/dbarton/gluex/analysisMC\")\n",
    "print(\"changed directory to: \", os.getcwd())\n",
    "print(os.listdir())"
   ]
  },
  {
   "cell_type": "code",
   "execution_count": 2,
   "metadata": {},
   "outputs": [
    {
     "name": "stdout",
     "output_type": "stream",
     "text": [
      "Welcome to JupyROOT 6.24/04\n"
     ]
    }
   ],
   "source": [
    "import ROOT\n",
    "\n",
    "file = ROOT.TFile.Open(\"KKpi_mc.root\")\n",
    "file.ls()"
   ]
  },
  {
   "cell_type": "markdown",
   "metadata": {},
   "source": [
    "### List branches (column headers) in current ROOT tree"
   ]
  },
  {
   "cell_type": "code",
   "execution_count": null,
   "metadata": {},
   "outputs": [],
   "source": [
    "import ROOT\n",
    "\n",
    "filename = \"KKpi_mc.root\"\n",
    "\n",
    "def list_trees_and_branches(filename):\n",
    "    file = ROOT.TFile.Open(filename)\n",
    "    # Loop over all keys in the file\n",
    "    for key in file.GetListOfKeys():\n",
    "        obj = key.ReadObj()\n",
    "        # Check if the object is a tree\n",
    "        if isinstance(obj, ROOT.TTree):\n",
    "            tree = obj\n",
    "            print(f\"File: {filename}\")\n",
    "            print(f\"Tree: {tree.GetName()}\")\n",
    "            print(\"Branches:\")\n",
    "            # List all branches in the tree\n",
    "            branches = tree.GetListOfBranches()\n",
    "            for branch in branches:\n",
    "                print(f\" - {branch.GetName()}\")\n",
    "\n",
    "    # Close the file\n",
    "    file.Close()\n",
    "list_trees_and_branches(filename)"
   ]
  },
  {
   "cell_type": "code",
   "execution_count": 3,
   "metadata": {},
   "outputs": [],
   "source": [
    "# import warnings # for debugging\n",
    "# warnings.filterwarnings('error') # prints line number of warning, supposedly\n",
    "\n",
    "\n",
    "import numpy as np\n",
    "import ROOT\n",
    "ROOT.EnableImplicitMT() # Enable multi-threading\n",
    "\n",
    "def buildDataFrame(fileName, treeName):\n",
    "    df = ROOT.RDataFrame(treeName, fileName)\n",
    "\n",
    "    df = df.Define('pip2_m2', 'pip2_E*pip2_E - pip2_px*pip2_px - pip2_py*pip2_py - pip2_pz*pip2_pz') \\\n",
    "           .Define('pip2_m', 'TMath::Sqrt(pip2_E*pip2_E - pip2_px*pip2_px - pip2_py*pip2_py - pip2_pz*pip2_pz)') \\\n",
    "           .Define('pim_m2', 'pim_E*pim_E - pim_px*pim_px - pim_py*pim_py - pim_pz*pim_pz') \\\n",
    "           .Define('pim_m', 'TMath::Sqrt(pim_E*pim_E - pim_px*pim_px - pim_py*pim_py - pim_pz*pim_pz)') \\\n",
    "           .Define('kShort_E', 'pip2_E + pim_E') \\\n",
    "           .Define('kShort_px', 'pip2_px + pim_px') \\\n",
    "           .Define('kShort_py', 'pip2_py + pim_py') \\\n",
    "           .Define('kShort_pz', 'pip2_pz + pim_pz') \\\n",
    "           .Define('kShort_m', 'TMath::Sqrt(kShort_E*kShort_E - kShort_px*kShort_px - kShort_py*kShort_py - kShort_pz*kShort_pz)') \\\n",
    "           .Define('kShort_m2', 'kShort_E*kShort_E - kShort_px*kShort_px - kShort_py*kShort_py - kShort_pz*kShort_pz') \\\n",
    "           .Define('ks_m2', 'ks_E*ks_E - ks_px*ks_px - ks_py*ks_py - ks_pz*ks_pz') \\\n",
    "           .Define('ks_m', 'TMath::Sqrt(ks_E*ks_E - ks_px*ks_px - ks_py*ks_py - ks_pz*ks_pz)') \\\n",
    "           .Define('delta_E', 'pip1_E + proton_E') \\\n",
    "           .Define('delta_px', 'pip1_px + proton_px') \\\n",
    "           .Define('delta_py', 'pip1_py + proton_py') \\\n",
    "           .Define('delta_pz', 'pip1_pz + proton_pz') \\\n",
    "           .Define('delta_m', 'TMath::Sqrt(delta_E*delta_E - delta_px*delta_px - delta_py*delta_py - delta_pz*delta_pz)') \\\n",
    "           .Define('delta_m2', 'delta_E*delta_E - delta_px*delta_px - delta_py*delta_py - delta_pz*delta_pz') \\\n",
    "           .Define('lambda_E', 'proton_E + km_E') \\\n",
    "           .Define('lambda_px', 'proton_px + km_px') \\\n",
    "           .Define('lambda_py', 'proton_py + km_py') \\\n",
    "           .Define('lambda_pz', 'proton_pz + km_pz') \\\n",
    "           .Define('lambda_m', 'TMath::Sqrt(lambda_E*lambda_E - lambda_px*lambda_px - lambda_py*lambda_py - lambda_pz*lambda_pz)') \\\n",
    "           .Define('lambda_m2', 'lambda_E*lambda_E - lambda_px*lambda_px - lambda_py*lambda_py - lambda_pz*lambda_pz') \\\n",
    "           .Define('kmpip1_E', 'pip1_E + km_E') \\\n",
    "           .Define('kmpip1_px', 'pip1_px + km_px') \\\n",
    "           .Define('kmpip1_py', 'pip1_py + km_py') \\\n",
    "           .Define('kmpip1_pz', 'pip1_pz + km_pz') \\\n",
    "           .Define('kmpip1_m', 'TMath::Sqrt(kmpip1_E*kmpip1_E - kmpip1_px*kmpip1_px - kmpip1_py*kmpip1_py - kmpip1_pz*kmpip1_pz)') \\\n",
    "           .Define('kmpip1_m2', 'kmpip1_E*kmpip1_E - kmpip1_px*kmpip1_px - kmpip1_py*kmpip1_py - kmpip1_pz*kmpip1_pz') \\\n",
    "           .Define('kspip1_E', 'pip1_E + ks_E') \\\n",
    "           .Define('kspip1_px', 'pip1_px + ks_px') \\\n",
    "           .Define('kspip1_py', 'pip1_py + ks_py') \\\n",
    "           .Define('kspip1_pz', 'pip1_pz + ks_pz') \\\n",
    "           .Define('kspip1_m', 'TMath::Sqrt(kspip1_E*kspip1_E - kspip1_px*kspip1_px - kspip1_py*kspip1_py - kspip1_pz*kspip1_pz)') \\\n",
    "           .Define('kspip1_m2', 'kspip1_E*kspip1_E - kspip1_px*kspip1_px - kspip1_py*kspip1_py - kspip1_pz*kspip1_pz') \\\n",
    "           .Define('KKpi_E', 'pip1_E + km_E + ks_E') \\\n",
    "           .Define('KKpi_px', 'pip1_px + km_px + ks_px') \\\n",
    "           .Define('KKpi_py', 'pip1_py + km_py + ks_py') \\\n",
    "           .Define('KKpi_pz', 'pip1_pz + km_pz + ks_pz') \\\n",
    "           .Define('KKpi_m', 'TMath::Sqrt(KKpi_E*KKpi_E - KKpi_px*KKpi_px - KKpi_py*KKpi_py - KKpi_pz*KKpi_pz)') \\\n",
    "           .Define('KKpi_m2', 'KKpi_E*KKpi_E - KKpi_px*KKpi_px - KKpi_py*KKpi_py - KKpi_pz*KKpi_pz')\n",
    "\n",
    "    return df\n",
    "\n",
    "dfKKpi = buildDataFrame(\"KKpi_mc.root\", \"pipkmks_flat_mc\")\n"
   ]
  },
  {
   "cell_type": "markdown",
   "metadata": {},
   "source": [
    "## Define Cuts"
   ]
  },
  {
   "cell_type": "code",
   "execution_count": 4,
   "metadata": {},
   "outputs": [],
   "source": [
    "# Define cuts\n",
    "\n",
    "pathlength_sig = 'pathlength_sig > 5' # pathlength significance cut\n",
    "reject_delta = 'delta_m > 1.4' # delta++ cut\n",
    "reject_lambda = 'lambda_m > 1.9' # lambda cut\n",
    "keep_kstar_plus = 'kspip1_m >= 0.8 && kspip1_m <= 1.0' # \"charged\" K*(KsPi+)\n",
    "keep_kstar_zero = 'kmpip1_m >= 0.8 && kmpip1_m <= 1.0' # \"neutral\" K*(K-Pi+)\n",
    "reject_kstar_plus = 'kspip1_m <= 0.8 || kspip1_m >= 1.0' # Reject \"charged\" K*(KsPi+)\n",
    "reject_kstar_zero = 'kmpip1_m <= 0.8 || kmpip1_m >= 1.0' # Reject \"neutral\" K*(K-Pi+)\n",
    "select_kShort = 'ks_m >= 0.30 && ks_m <= 0.80' # Select kShort\n",
    "reject_kShort = 'ks_m <= 0.45 || ks_m >= 0.55' # Reject kShort\n",
    "select_KKpi = 'KKpi_m >= 1.0 && KKpi_m <= 1.8' # Select KKpi\n",
    "\n"
   ]
  },
  {
   "cell_type": "markdown",
   "metadata": {},
   "source": [
    "### -t slope (momentum transfer)"
   ]
  },
  {
   "cell_type": "code",
   "execution_count": 5,
   "metadata": {},
   "outputs": [
    {
     "data": {
      "image/png": "[encoded data removed]",
      "text/plain": [
       "<IPython.core.display.Image object>"
      ]
     },
     "metadata": {},
     "output_type": "display_data"
    },
    {
     "name": "stdout",
     "output_type": "stream",
     "text": [
      " FCN=28034.1 FROM MIGRAD    STATUS=CONVERGED     222 CALLS         223 TOTAL\n",
      "                     EDM=2.43988e-09    STRATEGY= 1      ERROR MATRIX ACCURATE \n",
      "  EXT PARAMETER                                   STEP         FIRST   \n",
      "  NO.   NAME      VALUE            ERROR          SIZE      DERIVATIVE \n",
      "   1  expPar1      4.51588e+00   1.10578e-02   2.57694e-04  -7.59358e-03\n",
      "   2  expPar2      1.14205e+01   5.51193e-02   4.55888e-04  -5.16464e-03\n",
      "   3  expPar3     -1.07365e+01   6.71193e-02   7.17801e-04  -2.39030e-03\n"
     ]
    },
    {
     "name": "stderr",
     "output_type": "stream",
     "text": [
      "Info in <TCanvas::Print>: png file ../_plotsMC/momentumTransfer.png has been created\n"
     ]
    }
   ],
   "source": [
    "from IPython.display import Image, display\n",
    "\n",
    "def momentumTransfer(df):\n",
    "    dfFiltered = df\n",
    "\n",
    "    canvas = ROOT.TCanvas(\"canvas\", \"c1\", 800, 600)\n",
    "\n",
    "    h1 = dfFiltered.Histo1D((\"men_t\", \"Momentum Transfer\", 100, 0, 1), \"men_t\")\n",
    "    h1.SetLineColor(ROOT.kBlue)\n",
    "    h1.SetStats(False)\n",
    "    h1.GetXaxis().SetTitle(\"[GeV/c^{2}]\")\n",
    "    h1.Draw()\n",
    "\n",
    "    # Define fit function for t-distribution\n",
    "    exp = ROOT.TF1(\"exp\", \"TMath::Exp([0] + [1] * x + [2] * x * x)\", 0.01, 2.0)\n",
    "    exp.SetParName(0, \"expPar1\")\n",
    "    exp.SetParName(1, \"expPar2\")\n",
    "    exp.SetParName(2, \"expPar3\")\n",
    "    h1.Fit(\"exp\", \"R\")\n",
    "\n",
    "    legend1 = ROOT.TLegend(0.62, 0.85, 0.90, 0.90) # xLeft, yBottom, xRight, yTop\n",
    "    legend1.AddEntry(h1.GetValue(), \"Momentum Transfer\", \"l\")\n",
    "    legend1.Draw()\n",
    "\n",
    "    canvas.Draw()\n",
    "\n",
    "    img_path = \"../_plotsMC/momentumTransfer.png\"\n",
    "    canvas.SaveAs(img_path)  # Saves the canvas as an image\n",
    "    canvas.Close()\n",
    "\n",
    "    display(Image(filename=img_path))\n",
    "\n",
    "momentumTransfer(dfKKpi)\n"
   ]
  },
  {
   "cell_type": "markdown",
   "metadata": {},
   "source": [
    "### Histogram - kShort"
   ]
  },
  {
   "cell_type": "code",
   "execution_count": null,
   "metadata": {},
   "outputs": [],
   "source": [
    "from IPython.display import Image, display\n",
    "\n",
    "def analysis(df):\n",
    "\n",
    "    ######## APPLY CUTS ########\n",
    "    dfFiltered = df\n",
    "    ############################\n",
    "\n",
    "    min_height = -50\n",
    "    max_height = 200000\n",
    "\n",
    "    canvas = ROOT.TCanvas(\"c1\", \"c1\", 800, 600)\n",
    "    canvas.Divide(2, 2)\n",
    "\n",
    "    canvas.cd(1)\n",
    "    h1 = dfFiltered.Histo1D(('kShort_m', 'mc_ks_m', 60, 0.01, 1.0), 'kShort_m') # arguments: (name, title, bins, min, max), columnVariable\n",
    "    h1.SetLineColor(ROOT.kBlue)\n",
    "    h1.SetMinimum(min_height)\n",
    "    h1.SetMaximum(14000)\n",
    "    h1.SetStats(False)\n",
    "    h1.GetXaxis().SetTitle('[GeV/c^{2}]')\n",
    "    h1.Draw()\n",
    "    legend1 = ROOT.TLegend(0.8, 0.80, 0.95, 0.95)\n",
    "    legend1.AddEntry(h1.GetValue(), 'ks_m', 'l')\n",
    "    legend1.Draw('same')\n",
    "\n",
    "    canvas.cd(2)\n",
    "    h2 = dfFiltered.Histo1D(('pip2_m', 'mc_pip2_m', 60, 0.01, 1.0), 'pip2_m')\n",
    "    h2.SetLineColor(ROOT.kBlack)\n",
    "    h2.SetMinimum(min_height)\n",
    "    h2.SetMaximum(max_height)\n",
    "    h2.SetStats(False)\n",
    "    h2.GetXaxis().SetTitle('[GeV/c^{2}]')\n",
    "    h2.Draw('same')\n",
    "    legend2 = ROOT.TLegend(0.8, 0.80, 0.95, 0.95)\n",
    "    legend2.AddEntry(h2.GetValue(), 'pip2_m', 'l')\n",
    "    legend2.Draw('same')\n",
    "\n",
    "    canvas.cd(3)\n",
    "    h3 = dfFiltered.Histo1D(('pim_m', 'mc_pim_m', 60, 0.01, 1.0), 'pim_m')\n",
    "    h3.SetLineColor(ROOT.kMagenta)\n",
    "    h3.SetMinimum(min_height)\n",
    "    h3.SetMaximum(max_height)\n",
    "    h3.SetStats(False)\n",
    "    h3.GetXaxis().SetTitle('[GeV/c^{2}]')\n",
    "    h3.Draw('same')\n",
    "    legend3 = ROOT.TLegend(0.8, 0.80, 0.95, 0.95)\n",
    "    legend3.AddEntry(h3.GetValue(), 'pim_m', 'l')\n",
    "    legend3.Draw('same')\n",
    "\n",
    "    canvas.cd(4)\n",
    "    h4 = dfFiltered.Histo1D(('kShort_m', 'mc_kShort_m', 60, 0.01, 1.0), 'kShort_m')\n",
    "    h4.SetLineColor(ROOT.kBlue)\n",
    "    h4.SetMinimum(min_height)\n",
    "    h4.SetMaximum(max_height)\n",
    "    h4.SetStats(False)\n",
    "    h4.GetXaxis().SetTitle('[GeV/c^{2}]')\n",
    "    h4.Draw('same')\n",
    "    h5 = dfFiltered.Histo1D(('pip2_m', 'mc_pip2_m', 60, 0.01, 1.0), 'pip2_m')\n",
    "    h5.SetLineColor(ROOT.kBlack)\n",
    "    h5.SetMinimum(min_height)\n",
    "    h5.SetMaximum(max_height)\n",
    "    h5.SetStats(False)\n",
    "    h5.Draw('same')\n",
    "    h6 = dfFiltered.Histo1D(('pim_m', 'mc_pim_m', 60, 0.01, 1.0), 'pim_m')\n",
    "    h6.SetLineColor(ROOT.kMagenta)\n",
    "    h6.SetMinimum(min_height)\n",
    "    h6.SetMaximum(max_height)\n",
    "    h6.SetStats(False)\n",
    "    h6.Draw('same')\n",
    "    legend4 = ROOT.TLegend(0.8, 0.80, 0.95, 0.95) # xLeft, yBottom, xRight, yTop\n",
    "    legend4.AddEntry(h4.GetValue(), 'ks_m', 'l')\n",
    "    legend4.AddEntry(h5.GetValue(), 'pip2_m', 'l')\n",
    "    legend4.AddEntry(h6.GetValue(), 'pim_m', 'l')\n",
    "    legend4.Draw('same')\n",
    "\n",
    "    canvas.cd(0)\n",
    "    title = ROOT.TLatex()\n",
    "    title.SetNDC()\n",
    "    title.SetTextFont(42)\n",
    "    title.SetTextSize(0.04)\n",
    "    title.DrawLatex(0.5, 0.95, \"mc\")\n",
    "\n",
    "    img_path = \"../_plotsMC/mcKShort.png\"\n",
    "    canvas.SaveAs(img_path)  # Saves the canvas as an image\n",
    "    canvas.Close()\n",
    "\n",
    "    display(Image(filename=img_path))\n",
    "\n",
    "\n",
    "analysis(dfKKpi)\n"
   ]
  },
  {
   "cell_type": "markdown",
   "metadata": {},
   "source": [
    "### Histogram - KK $\\pi$"
   ]
  },
  {
   "cell_type": "code",
   "execution_count": null,
   "metadata": {},
   "outputs": [],
   "source": [
    "from IPython.display import Image, display\n",
    "\n",
    "def plotting(df):\n",
    "    \n",
    "    ######## APPLY CUTS ########\n",
    "    dfFiltered = df.Filter(reject_delta) #.Filter(reject_lambda) # .Filter(keep_kstar_plus).Filter(reject_kstar_zero).Filter(select_kShort).\n",
    "    # dfFiltered = df.Filter(select_kShort)\n",
    "    ############################\n",
    "\n",
    "    canvas = ROOT.TCanvas(\"c\", \"c\", 800, 600)\n",
    "    h1 = dfFiltered.Histo1D(('KKpi_m', 'mcKKpi', 60, 1.2, 5.2), 'KKpi_m')\n",
    "    h1.SetStats(False)\n",
    "    h1.GetXaxis().SetTitle('[GeV/c^{2}]')\n",
    "    h1.Draw()\n",
    "\n",
    "    # create legend\n",
    "    legend = ROOT.TLegend(0.15, 0.83, 0.22, 0.88) # xLeft, yBottom, xRight, yTop\n",
    "    legend.AddEntry(h1.GetValue(), 'KKpi_m', 'l')\n",
    "    legend.Draw('same')\n",
    "    \n",
    "    img_path = \"../_plotsMC/mcKKpi.png\"\n",
    "    canvas.SaveAs(img_path)\n",
    "    canvas.Close()\n",
    "\n",
    "    # Display the saved image\n",
    "    display(Image(filename=img_path))\n",
    "\n",
    "plotting(dfKKpi)"
   ]
  },
  {
   "cell_type": "markdown",
   "metadata": {},
   "source": [
    "### Dalitz Plots - (kShort  +  $\\pi^{+}$) vs. (kMinus + $\\pi^{+}$)"
   ]
  },
  {
   "cell_type": "code",
   "execution_count": null,
   "metadata": {},
   "outputs": [],
   "source": [
    "from IPython.display import Image, display\n",
    "\n",
    "def dalitzPlot(df):\n",
    "    \n",
    "    ######## APPLY CUTS ########\n",
    "    dfFiltered = df #.Filter(pathlength_sig).Filter(select_KKpi)\n",
    "    ############################\n",
    "\n",
    "    h2 = dfFiltered.Histo2D(('DalitzPlot', 'DalitzPlot', 60, 0.1, 1.4, 60, 0.1, 1.4), 'kspip1_m2', 'kmpip1_m2')\n",
    "    canvas = ROOT.TCanvas(\"c\", \"c\", 800, 600)\n",
    "    h2.SetStats(False)\n",
    "    h2.Draw(\"colz\")\n",
    "    canvas.Update()\n",
    "    \n",
    "    img_path = \"../_plotsMC/dalitzPlots/mcDalitzTEST.png\"\n",
    "    canvas.SaveAs(img_path)\n",
    "    canvas.Draw()\n",
    "    # canvas.Close()\n",
    "    \n",
    "\n",
    "    # # Display the saved image\n",
    "    display(Image(filename=img_path))\n",
    "\n",
    "dalitzPlot(dfKKpi)"
   ]
  },
  {
   "cell_type": "markdown",
   "metadata": {},
   "source": [
    "## Fitting: define functions"
   ]
  },
  {
   "cell_type": "code",
   "execution_count": null,
   "metadata": {},
   "outputs": [],
   "source": [
    "# Create various functions from 'ROOT' framework for fitting to histograms\n",
    "\n",
    "# Breit-Wigner function\n",
    "bw = ROOT.TF1(\"bw\", \"breitwigner(0)\", 1.2, 1.7); # used to have BreitWigner(x, [4], [5])\n",
    "# bw = ROOT.TF1(\"bw\", \"TMath::BreitWigner(x, [0], [1])\", 0.4, 0.6)\n",
    "\n",
    "# Exponential\n",
    "exp = ROOT.TF1(\"exp\", \"TMath::Exp([0] + [1] * x + [2] * x * x)\", 1.2, 1.7) # old c++ code defines this exponential as 'bkg'\n",
    "exp.SetParName(0, \"expPar1\")\n",
    "exp.SetParName(1, \"expPar2\")\n",
    "exp.SetParName(2, \"expPar3\")\n",
    "\n",
    "# Voigtian function\n",
    "voigtian = ROOT.TF1(\"voigtian\", \"[0]*TMath::Voigt(x - [1], [2], [3])\", 1.2, 1.7)\n",
    "voigtian.SetParName(0, \"voigtian_amplitude\")\n",
    "voigtian.SetParName(1, \"voigtian_mean\") # 'mean' is the offset that places the peak at the correct position, where we know the resonance to be.  It represents the particles mass.\n",
    "voigtian.SetParName(2, \"voigtian_sigma\") # 'sigma' is the gaussian width (detector resolution)\n",
    "voigtian.SetParName(3, \"voigtian_width\") # ?? 'width' is the lorentzian width (natural width of the particle) ??\n",
    "\n",
    "# Voigtian with RooVoigtian\n",
    "# ???\n",
    "\n",
    "######## COMBINED FUNCTIONS ########\n",
    "\n",
    "# Voigtian + Exponential(3 parameters)\n",
    "voigtian_plus_exp = ROOT.TF1(\"voigt_plus_expo3\", \"voigtian + exp\", 0.1, 1.8)\n",
    "voigtian_plus_exp.SetParameter(0, 4.5E2)\n",
    "voigtian_plus_exp.SetParameter(1, 1.45807E0)\n",
    "voigtian_plus_exp.SetParameter(2, 1.0E-02)\n",
    "voigtian_plus_exp.SetParameter(3, 3.81110E-06)\n",
    "voigtian_plus_exp.SetParameter(4, -6.47E0)\n",
    "voigtian_plus_exp.SetParameter(5, 9.29E0)\n",
    "voigtian_plus_exp.SetParameter(6, -2.970E0)"
   ]
  },
  {
   "cell_type": "markdown",
   "metadata": {},
   "source": [
    "## Fitting: plots"
   ]
  },
  {
   "cell_type": "code",
   "execution_count": null,
   "metadata": {},
   "outputs": [],
   "source": [
    "# Change all my code to lazy execution, i.e. no functions, instead just put histos in a cell, then drawing, etc, in another cell\n",
    "\n",
    "from IPython.display import Image, display\n",
    "\n",
    "def fitting(df):\n",
    "    \n",
    "    ######## APPLY CUTS ########\n",
    "    dfFiltered = df.Filter(keep_kstar_plus).Filter(reject_kstar_zero).Filter(select_kShort).Filter(pathlength_sig).Filter(reject_delta).Filter(reject_lambda)\n",
    "    ############################\n",
    "\n",
    "    canvas = ROOT.TCanvas(\"c\", \"c\", 800, 600)\n",
    "    h1 = dfFiltered.Histo1D(('KKpi_m', 'KKpi', 60, 1.0, 1.8), 'KKpi_m')\n",
    "    h1.SetStats(False)\n",
    "    h1.Fit(voigtian_plus_exp, \"RV\")\n",
    "    h1.Draw()\n",
    "    voigtian_plus_exp.Draw(\"same\")\n",
    "    \n",
    "    img_path = \"../_plotsMC/mcKKpi_FIT_TEST.png\"\n",
    "    canvas.SaveAs(img_path)\n",
    "    canvas.Close()\n",
    "\n",
    "    # Display the saved image\n",
    "    display(Image(filename=img_path))\n",
    "\n",
    "fitting(dfKKpi)"
   ]
  }
 ],
 "metadata": {
  "kernelspec": {
   "display_name": "Python 3",
   "language": "python",
   "name": "python3"
  },
  "language_info": {
   "codemirror_mode": {
    "name": "ipython",
    "version": 3
   },
   "file_extension": ".py",
   "mimetype": "text/x-python",
   "name": "python",
   "nbconvert_exporter": "python",
   "pygments_lexer": "ipython3",
   "version": "3.6.8"
  }
 },
 "nbformat": 4,
 "nbformat_minor": 2
}
