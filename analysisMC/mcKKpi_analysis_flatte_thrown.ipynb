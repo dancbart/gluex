{
 "cells": [
  {
   "cell_type": "code",
   "execution_count": 1,
   "metadata": {},
   "outputs": [
    {
     "name": "stdout",
     "output_type": "stream",
     "text": [
      "current working directory:  /w/halld-scshelf2101/home/dbarton/gluex/analysisMC\n",
      "changed directory to:  /w/halld-scshelf2101/home/dbarton/gluex/dselectors\n",
      "['KKpi_mc_flatte.root', 'runDSelectorSWIF2_ROOT_SCRIPT.C', 'gen_amp_V2_030274_000.root', 'DSelector_KKpi_mcThrown_C_ACLiC_dict_rdict.pcm', 'DSelector_DEBUGGING.ipynb', 'tempMC', 'DSelector_mc_pipkmks_thrown_C.d', 'DSelector_KKpi_mcThrown_genamp2_C_ACLiC_dict_rdict.pcm', 'DSelector_pi0kplamb_flat_C.so', 'runDSelectorSWIF2.csh', 'KKpi_mc_flatte_THROWN.root', 'DSelector_KKpi_mc.C', 'DSelector_OmegaKLambdaNew.C', 'forRichardJones', 'DSelector_pipkmks_flat_bestchi2.C', 'DSelector_pipkmks_flat_bestchi2_C.so', 'DSelector_unqiueTracking.C', 'runDSelectorINTERACTIVE.cc', 'KKpi_mc_flatte_v0.root', 'DSelector_KKpi_mcThrown_C.d', 'genr8_030738_000.ascii', 'runDSelectorSWIF2_S17.config', 'gen_amp_V2_030274_000.hddm', 'archive', 'DSelector_pipkmks_flat_bestchi2.h', 'tmp', 'DSelector_KKpi_mc.h', 'runDSelectorSWIF2_tylerVersion.py', 'runDSelectorINTERACTIVE_proof.txt', 'DSelector_OmegaKLambdaData.C', 'DSelector_KKpi_mc_C.so', 'DSelector_KKpi_mcThrown_C.so', 'runDSelectorSWIF2_launch.py', 'DSelector_KKpi_mcThrown_genamp2.h', 'DSelector_KKpi_mcThrown.h', 'DSelector_KKpi_mcThrown_genamp2_C.d', 'DSelector_pipkmks_flat_bestchi2_C.d', 'runDSelectorINTERACTIVE.csh', 'DSelector_mc_pipkmks_thrown_C_ACLiC_dict_rdict.pcm', 'DSelector_pipkmks_flat_bestchi2_C_ACLiC_dict_rdict.pcm', 'RawData_Thrown.xlsx', 'DSelector_pi0kplamb_flat.h', 'DSelector_KKpi_mc_C_ACLiC_dict_rdict.pcm', 'DSelector_pi0kplamb_flat_C.d', 'DSelector_mc_pipkmks_thrown.h', 'DSelector_KKpi_mcThrown_genamp2_C.so', 'runDSelectorINTERACTIVE_proof_error.txt', 'DSelector_pi0kplamb_flat_C_ACLiC_dict_rdict.pcm', 'local_beam.conf', 'DSelector_OmegaKLambdaData.h', 'KKpi_mc_flatte_MASK.root', 'DSelector_mc_pipkmks_thrown_C.so', 'DSelector_KKpi_mcThrown.C', 'DSelector_KKpi_mcThrown_genamp2.C', 'pi0kplamb_flat_2018_08_v0.root', 'gen_amp_diagnostic.root', 'DSelector_KKpi_mc_C.d', 'DSelector_mc_pipkmks_thrown.C', 'pi0kplamb_flat_2018_08.root', 'DSelector_pi0kplamb_flat.C', 'DSelector_omegaEta.C']\n"
     ]
    }
   ],
   "source": [
    "import os \n",
    "print(\"current working directory: \", os.getcwd())\n",
    "os.chdir(\"/work/halld/home/dbarton/gluex/dselectors/\")\n",
    "print(\"changed directory to: \", os.getcwd())\n",
    "print(os.listdir())"
   ]
  },
  {
   "cell_type": "markdown",
   "metadata": {},
   "source": [
    "## Create Dataframe \\& list columns - THROWN"
   ]
  },
  {
   "cell_type": "code",
   "execution_count": 2,
   "metadata": {},
   "outputs": [
    {
     "name": "stdout",
     "output_type": "stream",
     "text": [
      "Welcome to JupyROOT 6.24/04\n",
      "File: /work/halld/home/dbarton/gluex/dselectors/KKpi_mc_flatte_THROWN.root\n",
      "Tree: pipkmks_flat_mc\n",
      "Branches:\n",
      " - pip1_px\n",
      " - pip1_py\n",
      " - pip1_pz\n",
      " - pip1_E\n",
      " - pip1_m\n",
      " - pip2_px\n",
      " - pip2_py\n",
      " - pip2_pz\n",
      " - pip2_E\n",
      " - pip2_m\n",
      " - pim_px\n",
      " - pim_py\n",
      " - pim_pz\n",
      " - pim_E\n",
      " - pim_m\n",
      " - km_px\n",
      " - km_py\n",
      " - km_pz\n",
      " - km_E\n",
      " - km_m\n",
      " - ks_px\n",
      " - ks_py\n",
      " - ks_pz\n",
      " - ks_E\n",
      " - ks_m\n",
      " - kShort_m\n",
      " - kmkspip1_m\n",
      " - a0_m\n",
      "TFile**\t\t/work/halld/home/dbarton/gluex/dselectors/KKpi_mc_flatte_THROWN.root\t\n",
      " TFile*\t\t/work/halld/home/dbarton/gluex/dselectors/KKpi_mc_flatte_THROWN.root\t\n",
      "  OBJ: TTree\tpipkmks_flat_mc\tpipkmks_flat_mc : 0 at: 0x563b33035010\n",
      "  KEY: TTree\tpipkmks_flat_mc;1\tpipkmks_flat_mc\n"
     ]
    }
   ],
   "source": [
    "import numpy as np\n",
    "import ROOT\n",
    "# ROOT.EnableImplicitMT() # Enable multi-threading\n",
    "fileName = \"/work/halld/home/dbarton/gluex/dselectors/KKpi_mc_flatte_THROWN.root\"\n",
    "treeName = \"pipkmks_flat_mc\"\n",
    "\n",
    "# Make dataframe from tree\n",
    "def buildDataFrame(fileName, treeName):\n",
    "    df = ROOT.RDataFrame(treeName, fileName)\n",
    "\n",
    "    return df\n",
    "\n",
    "dfKKpi = buildDataFrame(fileName, treeName)\n",
    "\n",
    "# List available columns for plotting\n",
    "def list_trees_and_branches(filename):\n",
    "    file = ROOT.TFile.Open(filename)\n",
    "    # Loop over all keys in the file\n",
    "    for key in file.GetListOfKeys():\n",
    "        obj = key.ReadObj()\n",
    "        # Check if the object is a tree\n",
    "        if isinstance(obj, ROOT.TTree):\n",
    "            tree = obj\n",
    "            print(f\"File: {filename}\")\n",
    "            print(f\"Tree: {tree.GetName()}\")\n",
    "            print(\"Branches:\")\n",
    "            # List all branches in the tree\n",
    "            branches = tree.GetListOfBranches()\n",
    "            for branch in branches:\n",
    "                print(f\" - {branch.GetName()}\")\n",
    "\n",
    "    file.ls()\n",
    "    file.Close()\n",
    "list_trees_and_branches(fileName)\n"
   ]
  },
  {
   "cell_type": "markdown",
   "metadata": {},
   "source": [
    "## Define Cuts"
   ]
  },
  {
   "cell_type": "code",
   "execution_count": 3,
   "metadata": {},
   "outputs": [],
   "source": [
    "# Define cuts\n",
    "\n",
    "pathlength_sig = 'pathlength_sig > 5' # pathlength significance cut\n",
    "reject_delta = 'delta_m > 1.4' # delta++ cut\n",
    "reject_lambda = 'lambda_m > 1.9' # lambda cut\n",
    "keep_kstar_plus = 'kspip1_m >= 0.8 && kspip1_m <= 1.0' # \"charged\" K*(KsPi+)\n",
    "keep_kstar_zero = 'kmpip1_m >= 0.8 && kmpip1_m <= 1.0' # \"neutral\" K*(K-Pi+)\n",
    "reject_kstar_plus = 'kspip1_m <= 0.8 || kspip1_m >= 1.0' # Reject \"charged\" K*(KsPi+)\n",
    "reject_kstar_zero = 'kmpip1_m <= 0.8 || kmpip1_m >= 1.0' # Reject \"neutral\" K*(K-Pi+)\n",
    "select_kShort = 'ks_m >= 0.45 && ks_m <= 0.55' # Select kShort\n",
    "reject_kShort = 'ks_m <= 0.45 || ks_m >= 0.55' # Reject kShort\n",
    "select_KKpi = 'KKpi_m >= 1.0 && KKpi_m <= 1.8' # Select KKpi\n",
    "\n"
   ]
  },
  {
   "cell_type": "markdown",
   "metadata": {},
   "source": [
    "### Histogram - kShort THROWN"
   ]
  },
  {
   "cell_type": "code",
   "execution_count": 3,
   "metadata": {},
   "outputs": [
    {
     "data": {
      "text/html": [
       "\n",
       "        <iframe\n",
       "            width=\"800\"\n",
       "            height=\"600\"\n",
       "            src=\"../_plotsMC/mcKShort_flatte_THROWN.pdf\"\n",
       "            frameborder=\"0\"\n",
       "            allowfullscreen\n",
       "            \n",
       "        ></iframe>\n",
       "        "
      ],
      "text/plain": [
       "<IPython.lib.display.IFrame at 0x7f34edd6ec40>"
      ]
     },
     "metadata": {},
     "output_type": "display_data"
    },
    {
     "name": "stdout",
     "output_type": "stream",
     "text": [
      "Number of events: 994\n"
     ]
    },
    {
     "name": "stderr",
     "output_type": "stream",
     "text": [
      "Info in <TCanvas::Print>: pdf file ../_plotsMC/mcKShort_flatte_THROWN.pdf has been created\n"
     ]
    }
   ],
   "source": [
    "from IPython.display import Image, display, IFrame\n",
    "\n",
    "def analysis(df):\n",
    "\n",
    "    ######## APPLY CUTS ########\n",
    "    dfFiltered = df\n",
    "    \n",
    "    ############################\n",
    "\n",
    "    # min_height = 0\n",
    "    # max_height = 2500\n",
    "\n",
    "    canvas = ROOT.TCanvas(\"c1\", \"c1\", 800, 600)\n",
    "    canvas.Divide(2, 2)\n",
    "\n",
    "    canvas.cd(1)\n",
    "    h1 = dfFiltered.Histo1D(('kShort_m', 'mc_ks_m', 60, 0.01, 1.0), 'ks_m') # arguments: (name, title, bins, min, max), columnVariable\n",
    "    h1.SetLineColor(ROOT.kBlue)\n",
    "    # h1.SetMinimum(min_height)\n",
    "    # h1.SetMaximum(3000)\n",
    "    h1.SetStats(False)\n",
    "    h1.GetXaxis().SetTitle('M(\\pi^{+} \\pi^{-}) [GeV/c^{2}]')\n",
    "    h1.Draw()\n",
    "    legend1 = ROOT.TLegend(0.8, 0.80, 0.95, 0.95)\n",
    "    legend1.AddEntry(h1.GetValue(), 'ks_m', 'l')\n",
    "    legend1.Draw('same')\n",
    "\n",
    "    canvas.cd(2)\n",
    "    h2 = dfFiltered.Histo1D(('pip2_m', 'mc_pip2_m', 60, 0.01, 1.0), 'pip2_m')\n",
    "    h2.SetLineColor(ROOT.kBlack)\n",
    "    # h2.SetMinimum(min_height)\n",
    "    # h2.SetMaximum(max_height)\n",
    "    h2.SetStats(False)\n",
    "    h2.GetXaxis().SetTitle('M(\\pi^{+}) [GeV/c^{2}]')\n",
    "    h2.Draw('same')\n",
    "    legend2 = ROOT.TLegend(0.8, 0.80, 0.95, 0.95)\n",
    "    legend2.AddEntry(h2.GetValue(), 'pip2_m', 'l')\n",
    "    legend2.Draw('same')\n",
    "\n",
    "    canvas.cd(3)\n",
    "    h3 = dfFiltered.Histo1D(('pim_m', 'mc_pim_m', 60, 0.01, 1.0), 'pim_m')\n",
    "    h3.SetLineColor(ROOT.kMagenta)\n",
    "    # h3.SetMinimum(min_height)\n",
    "    # h3.SetMaximum(max_height)\n",
    "    h3.SetStats(False)\n",
    "    h3.GetXaxis().SetTitle('M(\\pi^{-})[GeV/c^{2}]')\n",
    "    h3.Draw('same')\n",
    "    legend3 = ROOT.TLegend(0.8, 0.80, 0.95, 0.95)\n",
    "    legend3.AddEntry(h3.GetValue(), 'pim_m', 'l')\n",
    "    legend3.Draw('same')\n",
    "\n",
    "    canvas.cd(4)\n",
    "    h4 = dfFiltered.Histo1D(('kShort_m', 'mc_ks_m', 60, 0.01, 1.0), 'ks_m')\n",
    "    h4.SetLineColor(ROOT.kBlue)\n",
    "    # h4.SetMinimum(min_height)\n",
    "    # h4.SetMaximum(max_height)\n",
    "    h4.SetStats(False)\n",
    "    h4.GetXaxis().SetTitle('M(\\pi^{+} \\pi^{-}) [GeV/c^{2}]')\n",
    "    h4.Draw('same')\n",
    "    h5 = dfFiltered.Histo1D(('pip2_m', 'mc_pip2_m', 60, 0.01, 1.0), 'pip2_m')\n",
    "    h5.SetLineColor(ROOT.kBlack)\n",
    "    # h5.SetMinimum(min_height)\n",
    "    # h5.SetMaximum(max_height)\n",
    "    h5.SetStats(False)\n",
    "    h5.Draw('same')\n",
    "    h6 = dfFiltered.Histo1D(('pim_m', 'mc_pim_m', 60, 0.01, 1.0), 'pim_m')\n",
    "    h6.SetLineColor(ROOT.kMagenta)\n",
    "    # h6.SetMinimum(min_height)\n",
    "    # h6.SetMaximum(max_height)\n",
    "    h6.SetStats(False)\n",
    "    h6.Draw('same')\n",
    "    legend4 = ROOT.TLegend(0.8, 0.80, 0.95, 0.95) # xLeft, yBottom, xRight, yTop\n",
    "    legend4.AddEntry(h4.GetValue(), 'ks_m', 'l')\n",
    "    legend4.AddEntry(h5.GetValue(), 'pip2_m', 'l')\n",
    "    legend4.AddEntry(h6.GetValue(), 'pim_m', 'l')\n",
    "    legend4.Draw('same')\n",
    "\n",
    "    canvas.cd(0)\n",
    "    title = ROOT.TLatex()\n",
    "    title.SetNDC()\n",
    "    title.SetTextFont(42)\n",
    "    title.SetTextSize(0.04)\n",
    "    title.SetTextColor(2)\n",
    "    title.DrawLatex(0.5, 0.95, \"mc_flatte THROWN\")\n",
    "\n",
    "    img_path = \"../_plotsMC/mcKShort_flatte_THROWN.pdf\"\n",
    "    canvas.SaveAs(img_path)  # Saves the canvas as an image\n",
    "    canvas.Close()\n",
    "\n",
    "    # display(Image(filename=img_path))\n",
    "    display(IFrame(img_path, width=800, height=600))\n",
    "\n",
    "\n",
    "analysis(dfKKpi)\n",
    "\n",
    "n_events = dfKKpi.Count().GetValue()\n",
    "print(f\"Number of events: {n_events}\")\n"
   ]
  },
  {
   "cell_type": "markdown",
   "metadata": {},
   "source": [
    "### Histogram - Recoil Proton"
   ]
  },
  {
   "cell_type": "code",
   "execution_count": null,
   "metadata": {},
   "outputs": [],
   "source": [
    "from IPython.display import Image, display\n",
    "\n",
    "def analysis(df):\n",
    "\n",
    "    ######## APPLY CUTS ########\n",
    "    dfFiltered = df # .Filter(select_kShort)\n",
    "    ############################\n",
    "\n",
    "    # h1 = dfFiltered.Histo1D(('pip2_m', 'mc_various_THROWN', 60, 0.010, 0.9), 'pip2_m') # arguments: (name, title, bins, min, max), column)\n",
    "    # # h1.SetStats(False)\n",
    "    # h1.SetLineColor(ROOT.kBlue)\n",
    "    # h1.Draw()\n",
    "    h2 = dfFiltered.Histo1D(('proton_m', 'mc_RecoilProton_THROWN', 60, -1.0, 2.0), 'proton_m')\n",
    "    canvas = ROOT.TCanvas(\"c\", \"c\", 800, 600)\n",
    "    h2.SetLineColor(ROOT.kRed)\n",
    "    h2.Draw(\"same\")\n",
    "\n",
    "    # Get the number of entries in each histogram\n",
    "    # n_entries_h1 = h1.GetValue().GetEntries()\n",
    "    n_entries_h2 = h2.GetValue().GetEntries()\n",
    "\n",
    "    # Add legend\n",
    "    legend = ROOT.TLegend(0.75, 0.55, 0.95, 0.75)  # (xLeft, yBottom, xRight, yTop)\n",
    "    # legend.AddEntry(h1.GetValue(), f'PiPlus2 (N={n_entries_h1})', 'l')\n",
    "    legend.AddEntry(h2.GetValue(), f'proton_m (N={n_entries_h2})', 'l')\n",
    "    legend.Draw(\"same\")\n",
    "\n",
    "    img_path = \"../_plotsMC/mcRecoilProton_THROWN.png\"\n",
    "    canvas.SaveAs(img_path)  # Saves the canvas as an image\n",
    "    canvas.Close()\n",
    "\n",
    "    display(Image(filename=img_path))\n",
    "\n",
    "\n",
    "analysis(dfKKpi)"
   ]
  },
  {
   "cell_type": "markdown",
   "metadata": {},
   "source": [
    "### Histogram - KK $\\pi$ - THROWN"
   ]
  },
  {
   "cell_type": "code",
   "execution_count": 11,
   "metadata": {},
   "outputs": [
    {
     "data": {
      "text/html": [
       "\n",
       "        <iframe\n",
       "            width=\"800\"\n",
       "            height=\"600\"\n",
       "            src=\"../_plotsMC/mcKKpi_m_flatte_THROWN.pdf\"\n",
       "            frameborder=\"0\"\n",
       "            allowfullscreen\n",
       "            \n",
       "        ></iframe>\n",
       "        "
      ],
      "text/plain": [
       "<IPython.lib.display.IFrame at 0x7f34f01cd280>"
      ]
     },
     "metadata": {},
     "output_type": "display_data"
    },
    {
     "name": "stderr",
     "output_type": "stream",
     "text": [
      "Info in <TCanvas::Print>: pdf file ../_plotsMC/mcKKpi_m_flatte_THROWN.pdf has been created\n"
     ]
    }
   ],
   "source": [
    "from IPython.display import Image, display, IFrame\n",
    "\n",
    "def plotting(df):\n",
    "    \n",
    "    ######## APPLY CUTS ########\n",
    "    dfFiltered = df#.Filter(reject_delta) #.Filter(reject_lambda) # .Filter(keep_kstar_plus).Filter(reject_kstar_zero).Filter(select_kShort).\n",
    "    # dfFiltered = df.Filter(select_kShort)\n",
    "    ############################\n",
    "\n",
    "    \n",
    "    h1 = dfFiltered.Histo1D(('KKpi_m', 'mcKKpi_flatte THROWN', 60, 0.2, 5.2), 'kmkspip1_m')\n",
    "    canvas = ROOT.TCanvas(\"c\", \"c\", 800, 600)\n",
    "    # h1.SetStats(False)\n",
    "    h1.GetXaxis().SetTitle('Mass (K- Ks \\pi^{+})[GeV/c^{2}]')\n",
    "    h1.Draw()\n",
    "\n",
    "    # create legend\n",
    "    legend = ROOT.TLegend(0.15, 0.83, 0.22, 0.88) # xLeft, yBottom, xRight, yTop\n",
    "    legend.AddEntry(h1.GetValue(), 'KKpi_m', 'l')\n",
    "    legend.Draw('same')\n",
    "    \n",
    "    img_path = \"../_plotsMC/mcKKpi_m_flatte_THROWN.pdf\"\n",
    "    canvas.SaveAs(img_path)\n",
    "    canvas.Close()\n",
    "\n",
    "    # Display the saved image\n",
    "    display(IFrame(img_path, width=800, height=600))\n",
    "    \n",
    "\n",
    "plotting(dfKKpi)"
   ]
  },
  {
   "cell_type": "markdown",
   "metadata": {},
   "source": [
    "### Histogram - a0(980) mass - THROWN"
   ]
  },
  {
   "cell_type": "code",
   "execution_count": 6,
   "metadata": {},
   "outputs": [
    {
     "data": {
      "text/html": [
       "\n",
       "        <iframe\n",
       "            width=\"800\"\n",
       "            height=\"600\"\n",
       "            src=\"../_plotsMC/mc_a0_KmPip2Pim_flatte_THROWN.pdf\"\n",
       "            frameborder=\"0\"\n",
       "            allowfullscreen\n",
       "            \n",
       "        ></iframe>\n",
       "        "
      ],
      "text/plain": [
       "<IPython.lib.display.IFrame at 0x7f34f01e2e20>"
      ]
     },
     "metadata": {},
     "output_type": "display_data"
    },
    {
     "name": "stderr",
     "output_type": "stream",
     "text": [
      "Info in <TCanvas::Print>: pdf file ../_plotsMC/mc_a0_KmPip2Pim_flatte_THROWN.pdf has been created\n"
     ]
    }
   ],
   "source": [
    "from IPython.display import Image, display, IFrame\n",
    "\n",
    "def plotting(df):\n",
    "    \n",
    "    ######## APPLY CUTS ########\n",
    "    dfFiltered = df #.Filter(keep_kstar_plus).Filter(reject_kstar_zero).Filter(select_kShort).Filter(pathlength_sig).Filter(reject_delta).Filter(reject_lambda)\n",
    "    ############################\n",
    "\n",
    "    canvas = ROOT.TCanvas(\"c\", \"c\", 800, 600)\n",
    "    h1 = dfFiltered.Histo1D(('KKpi_m', 'mcA0_flatte_THROWN', 60, 0.5, 2.7), 'a0_m')\n",
    "    h1.SetStats(False)\n",
    "    h1.GetXaxis().SetTitle('a0 Mass (K^{-} \\pi^{+} \\pi^{-}) [GeV/c^{2}]')\n",
    "    h1.Draw()\n",
    "    \n",
    "    img_path = \"../_plotsMC/mc_a0_KmPip2Pim_flatte_THROWN.pdf\"\n",
    "    canvas.SaveAs(img_path)\n",
    "    canvas.Close()\n",
    "\n",
    "    # Display the saved image\n",
    "    # display(Image(filename=img_path))\n",
    "    display(IFrame(img_path, width=800, height=600))\n",
    "\n",
    "plotting(dfKKpi)"
   ]
  },
  {
   "cell_type": "markdown",
   "metadata": {},
   "source": [
    "### Dalitz Plots - (kShort  +  $\\pi^{+}$) vs. (kMinus + $\\pi^{+}$)"
   ]
  },
  {
   "cell_type": "code",
   "execution_count": null,
   "metadata": {},
   "outputs": [],
   "source": [
    "from IPython.display import Image, display\n",
    "\n",
    "def dalitzPlot(df):\n",
    "    \n",
    "    ######## APPLY CUTS ########\n",
    "    dfFiltered = df.Filter(pathlength_sig).Filter(select_KKpi)\n",
    "    ############################\n",
    "\n",
    "    h2 = dfFiltered.Histo2D(('DalitzPlot', 'DalitzPlot', 60, 0.1, 1.4, 60, 0.1, 1.4), 'kspip1_m2', 'kmpip1_m2')\n",
    "    canvas = ROOT.TCanvas(\"c\", \"c\", 800, 600)\n",
    "    h2.SetStats(False)\n",
    "    h2.Draw(\"colz\")\n",
    "    canvas.Update()\n",
    "    \n",
    "    img_path = \"../_plotsMC/dalitzPlots/mcDalitzTEST.png\"\n",
    "    canvas.SaveAs(img_path)\n",
    "    canvas.Draw()\n",
    "    # canvas.Close()\n",
    "    \n",
    "\n",
    "    # # Display the saved image\n",
    "    display(Image(filename=img_path))\n",
    "\n",
    "dalitzPlot(dfKKpi)"
   ]
  },
  {
   "cell_type": "markdown",
   "metadata": {},
   "source": [
    "## Fitting: define functions"
   ]
  },
  {
   "cell_type": "code",
   "execution_count": null,
   "metadata": {},
   "outputs": [],
   "source": [
    "# Create various functions from 'ROOT' framework for fitting to histograms\n",
    "\n",
    "# Breit-Wigner function\n",
    "bw = ROOT.TF1(\"bw\", \"breitwigner(0)\", 1.2, 1.7); # used to have BreitWigner(x, [4], [5])\n",
    "# bw = ROOT.TF1(\"bw\", \"TMath::BreitWigner(x, [0], [1])\", 0.4, 0.6)\n",
    "\n",
    "# Exponential\n",
    "exp = ROOT.TF1(\"exp\", \"TMath::Exp([0] + [1] * x + [2] * x * x)\", 1.2, 1.7) # old c++ code defines this exponential as 'bkg'\n",
    "exp.SetParName(0, \"expPar1\")\n",
    "exp.SetParName(1, \"expPar2\")\n",
    "exp.SetParName(2, \"expPar3\")\n",
    "\n",
    "# Voigtian function\n",
    "voigtian = ROOT.TF1(\"voigtian\", \"[0]*TMath::Voigt(x - [1], [2], [3])\", 1.2, 1.7)\n",
    "voigtian.SetParName(0, \"voigtian_amplitude\")\n",
    "voigtian.SetParName(1, \"voigtian_mean\") # 'mean' is the offset that places the peak at the correct position, where we know the resonance to be.  It represents the particles mass.\n",
    "voigtian.SetParName(2, \"voigtian_sigma\") # 'sigma' is the gaussian width (detector resolution)\n",
    "voigtian.SetParName(3, \"voigtian_width\") # ?? 'width' is the lorentzian width (natural width of the particle) ??\n",
    "\n",
    "# Voigtian with RooVoigtian\n",
    "# ???\n",
    "\n",
    "######## COMBINED FUNCTIONS ########\n",
    "\n",
    "# Voigtian + Exponential(3 parameters)\n",
    "voigtian_plus_exp = ROOT.TF1(\"voigt_plus_expo3\", \"voigtian + exp\", 0.1, 1.8)\n",
    "voigtian_plus_exp.SetParameter(0, 4.5E2)\n",
    "voigtian_plus_exp.SetParameter(1, 1.45807E0)\n",
    "voigtian_plus_exp.SetParameter(2, 1.0E-02)\n",
    "voigtian_plus_exp.SetParameter(3, 3.81110E-06)\n",
    "voigtian_plus_exp.SetParameter(4, -6.47E0)\n",
    "voigtian_plus_exp.SetParameter(5, 9.29E0)\n",
    "voigtian_plus_exp.SetParameter(6, -2.970E0)"
   ]
  },
  {
   "cell_type": "markdown",
   "metadata": {},
   "source": [
    "## Fitting: plots"
   ]
  },
  {
   "cell_type": "code",
   "execution_count": null,
   "metadata": {},
   "outputs": [],
   "source": [
    "# Change all my code to lazy execution, i.e. no functions, instead just put histos in a cell, then drawing, etc, in another cell\n",
    "\n",
    "from IPython.display import Image, display\n",
    "\n",
    "def fitting(df):\n",
    "    \n",
    "    ######## APPLY CUTS ########\n",
    "    dfFiltered = df.Filter(keep_kstar_plus).Filter(reject_kstar_zero).Filter(select_kShort).Filter(pathlength_sig).Filter(reject_delta).Filter(reject_lambda)\n",
    "    ############################\n",
    "\n",
    "    canvas = ROOT.TCanvas(\"c\", \"c\", 800, 600)\n",
    "    h1 = dfFiltered.Histo1D(('KKpi_m', 'KKpi', 60, 1.0, 1.8), 'KKpi_m')\n",
    "    h1.SetStats(False)\n",
    "    h1.Fit(voigtian_plus_exp, \"RV\")\n",
    "    h1.Draw()\n",
    "    voigtian_plus_exp.Draw(\"same\")\n",
    "    \n",
    "    img_path = \"../_plotsMC/mcKKpi_FIT_TEST.png\"\n",
    "    canvas.SaveAs(img_path)\n",
    "    canvas.Close()\n",
    "\n",
    "    # Display the saved image\n",
    "    display(Image(filename=img_path))\n",
    "\n",
    "fitting(dfKKpi)"
   ]
  }
 ],
 "metadata": {
  "kernelspec": {
   "display_name": "Python 3",
   "language": "python",
   "name": "python3"
  },
  "language_info": {
   "codemirror_mode": {
    "name": "ipython",
    "version": 3
   },
   "file_extension": ".py",
   "mimetype": "text/x-python",
   "name": "python",
   "nbconvert_exporter": "python",
   "pygments_lexer": "ipython3",
   "version": "3.9.18"
  }
 },
 "nbformat": 4,
 "nbformat_minor": 2
}
