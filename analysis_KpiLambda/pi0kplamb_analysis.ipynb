{
 "cells": [
  {
   "cell_type": "markdown",
   "metadata": {},
   "source": [
    "### Troubleshooting: Set working directory"
   ]
  },
  {
   "cell_type": "code",
   "execution_count": null,
   "metadata": {},
   "outputs": [],
   "source": [
    "# import os \n",
    "# print(\"starting directory: \", os.getcwd())\n",
    "# os.chdir(\"/w/halld-scshelf2101/home/dbarton/gluex/analysis_KpiLambda\")\n",
    "# print(\"changed directory to: \", os.getcwd())\n",
    "# !source /u/home/dbarton/.cshrc\n",
    "# !source /group/halld/Software/build_scripts/gluex_env_jlab.csh\n",
    "\n",
    "# import ROOT\n",
    "\n",
    "######## figuring out what shell is being used inside this notebook #########\n",
    "\n",
    "# Check what shell is being used:\n",
    "# !echo $SHELL\n",
    "\n",
    "# check which shell Jupyter actually spawned:\n",
    "# !ps -p $$ -o comm=\n",
    "\n",
    "# Check your default shell:\n",
    "# !getent passwd $USER\n",
    "\n",
    "# Check to see if tcsh shell is available in this session:\n",
    "# !getent passwd $USER\n",
    "\n",
    "# Envorinment variable mismatch?\n",
    "# !env | grep SHELL"
   ]
  },
  {
   "cell_type": "markdown",
   "metadata": {},
   "source": [
    "### Startup environment. Set global variables.  Define static cuts."
   ]
  },
  {
   "cell_type": "code",
   "execution_count": null,
   "metadata": {},
   "outputs": [],
   "source": [
    "# README: To use FSRoot in Jupyter Notebooks you need to be in a special container per  https://lan13005.github.io/PyAmpTools/intro.html#apptainer-usage\n",
    "\n",
    "# STEP 1: Open a terminal on ifarm\n",
    "\n",
    "# STEP 2: Initialize the container using this alias (defined here below)\n",
    "# $ fshell ######## --> This outputs a \"localhost\" URL, among other things.\n",
    "\n",
    "# STEP 3: Select your kernel in VS Code\n",
    "    # Open/create your Jupyter Notebook --> Select \"Open new Jupyter kernel\" --> copy & paste URL from STEP 2 --> press ENTER\n",
    "\n",
    "# Note: you can run this alias directly in a Jupyter Notebook cell with '!fshell'.  But it often crashes.  Just do it in a terminal.\n",
    "\n",
    "# Alias definition in STEP 2:\n",
    "# Add these lines to your shell configuration file (~/.cshrc for tcsh):\n",
    "# alias fshell 'apptainer exec --contain --writable-tmpfs -B /w/halld-scshelf2101/home/dbarton/gluex,/scratch --env BASH_ENV=/dev/null /w/halld-scshelf2101/lng/WORK/PyAmpTools9/pyamptools.sif bash -c \"source /etc/bash.bashrc; jupyter-lab --no-browser --port=8888; exec bash\"'"
   ]
  },
  {
   "cell_type": "code",
   "execution_count": 6,
   "metadata": {},
   "outputs": [
    {
     "name": "stdout",
     "output_type": "stream",
     "text": [
      "atiSetup| jupyter-lab called python3.9\n",
      "\n",
      "------------------------------------------------\n",
      "atiSetup| MPI is disabled\n",
      "atiSetup| GPU is disabled\n",
      "------------------------------------------------\n",
      "\n",
      "\n",
      "atiSetup| Loading library libIUAmpTools.so ............  ON\n",
      "atiSetup| Loading library libAmpTools.so ..............  ON\n",
      "atiSetup| Loading library libAmpPlotter.so ............  ON\n",
      "atiSetup| Loading library libAmpsDataIO.so ............  ON\n",
      "atiSetup| Loading library libFSRoot.so ................  ON\n",
      "atiSetup| Loading library libAmpsGen.so ...............  OFF\n",
      "\n",
      "\n",
      "------------------------------------------------\n",
      "------------------------------------------------\n",
      "\n",
      "atiSetup| Saved aliases found in /app/PyAmpTools/src/pyamptools/.aliases.txt, attempting to load...\n",
      "atiSetup| minor warning: Unable to alias omegapiAngles - doesn't exist under ROOT namespace\n",
      "atiSetup| minor warning: Unable to alias URtypes - doesn't exist under ROOT namespace\n",
      "atiSetup| minor warning: Unable to alias URConfig - doesn't exist under ROOT namespace\n",
      "atiSetup| minor warning: Unable to alias FSFitFunctions - doesn't exist under ROOT namespace\n",
      "atiSetup| minor warning: Unable to alias FSFitPrivate - doesn't exist under ROOT namespace\n"
     ]
    }
   ],
   "source": [
    "import ROOT\n",
    "from pyamptools import atiSetup\n",
    "import os\n",
    "os.chdir(\"/w/halld-scshelf2101/home/dbarton/gluex/analysis_KpiLambda\")\n",
    "os.listdir()\n",
    "atiSetup.setup(globals(), use_fsroot=True)\n",
    "fileName = '/w/halld-scshelf2101/home/dbarton/gluex/analysis_KpiLambda/pi0kplamb_FSflat_2018_08.root'\n",
    "treeName = 'ntFSGlueX_100000000_100001'\n",
    "\n",
    "# USEFUL TUTORIAL: https://halldweb.jlab.org/DocDB/0055/005596/001/20220523_GlueX_AnWorkshop_Malte.pdf\n",
    "\n",
    "# CREATING THE ROOT FILE WITH FSROOT\n",
    "\n",
    "    # IMPORTANT: All this code depends on the using the correct indices for particles when passing values to functions.  The indices are set when 'flattening' a file by this flag: -mctag[MCExtras_MCDecayCode2_MCDecayCode1]\n",
    "\n",
    "    # To nderstand the indices, you can use the 'flatten' command in the terminal or refer to this documentation: https://github.com/remitche66/FSRoot/blob/master/Documentation/FSRoot.pdf (pg. 8).\n",
    "\n",
    "# FLATTENED USING:\n",
    "# ifarm2401.jlab.org:dbarton> flatten -in /cache/halld/RunPeriod-2018-08/analysis/ver23/tree_pi0kplamb__B4_M18/merged/tree_pi0kplamb__B4_M18_051768.root -out pi0kplamb_FSflat_2018_08.root -mctag 0_1_100001\n",
    "\n",
    "# REACTION: gamma p --> K+ pi0 Lambda\n",
    "\n",
    "# INDICES ASSIGNED BY 'flatten':\n",
    "# 1. DecayingLambda (0)   1a. Proton (1)   1b. PiMinus (2)\n",
    "# 2. KPlus (3)\n",
    "# 3. DecayingPi0 (4)   3a. Photon1 (5)   3b. Photon2 (6)\n",
    "# Note the indices are [1, 1a, 1b, etc.] not numbers in parentheses.\n",
    "\n",
    "# DEFINE STRINGS FOR TO PASS TO FSROOT FUNCTIONS INSTEAD OF PARTICLE INDICES (for readability):\n",
    "DecayingLambda = \"1\"\n",
    "Proton = \"1a\"\n",
    "PiMinus = \"1b\"\n",
    "KPlus = \"2\"\n",
    "DecayingPi0 = \"3\"\n",
    "Photon1 = \"3a\"\n",
    "Photon2 = \"3b\"\n",
    "\n",
    "# BASIC CUTS JUSTIN'S SURVEY\n",
    "# Unused shower E, target Z, MM^2, KinFitChi^2/DOF\n",
    "# Dominant background is: p pip pim pi0\n",
    "\n",
    "# DEFINE CUTS\n",
    "ROOT.FSCut.defineCut(\"chi2\",\"Chi2DOF\",\"0.0\",\"10.0\")\n",
    "ROOT.FSCut.defineCut(\"unusedE\",\"EnUnusedSh\",\"0.0\",\"0.1\") # UnusedEnergy < 0.1 GeV (unused \"shower\"? energy)\n",
    "ROOT.FSCut.defineCut(\"unusedTracks\",\"NumUnusedTracks<1\") # No unused tracks\n",
    "ROOT.FSCut.defineCut(\"coherentPeak\",\"EnPB\",\"8.2\",\"8.8\") # Coherent peak: 8.2 < E_beam < 8.8\n",
    "\n",
    "\n",
    "# DEFINE INVARIANT MASSES\n",
    "# ROOT.FSCut.defineCut(\"constrainLambda\",\"\") # Start unconstrained, then try constraining Lambda\n",
    "# ROOT.FSCut.defineCut(\"lambdaMissingMass\",\"\") # \n",
    "# ROOT.FSCut.defineCut(\"sigma\") # cut on sigma(1385)\n",
    "\n",
    "# TO DO, KEVIN 2/7/2025.  Some plots to start out:\n",
    "# masses, momentum, chi2, RFdeltaT's, Dalitz plots, angle stuff\n",
    "\n",
    "# TO ADD TOGETHER A BUNCH OF ROOT FILES:\n",
    "# vim /work/halld/home/ksaldan/fcal_timing/runDSelector.py\n",
    "# vim /work/halld/home/ksaldan/fcal_timing/run_DSelector_TEMPLATE.sh\n",
    "\n"
   ]
  },
  {
   "cell_type": "markdown",
   "metadata": {},
   "source": [
    "### List contents of ROOT file"
   ]
  },
  {
   "cell_type": "code",
   "execution_count": null,
   "metadata": {},
   "outputs": [],
   "source": [
    "def list_trees_and_branches(fileName):\n",
    "    file = ROOT.TFile.Open(fileName)\n",
    "    # Loop over all keys in the file\n",
    "    for key in file.GetListOfKeys():\n",
    "        obj = key.ReadObj()\n",
    "        # Check if the object is a tree\n",
    "        if isinstance(obj, ROOT.TTree):\n",
    "            tree = obj\n",
    "            print(f\"Tree Name: {tree.GetName()}\")\n",
    "            print(\"Branches:\")\n",
    "            # List all branches in the tree\n",
    "            branches = tree.GetListOfBranches()\n",
    "            for branch in branches:\n",
    "                print(f\" - {branch.GetName()}\")\n",
    "\n",
    "    # Close the file\n",
    "    file.Close()\n",
    "\n",
    "list_trees_and_branches(fileName)"
   ]
  },
  {
   "cell_type": "markdown",
   "metadata": {},
   "source": [
    "### Chi2/DOF - 2D"
   ]
  },
  {
   "cell_type": "code",
   "execution_count": 7,
   "metadata": {},
   "outputs": [
    {
     "data": {
      "image/png": "[encoded data removed]",
      "text/plain": [
       "<IPython.core.display.Image object>"
      ]
     },
     "metadata": {},
     "output_type": "display_data"
    },
    {
     "name": "stdout",
     "output_type": "stream",
     "text": [
      "    CREATING HISTOGRAM... FSRootHist:000009   OKAY           (entries = 369565)\n"
     ]
    },
    {
     "name": "stderr",
     "output_type": "stream",
     "text": [
      "Info in <TCanvas::Print>: pdf file plots/pi0kplamb_Chi2DOF-Event.pdf has been created\n",
      "Info in <TCanvas::Print>: png file plots/pi0kplamb_Chi2DOF-Event.png has been created\n"
     ]
    }
   ],
   "source": [
    "from IPython.display import Image, display\n",
    "latex = ROOT.TLatex()\n",
    "\n",
    "plotTitle = 'Chi2/DOF'\n",
    "axisLabel = 'Chi2/DOF'\n",
    "\n",
    "# 1. DecayingLambda (0)   1a. Proton (1)   1b. PiMinus (2)\n",
    "# 2. KPlus (3)\n",
    "# 3. DecayingPi0 (4)   3a. Photon1 (5)   3b. Photon2 (6)\n",
    "# Note the indices are [1, 1a, 1b, etc.] not numbers in parentheses.\n",
    "\n",
    "def plot_hist():\n",
    "\n",
    "    canvas = ROOT.TCanvas('c', 'c', 800, 600)\n",
    "\n",
    "    h1 = ROOT.FSHistogram.getTH2F(fileName, treeName, \"Chi2DOF:Event\", \"(60,0.0,155000000.0,60,0.0,10.0)\", \"\")\n",
    "\n",
    "    h1.SetTitle(plotTitle)\n",
    "    h1.SetStats(False)\n",
    "    # h1.SetLineColor(ROOT.kBlue)\n",
    "    h1.GetXaxis().SetTitle(axisLabel)\n",
    "    h1.GetYaxis().SetTitle('Events')\n",
    "    h1.Draw('colz')\n",
    "    \n",
    "    legend1 = ROOT.TLegend(0.60, 0.80, 0.90, 0.90) # x_left, y_bottom, x_right, y_top\n",
    "    legend1.AddEntry(h1, plotTitle + ' no cuts', 'l')\n",
    "    legend1.Draw('same')\n",
    "\n",
    "    img_path = 'plots/pi0kplamb_Chi2DOF-Event'\n",
    "    canvas.SaveAs(img_path + '.pdf')\n",
    "    canvas.SaveAs(img_path + '.png')\n",
    "    canvas.Close()\n",
    "    display(Image(filename=img_path + '.png'))\n",
    "    os.remove(img_path + '.png')\n",
    "\n",
    "plot_hist()"
   ]
  },
  {
   "cell_type": "markdown",
   "metadata": {},
   "source": [
    "### Chi2/DOF 1D"
   ]
  },
  {
   "cell_type": "code",
   "execution_count": 60,
   "metadata": {},
   "outputs": [
    {
     "data": {
      "image/png": "[encoded data removed]",
      "text/plain": [
       "<IPython.core.display.Image object>"
      ]
     },
     "metadata": {},
     "output_type": "display_data"
    },
    {
     "name": "stdout",
     "output_type": "stream",
     "text": [
      "    FOUND HISTOGRAM...    FSRootHist:000018   OKAY           (entries = 369565)\n"
     ]
    },
    {
     "name": "stderr",
     "output_type": "stream",
     "text": [
      "Info in <TCanvas::Print>: pdf file plots/pi0kplamb_Chi2DOF.pdf has been created\n",
      "Info in <TCanvas::Print>: png file plots/pi0kplamb_Chi2DOF.png has been created\n"
     ]
    }
   ],
   "source": [
    "from IPython.display import Image, display\n",
    "latex = ROOT.TLatex()\n",
    "\n",
    "plotTitle = 'Chi2/DOF'\n",
    "axisLabel = 'Chi2/DOF'\n",
    "\n",
    "# 1. DecayingLambda (0)   1a. Proton (1)   1b. PiMinus (2)\n",
    "# 2. KPlus (3)\n",
    "# 3. DecayingPi0 (4)   3a. Photon1 (5)   3b. Photon2 (6)\n",
    "# Note the indices are [1, 1a, 1b, etc.] not numbers in parentheses.\n",
    "\n",
    "def plot_hist():\n",
    "\n",
    "    canvas = ROOT.TCanvas('c', 'c', 800, 600)\n",
    "\n",
    "    h1 = ROOT.FSHistogram.getTH1F(fileName, treeName, \"Chi2DOF\", \"(60,0.0,16.0)\", \"\")\n",
    "\n",
    "    h1.SetTitle(plotTitle)\n",
    "    h1.SetStats(False)\n",
    "    h1.SetLineColor(ROOT.kBlue)\n",
    "    h1.GetXaxis().SetTitle(axisLabel)\n",
    "    h1.GetYaxis().SetTitle('Events')\n",
    "    h1.Draw()\n",
    "    \n",
    "    legend1 = ROOT.TLegend(0.60, 0.80, 0.90, 0.90) # x_left, y_bottom, x_right, y_top\n",
    "    legend1.AddEntry(h1, plotTitle + ' no cuts', 'l')\n",
    "    legend1.Draw('same')\n",
    "\n",
    "    img_path = 'plots/pi0kplamb_Chi2DOF'\n",
    "    canvas.SaveAs(img_path + '.pdf')\n",
    "    canvas.SaveAs(img_path + '.png')\n",
    "    canvas.Close()\n",
    "    display(Image(filename=img_path + '.png'))\n",
    "    os.remove(img_path + '.png')\n",
    "\n",
    "plot_hist()"
   ]
  },
  {
   "cell_type": "markdown",
   "metadata": {},
   "source": [
    "### $K^{+} \\pi^{0}$ (can be $K^{*}$)"
   ]
  },
  {
   "cell_type": "code",
   "execution_count": 9,
   "metadata": {},
   "outputs": [
    {
     "data": {
      "image/png": "[encoded data removed]",
      "text/plain": [
       "<IPython.core.display.Image object>"
      ]
     },
     "metadata": {},
     "output_type": "display_data"
    },
    {
     "name": "stdout",
     "output_type": "stream",
     "text": [
      "    CREATING HISTOGRAM... FSRootHist:000012   OKAY           (entries = 2783)\n",
      "    CREATING HISTOGRAM... FSRootHist:000013   OKAY           (entries = 369565)\n"
     ]
    },
    {
     "name": "stderr",
     "output_type": "stream",
     "text": [
      "Info in <TCanvas::Print>: pdf file plots/pi0kplamb_kpPi0_m.pdf has been created\n",
      "Info in <TCanvas::Print>: png file plots/pi0kplamb_kpPi0_m.png has been created\n"
     ]
    }
   ],
   "source": [
    "from IPython.display import Image, display\n",
    "latex = ROOT.TLatex()\n",
    "\n",
    "plotTitle = 'Mass (K^{+} \\pi^{0})'\n",
    "axisLabel = 'Mass (K^{+} \\pi^{0})'\n",
    "\n",
    "# 1. DecayingLambda (0)   1a. Proton (1)   1b. PiMinus (2)\n",
    "# 2. KPlus (3)\n",
    "# 3. DecayingPi0 (4)   3a. Photon1 (5)   3b. Photon2 (6)\n",
    "# Note the indices are [1, 1a, 1b, etc.] not numbers in parentheses.\n",
    "\n",
    "def plot_hist():\n",
    "\n",
    "    # Clear cache when re-plotting/scaling/etc.\n",
    "    ROOT.FSHistogram.clearHistogramCache()\n",
    "\n",
    "    canvas = ROOT.TCanvas('c', 'c', 800, 600)\n",
    "    canvas.SetLeftMargin(0.15)\n",
    "\n",
    "    # FOR MULTIPLE FINAL STATES AND TO MANAGE PARTICLE COMBINATORICS WITHIN THOSE FINAL STATES.\n",
    "    # h1 = ROOT.FSModeHistogram.getTH1F(fileName, treeName, \"MASS([K+],[pi0],[pi-])\", \"(60, 0.05, 2.0)\", \"\")\n",
    "\n",
    "\n",
    "\n",
    "    h1 = ROOT.FSHistogram.getTH1F(fileName, treeName, f\"MASS({KPlus},{DecayingPi0})\", \"(60, 0.05, 2.0)\", \"CUT(chi2,unusedE,unusedTracks,coherentPeak)\")\n",
    "    # h2 = ROOT.FSHistogram.getTH1F(fileName, treeName, \"MASS(2,3)\", \"(60, 0.05, 2.0)\", \"CUT(chi2,unusedE,unusedTracks,coherentPeak)\")\n",
    "    h2 = ROOT.FSHistogram.getTH1F(fileName, treeName, f\"MASS({KPlus},{DecayingPi0})\", \"(60, 0.05, 2.0)\", \"\")\n",
    "\n",
    "    h1.SetTitle(\"\")\n",
    "    h1.SetTitle(plotTitle)\n",
    "    h1.SetStats(False)\n",
    "    h1.SetLineColor(ROOT.kRed)\n",
    "    h1.GetXaxis().SetTitle(axisLabel + '[GeV/c^{2}]')\n",
    "    h1.GetYaxis().SetTitle('Events')\n",
    "    # h1.Scale(100)\n",
    "\n",
    "    h2.SetStats(False)\n",
    "    h2.SetLineColor(ROOT.kBlue)\n",
    "    h2.GetXaxis().SetTitle(axisLabel)\n",
    "    h2.GetYaxis().SetTitle('Events')\n",
    "    # h2.Scale(2)\n",
    "\n",
    "    h2.Draw('hist')\n",
    "    h1.Draw('same')\n",
    "    \n",
    "\n",
    "    legend1 = ROOT.TLegend(0.70, 0.80, 0.90, 0.90) # x_left, y_bottom, x_right, y_top\n",
    "    legend1.AddEntry(h1, plotTitle + ' w/cuts', 'l')\n",
    "    # legend1.AddEntry(h2, plotTitle + ' no cuts', 'l')\n",
    "    legend1.Draw('same')\n",
    "\n",
    "    img_path = 'plots/pi0kplamb_kpPi0_m'\n",
    "    canvas.SaveAs(img_path + '.pdf')\n",
    "    canvas.SaveAs(img_path + '.png')\n",
    "    canvas.Close()\n",
    "    display(Image(filename=img_path + '.png'))\n",
    "    os.remove(img_path + '.png')\n",
    "\n",
    "plot_hist()"
   ]
  },
  {
   "cell_type": "markdown",
   "metadata": {},
   "source": [
    "### $\\pi^{0}$: Mass ($\\gamma_{1}$ $\\gamma_{2}$)"
   ]
  },
  {
   "cell_type": "code",
   "execution_count": 51,
   "metadata": {},
   "outputs": [
    {
     "name": "stdout",
     "output_type": "stream",
     "text": [
      "Photon1:  3a\n",
      "Photon2:  3b\n"
     ]
    },
    {
     "data": {
      "image/png": "[encoded data removed]",
      "text/plain": [
       "<IPython.core.display.Image object>"
      ]
     },
     "metadata": {},
     "output_type": "display_data"
    },
    {
     "name": "stdout",
     "output_type": "stream",
     "text": [
      "    FOUND HISTOGRAM...    FSRootHist:000024   OKAY           (entries = 369565)\n"
     ]
    },
    {
     "name": "stderr",
     "output_type": "stream",
     "text": [
      "Info in <TCanvas::Print>: pdf file plots/pi0kplamb_Pi0_m.pdf has been created\n",
      "Info in <TCanvas::Print>: png file plots/pi0kplamb_Pi0_m.png has been created\n"
     ]
    }
   ],
   "source": [
    "from IPython.display import Image, display\n",
    "latex = ROOT.TLatex()\n",
    "\n",
    "plotTitle = '\\pi^{0}: Mass (\\gamma_{1} \\gamma_{2})'\n",
    "axisLabel = '\\pi^{0}: Mass (\\gamma_{1} \\gamma_{2})'\n",
    "\n",
    "# 1. DecayingLambda (0)   1a. Proton (1)   1b. PiMinus (2)\n",
    "# 2. KPlus (3)\n",
    "# 3. DecayingPi0 (4)   3a. Photon1 (5)   3b. Photon2 (6)\n",
    "# Note the indices are [1, 1a, 1b, etc.] not numbers in parentheses.\n",
    "\n",
    "def plot_hist():\n",
    "\n",
    "    canvas = ROOT.TCanvas('c', 'c', 800, 600)\n",
    "    canvas.SetLeftMargin(0.15)\n",
    "\n",
    "    print(\"Photon1: \", Photon1)\n",
    "    print(\"Photon2: \", Photon2)\n",
    "    # h1 = ROOT.FSHistogram.getTH1F(fileName, treeName, f\"MASS(3a, 3b)\", \"(80, 0.1, 0.2)\", \"\")\n",
    "    # h1 = ROOT.FSHistogram.getTH1F(fileName, treeName, f\"MASS({Photon1}, {Photon2})\", \"(80, 0.1, 0.2)\", \"\")\n",
    "    h1 = ROOT.FSHistogram.getTH1F(fileName, treeName, f\"MASS({DecayingPi0})\", \"(80, 0.1, 0.2)\", \"\")\n",
    "    \n",
    "    h1.SetTitle(\"\")\n",
    "    h1.SetTitle(plotTitle)\n",
    "    h1.SetStats(False)\n",
    "    h1.SetLineColor(ROOT.kBlue)\n",
    "    h1.GetXaxis().SetTitle(axisLabel + ' [GeV/c^{2}]')\n",
    "    h1.GetYaxis().SetTitle('Events')\n",
    "    h1.Draw('hist')\n",
    "    \n",
    "    legend1 = ROOT.TLegend(0.60, 0.80, 0.90, 0.90) # x_left, y_bottom, x_right, y_top\n",
    "    legend1.AddEntry(h1, plotTitle + ' no cuts', 'l')\n",
    "    legend1.Draw('same')\n",
    "\n",
    "    img_path = 'plots/pi0kplamb_Pi0_m'\n",
    "    canvas.SaveAs(img_path + '.pdf')\n",
    "    canvas.SaveAs(img_path + '.png')\n",
    "    canvas.Close()\n",
    "    display(Image(filename=img_path + '.png'))\n",
    "    os.remove(img_path + '.png')\n",
    "\n",
    "plot_hist()"
   ]
  },
  {
   "cell_type": "markdown",
   "metadata": {},
   "source": [
    "### $\\gamma_{1}$ energy"
   ]
  },
  {
   "cell_type": "code",
   "execution_count": 84,
   "metadata": {},
   "outputs": [
    {
     "data": {
      "image/png": "[encoded data removed]",
      "text/plain": [
       "<IPython.core.display.Image object>"
      ]
     },
     "metadata": {},
     "output_type": "display_data"
    },
    {
     "name": "stdout",
     "output_type": "stream",
     "text": [
      "    FOUND HISTOGRAM...    FSRootHist:000004   OKAY           (entries = 369565)\n"
     ]
    },
    {
     "name": "stderr",
     "output_type": "stream",
     "text": [
      "Info in <TCanvas::Print>: pdf file plots/pi0kplamb_photon1_E.pdf has been created\n",
      "Info in <TCanvas::Print>: png file plots/pi0kplamb_photon1_E.png has been created\n"
     ]
    }
   ],
   "source": [
    "from IPython.display import Image, display\n",
    "latex = ROOT.TLatex()\n",
    "\n",
    "plotTitle = 'Energy (\\gamma_{1})'\n",
    "plot2Title = 'Momentum (\\gamma_{1})'\n",
    "axisLabel = '(\\gamma_{1})'\n",
    "\n",
    "# 1. DecayingLambda (0)   1a. Proton (1)   1b. PiMinus (2)\n",
    "# 2. KPlus (3)\n",
    "# 3. DecayingPi0 (4)   3a. Photon1 (5)   3b. Photon2 (6)\n",
    "# Note the indices are [1, 1a, 1b, etc.] not numbers in parentheses.\n",
    "\n",
    "def plot_hist():\n",
    "\n",
    "    canvas = ROOT.TCanvas('c', 'c', 800, 600)\n",
    "    canvas.SetLeftMargin(0.15)\n",
    "\n",
    "    h1 = ROOT.FSHistogram.getTH1F(fileName, treeName, f\"ENERGY({Photon1})\", \"(80, 0.0, 14.0)\", \"\")\n",
    "\n",
    "    h1.SetTitle(plotTitle)\n",
    "    h1.SetStats(False)\n",
    "    h1.SetLineColor(ROOT.kBlue)\n",
    "    h1.GetXaxis().SetTitle(axisLabel + ' [GeV/c^{2}]')\n",
    "    h1.GetYaxis().SetTitle('Events')\n",
    "    h1.Draw()\n",
    "    \n",
    "    legend1 = ROOT.TLegend(0.60, 0.80, 0.90, 0.90) # x_left, y_bottom, x_right, y_top\n",
    "    legend1.AddEntry(h1, plotTitle + ' no cuts', 'l')\n",
    "    legend1.Draw('same')\n",
    "\n",
    "    img_path = 'plots/pi0kplamb_photon1_E'\n",
    "    canvas.SaveAs(img_path + '.pdf')\n",
    "    canvas.SaveAs(img_path + '.png')\n",
    "    canvas.Close()\n",
    "    display(Image(filename=img_path + '.png'))\n",
    "    os.remove(img_path + '.png')\n",
    "\n",
    "plot_hist()"
   ]
  },
  {
   "cell_type": "markdown",
   "metadata": {},
   "source": [
    "### $\\gamma_{2}$ energy"
   ]
  },
  {
   "cell_type": "code",
   "execution_count": 86,
   "metadata": {},
   "outputs": [
    {
     "data": {
      "image/png": "[encoded data removed]",
      "text/plain": [
       "<IPython.core.display.Image object>"
      ]
     },
     "metadata": {},
     "output_type": "display_data"
    },
    {
     "name": "stdout",
     "output_type": "stream",
     "text": [
      "    FOUND HISTOGRAM...    FSRootHist:000005   OKAY           (entries = 369565)\n"
     ]
    },
    {
     "name": "stderr",
     "output_type": "stream",
     "text": [
      "Info in <TCanvas::Print>: pdf file plots/pi0kplamb_photon2_E.pdf has been created\n",
      "Info in <TCanvas::Print>: png file plots/pi0kplamb_photon2_E.png has been created\n"
     ]
    }
   ],
   "source": [
    "from IPython.display import Image, display\n",
    "latex = ROOT.TLatex()\n",
    "\n",
    "plotTitle = 'Energy (\\gamma_{2})'\n",
    "plot2Title = 'Momentum (\\gamma_{2})'\n",
    "axisLabel = '(\\gamma_{2})'\n",
    "\n",
    "# 1. DecayingLambda (0)   1a. Proton (1)   1b. PiMinus (2)\n",
    "# 2. KPlus (3)\n",
    "# 3. DecayingPi0 (4)   3a. Photon1 (5)   3b. Photon2 (6)\n",
    "# Note the indices are [1, 1a, 1b, etc.] not numbers in parentheses.\n",
    "\n",
    "def plot_hist():\n",
    "\n",
    "    canvas = ROOT.TCanvas('c', 'c', 800, 600)\n",
    "    canvas.SetLeftMargin(0.15)\n",
    "\n",
    "    h1 = ROOT.FSHistogram.getTH1F(fileName, treeName, f\"ENERGY({Photon2})\", \"(80, 0.0, 14.0)\", \"\")\n",
    "\n",
    "    h1.SetTitle(plotTitle)\n",
    "    h1.SetStats(False)\n",
    "    h1.SetLineColor(ROOT.kBlue)\n",
    "    h1.GetXaxis().SetTitle(axisLabel + ' [GeV]')\n",
    "    h1.GetYaxis().SetTitle('Events')\n",
    "    h1.Draw()\n",
    "    \n",
    "    legend1 = ROOT.TLegend(0.60, 0.80, 0.90, 0.90) # x_left, y_bottom, x_right, y_top\n",
    "    legend1.AddEntry(h1, plotTitle + ' no cuts', 'l')\n",
    "    legend1.Draw('same')\n",
    "\n",
    "    img_path = 'plots/pi0kplamb_photon2_E'\n",
    "    canvas.SaveAs(img_path + '.pdf')\n",
    "    canvas.SaveAs(img_path + '.png')\n",
    "    canvas.Close()\n",
    "    display(Image(filename=img_path + '.png'))\n",
    "    os.remove(img_path + '.png')\n",
    "\n",
    "plot_hist()"
   ]
  },
  {
   "cell_type": "markdown",
   "metadata": {},
   "source": [
    "### $\\Lambda$:   Mass(proton $\\pi^{-}$)"
   ]
  },
  {
   "cell_type": "code",
   "execution_count": 101,
   "metadata": {},
   "outputs": [
    {
     "data": {
      "image/png": "[encoded data removed]",
      "text/plain": [
       "<IPython.core.display.Image object>"
      ]
     },
     "metadata": {},
     "output_type": "display_data"
    },
    {
     "name": "stdout",
     "output_type": "stream",
     "text": [
      "    FOUND HISTOGRAM...    FSRootHist:000059   OKAY           (entries = 2783)\n",
      "    FOUND HISTOGRAM...    FSRootHist:000060   OKAY           (entries = 369565)\n"
     ]
    },
    {
     "name": "stderr",
     "output_type": "stream",
     "text": [
      "Info in <TCanvas::Print>: pdf file plots/pi0kplamb_protPim_m.pdf has been created\n",
      "Info in <TCanvas::Print>: png file plots/pi0kplamb_protPim_m.png has been created\n"
     ]
    }
   ],
   "source": [
    "from IPython.display import Image, display\n",
    "latex = ROOT.TLatex()\n",
    "\n",
    "plotTitle = '\\Lambda: Mass (Proton \\pi^{-})'\n",
    "axisLabel = 'Mass (Proton \\pi^{-})'\n",
    "\n",
    "def plot_hist():\n",
    "\n",
    "    canvas = ROOT.TCanvas('c', 'c', 800, 600)\n",
    "\n",
    "    h1 = ROOT.FSHistogram.getTH1F(fileName, treeName, f\"MASS({Proton}, {PiMinus})\", \"(60, 1.07, 1.35)\", \"CUT(chi2,unusedE,unusedTracks,coherentPeak)\")\n",
    "    h2 = ROOT.FSHistogram.getTH1F(fileName, treeName, f\"MASS({Proton}, {PiMinus})\", \"(60, 1.07, 1.35)\", \"\")\n",
    "\n",
    "\n",
    "    h1.SetTitle(\"\")\n",
    "    h1.SetTitle(plotTitle)\n",
    "    h1.SetStats(False)\n",
    "    h1.SetLineColor(ROOT.kBlue)\n",
    "    h1.GetXaxis().SetTitle(axisLabel + ' [GeV/c^{2}]')\n",
    "    h1.GetYaxis().SetTitle('Events')\n",
    "\n",
    "    h2.SetStats(False)\n",
    "    h2.SetLineColor(ROOT.kRed)\n",
    "    h2.GetXaxis().SetTitle(axisLabel)\n",
    "    h2.GetYaxis().SetTitle('Events')\n",
    "\n",
    "    # h2.Draw('hist')\n",
    "    h1.Draw('same, hist')\n",
    "\n",
    "\n",
    "    legend1 = ROOT.TLegend(0.60, 0.80, 0.90, 0.90) # x_left, y_bottom, x_right, y_top\n",
    "    legend1.AddEntry(h1, plotTitle + ' cuts', 'l')\n",
    "    legend1.AddEntry(h2, plotTitle + ' no cuts', 'l')\n",
    "    legend1.Draw('same')\n",
    "\n",
    "    img_path = 'plots/pi0kplamb_protPim_m'\n",
    "    canvas.SaveAs(img_path + '.pdf')\n",
    "    canvas.SaveAs(img_path + '.png')\n",
    "    canvas.Close()\n",
    "    display(Image(filename=img_path + '.png'))\n",
    "    os.remove(img_path + '.png')\n",
    "\n",
    "plot_hist()"
   ]
  },
  {
   "cell_type": "markdown",
   "metadata": {},
   "source": [
    "### Recoiling proton Mass"
   ]
  },
  {
   "cell_type": "code",
   "execution_count": 7,
   "metadata": {},
   "outputs": [
    {
     "data": {
      "image/png": "[encoded data removed]",
      "text/plain": [
       "<IPython.core.display.Image object>"
      ]
     },
     "metadata": {},
     "output_type": "display_data"
    },
    {
     "name": "stdout",
     "output_type": "stream",
     "text": [
      "    CREATING HISTOGRAM... FSRootHist:000008   OKAY           (entries = 369565)\n"
     ]
    },
    {
     "name": "stderr",
     "output_type": "stream",
     "text": [
      "Info in <TCanvas::Print>: pdf file plots/pi0kplamb_recoilingProton_M.pdf has been created\n",
      "Info in <TCanvas::Print>: png file plots/pi0kplamb_recoilingProton_M.png has been created\n"
     ]
    }
   ],
   "source": [
    "from IPython.display import Image, display\n",
    "latex = ROOT.TLatex()\n",
    "\n",
    "plotTitle = 'Proton Mass'\n",
    "axisLabel = 'Mass (proton reoil) [GeV/c^{2}]'\n",
    "\n",
    "# 1. DecayingLambda (0)   1a. Proton (1)   1b. PiMinus (2)\n",
    "# 2. KPlus (3)\n",
    "# 3. DecayingPi0 (4)   3a. Photon1 (5)   3b. Photon2 (6)\n",
    "# Note the indices are [1, 1a, 1b, etc.] not numbers in parentheses.\n",
    "\n",
    "def plot_hist():\n",
    "\n",
    "    canvas = ROOT.TCanvas('c', 'c', 800, 600)\n",
    "\n",
    "    h1 = ROOT.FSHistogram.getTH1F(fileName, treeName, f\"ENERGY({Proton})\", \"(80, 0.0, 14.0)\", \"\")\n",
    "\n",
    "    h1.SetTitle(plotTitle)\n",
    "    h1.SetStats(False)\n",
    "    h1.SetLineColor(ROOT.kBlue)\n",
    "    h1.GetXaxis().SetTitle(axisLabel + ' [GeV')\n",
    "    h1.GetYaxis().SetTitle('Events')\n",
    "    h1.Draw('hist')\n",
    "    \n",
    "    legend1 = ROOT.TLegend(0.60, 0.80, 0.90, 0.90) # x_left, y_bottom, x_right, y_top\n",
    "    legend1.AddEntry(h1, plotTitle + ' no cuts', 'l')\n",
    "    legend1.Draw('same')\n",
    "\n",
    "    img_path = 'plots/pi0kplamb_recoilingProton_M'\n",
    "    canvas.SaveAs(img_path + '.pdf')\n",
    "    canvas.SaveAs(img_path + '.png')\n",
    "    canvas.Close()\n",
    "    display(Image(filename=img_path + '.png'))\n",
    "    os.remove(img_path + '.png')\n",
    "\n",
    "plot_hist()"
   ]
  },
  {
   "cell_type": "markdown",
   "metadata": {},
   "source": [
    "### $\\pi^{-}$ mass"
   ]
  },
  {
   "cell_type": "code",
   "execution_count": 102,
   "metadata": {},
   "outputs": [
    {
     "data": {
      "image/png": "[encoded data removed]",
      "text/plain": [
       "<IPython.core.display.Image object>"
      ]
     },
     "metadata": {},
     "output_type": "display_data"
    },
    {
     "name": "stdout",
     "output_type": "stream",
     "text": [
      "    CREATING HISTOGRAM... FSRootHist:000061   OKAY           (entries = 369565)\n"
     ]
    },
    {
     "name": "stderr",
     "output_type": "stream",
     "text": [
      "Info in <TCanvas::Print>: pdf file plots/pi0kplamb_PiMinus_M.pdf has been created\n",
      "Info in <TCanvas::Print>: png file plots/pi0kplamb_PiMinus_M.png has been created\n"
     ]
    }
   ],
   "source": [
    "from IPython.display import Image, display\n",
    "latex = ROOT.TLatex()\n",
    "\n",
    "plotTitle = '$\\pi^{-}$ Mass'\n",
    "axisLabel = '$Mass (\\pi^{-}) [GeV/c^{2}]$'\n",
    "\n",
    "# 1. DecayingLambda (0)   1a. Proton (1)   1b. PiMinus (2)\n",
    "# 2. KPlus (3)\n",
    "# 3. DecayingPi0 (4)   3a. Photon1 (5)   3b. Photon2 (6)\n",
    "# Note the indices are [1, 1a, 1b, etc.] not numbers in parentheses.\n",
    "\n",
    "def plot_hist():\n",
    "\n",
    "    canvas = ROOT.TCanvas('c', 'c', 800, 600)\n",
    "\n",
    "    h1 = ROOT.FSHistogram.getTH1F(fileName, treeName, f\"MASS({PiMinus})\", \"(80, 0.1, 0.2)\", \"\")\n",
    "\n",
    "    h1.SetTitle(plotTitle)\n",
    "    h1.SetStats(False)\n",
    "    h1.SetLineColor(ROOT.kBlue)\n",
    "    h1.GetXaxis().SetTitle(axisLabel + ' [GeV')\n",
    "    h1.GetYaxis().SetTitle('Events')\n",
    "    h1.Draw('hist')\n",
    "    \n",
    "    legend1 = ROOT.TLegend(0.60, 0.80, 0.90, 0.90) # x_left, y_bottom, x_right, y_top\n",
    "    legend1.AddEntry(h1, plotTitle + ' no cuts', 'l')\n",
    "    legend1.Draw('same')\n",
    "\n",
    "    img_path = 'plots/pi0kplamb_PiMinus_M'\n",
    "    canvas.SaveAs(img_path + '.pdf')\n",
    "    canvas.SaveAs(img_path + '.png')\n",
    "    canvas.Close()\n",
    "    display(Image(filename=img_path + '.png'))\n",
    "    os.remove(img_path + '.png')\n",
    "\n",
    "plot_hist()"
   ]
  },
  {
   "cell_type": "markdown",
   "metadata": {},
   "source": [
    "---\n",
    "---\n",
    "### 2D PLOTS\n",
    "---\n",
    "---"
   ]
  },
  {
   "cell_type": "markdown",
   "metadata": {},
   "source": [
    "### Dalitz plot: ($p_{K^{+}} + p_{\\pi^{0}})^{2}$ vs. ($p_{\\Lambda} + p_{\\pi^{0}})^{2}$"
   ]
  },
  {
   "cell_type": "code",
   "execution_count": null,
   "metadata": {},
   "outputs": [
    {
     "data": {
      "image/png": "[encoded data removed]",
      "text/plain": [
       "<IPython.core.display.Image object>"
      ]
     },
     "metadata": {},
     "output_type": "display_data"
    },
    {
     "name": "stdout",
     "output_type": "stream",
     "text": [
      "    CREATING HISTOGRAM... FSRootHist:000027   OKAY           (entries = 369565)\n"
     ]
    },
    {
     "name": "stderr",
     "output_type": "stream",
     "text": [
      "Info in <TCanvas::Print>: pdf file plots/pi0kplamb_kpPi0VSlambPi0.pdf has been created\n",
      "Info in <TCanvas::Print>: png file plots/pi0kplamb_kpPi0VSlambPi0.png has been created\n"
     ]
    }
   ],
   "source": [
    "from IPython.display import Image, display\n",
    "latex = ROOT.TLatex()\n",
    "\n",
    "plotTitle = 'Dalitz plot'\n",
    "XaxisLabel = '$({K^{+}} + {\\pi^{0}})^{2} \\ [GeV^{2}/c^{4}]$'\n",
    "YaxisLabel = '$({\\Lambda} + {\\pi^{0}})^{2} \\ [GeV^{2}/c^{4}]$'\n",
    "\n",
    "# 1. DecayingLambda (0)   1a. Proton (1)   1b. PiMinus (2)\n",
    "# 2. KPlus (3)\n",
    "# 3. DecayingPi0 (4)   3a. Photon1 (5)   3b. Photon2 (6)\n",
    "# Note the indices are [1, 1a, 1b, etc.] not numbers in parentheses.\n",
    "\n",
    "def plot_hist():\n",
    "\n",
    "    canvas = ROOT.TCanvas('c', 'c', 800, 600)\n",
    "\n",
    "    h1 = ROOT.FSHistogram.getTH2F(fileName, treeName, f\"MASS2({KPlus},{DecayingPi0}):MASS2({DecayingLambda},{DecayingPi0})\", \"(80, 0.0, 10.0, 80, 0.0, 10.0)\", \"\")\n",
    "\n",
    "    h1.SetTitle(plotTitle)\n",
    "    h1.SetStats(False)\n",
    "    h1.SetLineColor(ROOT.kBlue)\n",
    "    h1.GetXaxis().SetTitle(axisLabel + ' [GeV]')\n",
    "    h1.GetYaxis().SetTitle('Events')\n",
    "    h1.Draw('colz')\n",
    "    \n",
    "    legend1 = ROOT.TLegend(0.60, 0.80, 0.90, 0.90) # x_left, y_bottom, x_right, y_top\n",
    "    legend1.AddEntry(h1, plotTitle + ' no cuts', 'l')\n",
    "    legend1.Draw('same')\n",
    "\n",
    "    img_path = 'plots/pi0kplamb_kpPi0VSlambPi0'\n",
    "    canvas.SaveAs(img_path + '.pdf')\n",
    "    canvas.SaveAs(img_path + '.png')\n",
    "    canvas.Close()\n",
    "    display(Image(filename=img_path + '.png'))\n",
    "    os.remove(img_path + '.png')\n",
    "\n",
    "plot_hist()"
   ]
  },
  {
   "cell_type": "markdown",
   "metadata": {},
   "source": [
    "### Dalitz plot: ($p_{K^{+}} + p_{\\Lambda})$ vs. ($p_{\\pi^{0}} + p_{\\Lambda})^{2}$"
   ]
  },
  {
   "cell_type": "code",
   "execution_count": 110,
   "metadata": {},
   "outputs": [
    {
     "data": {
      "image/png": "[encoded data removed]",
      "text/plain": [
       "<IPython.core.display.Image object>"
      ]
     },
     "metadata": {},
     "output_type": "display_data"
    },
    {
     "name": "stdout",
     "output_type": "stream",
     "text": [
      "    FOUND HISTOGRAM...    FSRootHist:000064   OKAY           (entries = 369565)\n"
     ]
    },
    {
     "name": "stderr",
     "output_type": "stream",
     "text": [
      "Info in <TCanvas::Print>: pdf file plots/pi0kplamb_kpLambVSPi0Lamb.pdf has been created\n",
      "Info in <TCanvas::Print>: png file plots/pi0kplamb_kpLambVSPi0Lamb.png has been created\n"
     ]
    }
   ],
   "source": [
    "from IPython.display import Image, display\n",
    "\n",
    "plotTitle = 'Dalitz plot'\n",
    "XaxisLabel = '({K^{+}} + {\\Lambda})^{2}'\n",
    "YaxisLabel = '({\\pi^{0}} + {\\Lambda})^{2}'\n",
    "\n",
    "# 1. DecayingLambda (0)   1a. Proton (1)   1b. PiMinus (2)\n",
    "# 2. KPlus (3)\n",
    "# 3. DecayingPi0 (4)   3a. Photon1 (5)   3b. Photon2 (6)\n",
    "# Note the indices are [1, 1a, 1b, etc.] not numbers in parentheses.\n",
    "\n",
    "def plot_hist():\n",
    "\n",
    "    canvas = ROOT.TCanvas('c', 'c', 800, 600)\n",
    "\n",
    "    h1 = ROOT.FSHistogram.getTH2F(fileName, treeName, f\"MASS2({KPlus},{DecayingLambda}):MASS2({DecayingPi0},{DecayingLambda})\", \"(80, 0.0, 21.0, 80, 0.0, 21.0)\", \"\")\n",
    "\n",
    "    h1.SetTitle(plotTitle)\n",
    "    h1.SetStats(False)\n",
    "    h1.SetLineColor(ROOT.kBlue)\n",
    "    h1.GetXaxis().SetTitle(XaxisLabel + ' \\ [GeV^{2}/c^{4}]')\n",
    "    h1.GetYaxis().SetTitle(YaxisLabel + ' \\ [GeV^{2}/c^{4}]')\n",
    "    h1.Draw('colz')\n",
    "    \n",
    "    legend1 = ROOT.TLegend(0.60, 0.80, 0.90, 0.90) # x_left, y_bottom, x_right, y_top\n",
    "    legend1.AddEntry(h1, plotTitle + ' no cuts', 'l')\n",
    "    legend1.Draw('same')\n",
    "\n",
    "    img_path = 'plots/pi0kplamb_kpLambVSPi0Lamb'\n",
    "    canvas.SaveAs(img_path + '.pdf')\n",
    "    canvas.SaveAs(img_path + '.png')\n",
    "    canvas.Close()\n",
    "    display(Image(filename=img_path + '.png'))\n",
    "    os.remove(img_path + '.png')\n",
    "\n",
    "plot_hist()"
   ]
  },
  {
   "cell_type": "markdown",
   "metadata": {},
   "source": [
    "---\n",
    "---\n",
    "### Other plots\n",
    "---\n",
    "---"
   ]
  },
  {
   "cell_type": "markdown",
   "metadata": {},
   "source": [
    "### $K^{+}$ mass"
   ]
  },
  {
   "cell_type": "code",
   "execution_count": 9,
   "metadata": {},
   "outputs": [
    {
     "data": {
      "image/png": "[encoded data removed]",
      "text/plain": [
       "<IPython.core.display.Image object>"
      ]
     },
     "metadata": {},
     "output_type": "display_data"
    },
    {
     "name": "stdout",
     "output_type": "stream",
     "text": [
      "    CREATING HISTOGRAM... FSRootHist:000010   OKAY           (entries = 369565)\n",
      "    CREATING HISTOGRAM... FSRootHist:000011   OKAY           (entries = 2783)\n"
     ]
    },
    {
     "name": "stderr",
     "output_type": "stream",
     "text": [
      "Info in <TCanvas::Print>: pdf file plots/pi0kplamb_kp_m.pdf has been created\n",
      "Info in <TCanvas::Print>: png file plots/pi0kplamb_kp_m.png has been created\n"
     ]
    }
   ],
   "source": [
    "from IPython.display import Image, display\n",
    "latex = ROOT.TLatex()\n",
    "\n",
    "plotTitle = 'Mass (K^{+})'\n",
    "axisLabel = 'Mass (K^{+})'\n",
    "\n",
    "def plot_hist():\n",
    "\n",
    "    canvas = ROOT.TCanvas('c', 'c', 800, 600)\n",
    "\n",
    "    h1 = ROOT.FSHistogram.getTH1F(fileName, treeName, f\"MASS({KPlus})\", \"(60, 0.05, 2.0)\", \"\")\n",
    "    h2 = ROOT.FSHistogram.getTH1F(fileName, treeName, f\"MASS({KPlus})\", \"(60, 0.05, 2.0)\", \"CUT(chi2,unusedE,unusedTracks,coherentPeak)\")\n",
    "\n",
    "    h1.SetTitle(\"\")\n",
    "    h1.SetTitle(plotTitle)\n",
    "    h1.SetStats(False)\n",
    "    h1.SetLineColor(ROOT.kBlue)\n",
    "    h1.GetXaxis().SetTitle(axisLabel + ' [GeV/c^{2}]')\n",
    "    h1.GetYaxis().SetTitle('Events')\n",
    "    h1.Draw('hist')\n",
    "\n",
    "    h2.SetStats(False)\n",
    "    h2.SetLineColor(ROOT.kRed)\n",
    "    h2.GetXaxis().SetTitle(axisLabel)\n",
    "    h2.GetYaxis().SetTitle('Events')\n",
    "    # h2.Draw('same, hist')\n",
    "\n",
    "    legend1 = ROOT.TLegend(0.60, 0.80, 0.90, 0.90) # x_left, y_bottom, x_right, y_top\n",
    "    legend1.AddEntry(h1, plotTitle + ' no cuts', 'l')\n",
    "    legend1.AddEntry(h2, plotTitle + ' cuts', 'l')\n",
    "    legend1.Draw('same')\n",
    "\n",
    "    img_path = 'plots/pi0kplamb_kp_m'\n",
    "    canvas.SaveAs(img_path + '.pdf')\n",
    "    canvas.SaveAs(img_path + '.png')\n",
    "    canvas.Close()\n",
    "    display(Image(filename=img_path + '.png'))\n",
    "    os.remove(img_path + '.png')\n",
    "\n",
    "plot_hist()"
   ]
  },
  {
   "cell_type": "markdown",
   "metadata": {},
   "source": [
    "### Beam Energy"
   ]
  },
  {
   "cell_type": "code",
   "execution_count": null,
   "metadata": {},
   "outputs": [],
   "source": [
    "from IPython.display import Image, display\n",
    "\n",
    "plotTitle = 'Beam energy'\n",
    "plot2Title = 'Beam energy measured'\n",
    "axisLabel = 'Beam energy [GeV]'\n",
    "\n",
    "canvas = ROOT.TCanvas('c', 'c', 800, 600)\n",
    "    \n",
    "h1 = ROOT.FSHistogram.getTH1F(fileName, treeName, \"beam_e\", \"(80, 0.0, 14.0)\", \"\")\n",
    "h1.SetStats(False)\n",
    "h1.SetLineColor(ROOT.kBlue)\n",
    "h1.GetXaxis().SetTitle(axisLabel)\n",
    "h1.GetYaxis().SetTitle('Events')\n",
    "h1.Draw()\n",
    "\n",
    "h2 = ROOT.FSHistogram.getTH1F(fileName, treeName, \"beam_e_measured\", \"(80, 0.0, 14.0)\", \"\")\n",
    "h2.SetStats(False)\n",
    "h2.SetMarkerStyle(24)\n",
    "h2.SetMarkerColor(ROOT.kRed)\n",
    "h2.GetXaxis().SetTitle(axisLabel)\n",
    "h2.GetYaxis().SetTitle('Events')\n",
    "h2.Draw('p same')\n",
    "    \n",
    "legend1 = ROOT.TLegend(0.7, 0.9, 0.9, 0.75)\n",
    "# legend1.AddEntry(h1.GetValue(), plotTitle, 'l')\n",
    "# legend1.AddEntry(h2.GetValue(), plot2Title, 'p')\n",
    "legend1.Draw('same')\n",
    "\n",
    "img_path = 'plots/pi0kplamb_beam_e.png'\n",
    "canvas.SaveAs(img_path)\n",
    "canvas.Close()\n",
    "display(Image(filename=img_path))"
   ]
  },
  {
   "cell_type": "markdown",
   "metadata": {},
   "source": [
    "### Target proton"
   ]
  },
  {
   "cell_type": "code",
   "execution_count": null,
   "metadata": {},
   "outputs": [],
   "source": [
    "from IPython.display import Image, display\n",
    "import matplotlib.pyplot as plt\n",
    "latex = ROOT.TLatex()\n",
    "\n",
    "plotTitle = 'Target proton mass'\n",
    "axisLabel = 'Mass (target proton) [GeV/c^{2}]'\n",
    "\n",
    "def plot_hist():\n",
    "\n",
    "    canvas = ROOT.TCanvas('c', 'c', 800, 600)\n",
    "    canvas.SetLeftMargin(0.15)\n",
    "\n",
    "    h1 = ROOT.FSHistogram.getTH1F(fileName, treeName, f\"MASS({?????})\", \"(80, 0.0, 4.0)\", \"\")\n",
    "    h1.SetTitle(plotTitle)\n",
    "    h1.SetStats(False)\n",
    "    h1.SetLineColor(ROOT.kBlue)\n",
    "    h1.GetXaxis().SetTitle(axisLabel)\n",
    "    h1.GetYaxis().SetTitle('Events')\n",
    "    h1.Draw()\n",
    "    latex.DrawLatexNDC(0.3, 0.95, plotTitle)\n",
    "    \n",
    "    legend1 = ROOT.TLegend(0.7, 0.9, 0.9, 0.85)\n",
    "    legend1.AddEntry(h1, f'{plotTitle} no cuts', 'l')\n",
    "    legend1.Draw('same')\n",
    "\n",
    "    img_path = 'plots/pi0kplamb_target_m_m'\n",
    "    canvas.SaveAs(img_path + '.pdf')\n",
    "    canvas.SaveAs(img_path + '.png')\n",
    "    canvas.Close()\n",
    "    display(Image(filename=img_path + '.png'))\n",
    "    os.remove(img_path + '.png')\n",
    "\n",
    "plot_hist()"
   ]
  },
  {
   "cell_type": "markdown",
   "metadata": {},
   "source": [
    "### $K^{+}$ $\\pi^{0}$ $\\pi^{-}$"
   ]
  },
  {
   "cell_type": "code",
   "execution_count": 10,
   "metadata": {},
   "outputs": [
    {
     "data": {
      "image/png": "[encoded data removed]",
      "text/plain": [
       "<IPython.core.display.Image object>"
      ]
     },
     "metadata": {},
     "output_type": "display_data"
    },
    {
     "name": "stdout",
     "output_type": "stream",
     "text": [
      "    CREATING HISTOGRAM... FSRootHist:000012   OKAY           (entries = 369565)\n"
     ]
    },
    {
     "name": "stderr",
     "output_type": "stream",
     "text": [
      "Info in <TCanvas::Print>: pdf file plots/pi0kplamb_kpPi0Pim_m.pdf has been created\n",
      "Info in <TCanvas::Print>: png file plots/pi0kplamb_kpPi0Pim_m.png has been created\n"
     ]
    }
   ],
   "source": [
    "from IPython.display import Image, display\n",
    "latex = ROOT.TLatex()\n",
    "\n",
    "plotTitle = 'Mass (K^{+} \\pi^{0} \\pi^{-})'\n",
    "axisLabel = 'Mass (K^{+} \\pi^{0} \\pi^{-})'\n",
    "\n",
    "def plot_hist():\n",
    "\n",
    "    canvas = ROOT.TCanvas('c', 'c', 800, 600)\n",
    "    canvas.SetLeftMargin(0.15)\n",
    "\n",
    "    h1 = ROOT.FSHistogram.getTH1F(fileName, treeName, f\"MASS({KPlus},{DecayingPi0},{PiMinus})\", \"(80, 0.0, 4.0)\", \"\")\n",
    "    \n",
    "    h1.SetTitle(plotTitle)\n",
    "    h1.SetStats(False)\n",
    "    h1.SetLineColor(ROOT.kBlue)\n",
    "    h1.GetXaxis().SetTitle(axisLabel + ' [GeV/c^{2}]')\n",
    "    h1.GetYaxis().SetTitle('Events')\n",
    "    h1.Draw()\n",
    "    \n",
    "    legend1 = ROOT.TLegend(0.60, 0.80, 0.90, 0.90) # x_left, y_bottom, x_right, y_top\n",
    "    legend1.AddEntry(h1, plotTitle + ' no cuts', 'l')\n",
    "    legend1.Draw('same')\n",
    "\n",
    "    img_path = 'plots/pi0kplamb_kpPi0Pim_m'\n",
    "    canvas.SaveAs(img_path + '.pdf')\n",
    "    canvas.SaveAs(img_path + '.png')\n",
    "    canvas.Close()\n",
    "    display(Image(filename=img_path + '.png'))\n",
    "    os.remove(img_path + '.png')\n",
    "\n",
    "plot_hist()"
   ]
  },
  {
   "cell_type": "markdown",
   "metadata": {},
   "source": [
    "### Decaying $\\Lambda$ mass"
   ]
  },
  {
   "cell_type": "code",
   "execution_count": 11,
   "metadata": {},
   "outputs": [
    {
     "data": {
      "image/png": "[encoded data removed]",
      "text/plain": [
       "<IPython.core.display.Image object>"
      ]
     },
     "metadata": {},
     "output_type": "display_data"
    },
    {
     "name": "stdout",
     "output_type": "stream",
     "text": [
      "    CREATING HISTOGRAM... FSHistogram::getTHNFBasicTree ERROR: problem finding histogram named: FSRootTemp:000013\n",
      "FSRootHist:000013   OKAY           (entries = 0)\n"
     ]
    },
    {
     "name": "stderr",
     "output_type": "stream",
     "text": [
      "Error in <TTreeFormula::Compile>:  Bad numerical expression : \"EnP0\"\n",
      "Info in <TSelectorDraw::AbortProcess>: Variable compilation failed: {(sqrt(pow(((EnP0)),2)-pow(((PxP0)),2)-pow(((PyP0)),2)-pow(((PzP0)),2))),1.0000000e+00}\n",
      "Info in <TCanvas::Print>: pdf file plots/pi0kplamb_Lambda_m.pdf has been created\n",
      "Info in <TCanvas::Print>: png file plots/pi0kplamb_Lambda_m.png has been created\n"
     ]
    }
   ],
   "source": [
    "from IPython.display import Image, display\n",
    "latex = ROOT.TLatex()\n",
    "\n",
    "plotTitle = '\\Lambda Energy'\n",
    "axisLabel = 'Decaying \\Lambda Energy'\n",
    "\n",
    "# 1. DecayingLambda (0)   1a. Proton (1)   1b. PiMinus (2)\n",
    "# 2. KPlus (3)\n",
    "# 3. DecayingPi0 (4)   3a. Photon1 (5)   3b. Photon2 (6)\n",
    "# Note the indices are [1, 1a, 1b, etc.] not numbers in parentheses.\n",
    "\n",
    "def plot_hist():\n",
    "\n",
    "    canvas = ROOT.TCanvas('c', 'c', 800, 600)\n",
    "\n",
    "    h1 = ROOT.FSHistogram.getTH1F(fileName, treeName, f\"MASS({DecayingLambda})\", \"(80, 0.0, 14.0)\", \"\")\n",
    "    # h1 = ROOT.FSHistogram.getTH1F(fileName, treeName, f\"ENERGY({DecayingLambda})\", \"(80, 0.0, 14.0)\", \"\")\n",
    "    # h1 = ROOT.FSHistogram.getTH1F(fileName, treeName, f\"MOM({DecayingLambda})\", \"(80, 0.0, 14.0)\", \"\")\n",
    "\n",
    "    h1.SetTitle(plotTitle)\n",
    "    h1.SetStats(False)\n",
    "    h1.SetLineColor(ROOT.kBlue)\n",
    "    h1.GetXaxis().SetTitle(axisLabel + ' [GeV]')\n",
    "    h1.GetYaxis().SetTitle('Events')\n",
    "    h1.Draw()\n",
    "    \n",
    "    legend1 = ROOT.TLegend(0.60, 0.80, 0.90, 0.90) # x_left, y_bottom, x_right, y_top\n",
    "    legend1.AddEntry(h1, plotTitle + ' no cuts', 'l')\n",
    "    legend1.Draw('same')\n",
    "\n",
    "    img_path = 'plots/pi0kplamb_Lambda_m'\n",
    "    canvas.SaveAs(img_path + '.pdf')\n",
    "    canvas.SaveAs(img_path + '.png')\n",
    "    canvas.Close()\n",
    "    display(Image(filename=img_path + '.png'))\n",
    "    os.remove(img_path + '.png')\n",
    "\n",
    "plot_hist()\n"
   ]
  },
  {
   "cell_type": "markdown",
   "metadata": {},
   "source": [
    "### Decaying $\\pi^{0}$ Mass"
   ]
  },
  {
   "cell_type": "code",
   "execution_count": 46,
   "metadata": {},
   "outputs": [
    {
     "data": {
      "image/png": "[encoded data removed]",
      "text/plain": [
       "<IPython.core.display.Image object>"
      ]
     },
     "metadata": {},
     "output_type": "display_data"
    },
    {
     "name": "stdout",
     "output_type": "stream",
     "text": [
      "    FOUND HISTOGRAM...    FSRootHist:000024   OKAY           (entries = 369565)\n"
     ]
    },
    {
     "name": "stderr",
     "output_type": "stream",
     "text": [
      "Info in <TCanvas::Print>: pdf file plots/pi0kplamb_Pi0_m.pdf has been created\n",
      "Info in <TCanvas::Print>: png file plots/pi0kplamb_Pi0_m.png has been created\n"
     ]
    }
   ],
   "source": [
    "from IPython.display import Image, display\n",
    "latex = ROOT.TLatex()\n",
    "\n",
    "plotTitle = '\\pi^{0} Mass'\n",
    "axisLabel = 'Decaying \\pi^{0} Mass'\n",
    "\n",
    "# 1. DecayingLambda (0)   1a. Proton (1)   1b. PiMinus (2)\n",
    "# 2. KPlus (3)\n",
    "# 3. DecayingPi0 (4)   3a. Photon1 (5)   3b. Photon2 (6)\n",
    "# Note the indices are [1, 1a, 1b, etc.] not numbers in parentheses.\n",
    "\n",
    "def plot_hist():\n",
    "\n",
    "    canvas = ROOT.TCanvas('c', 'c', 800, 600)\n",
    "\n",
    "    h1 = ROOT.FSHistogram.getTH1F(fileName, treeName, f\"MASS({DecayingPi0})\", \"(80, 0.1, 0.2)\", \"\")\n",
    "    # h1 = ROOT.FSHistogram.getTH1F(fileName, treeName, f\"ENERGY({DecayingPi0})\", \"(80, 0.0, 14.0)\", \"\")\n",
    "    # h1 = ROOT.FSHistogram.getTH1F(fileName, treeName, f\"MOM({DecayingPi0})\", \"(80, 0.0, 14.0)\", \"\")\n",
    "\n",
    "    h1.SetTitle(plotTitle)\n",
    "    h1.SetStats(False)\n",
    "    h1.SetLineColor(ROOT.kBlue)\n",
    "    h1.GetXaxis().SetTitle(axisLabel + ' [GeV]')\n",
    "    h1.GetYaxis().SetTitle('Events')\n",
    "    h1.Draw('hist')\n",
    "    \n",
    "    legend1 = ROOT.TLegend(0.60, 0.80, 0.90, 0.90) # x_left, y_bottom, x_right, y_top\n",
    "    legend1.AddEntry(h1, plotTitle + ' no cuts', 'l')\n",
    "    legend1.Draw('same')\n",
    "\n",
    "    img_path = 'plots/pi0kplamb_Pi0_m'\n",
    "    canvas.SaveAs(img_path + '.pdf')\n",
    "    canvas.SaveAs(img_path + '.png')\n",
    "    canvas.Close()\n",
    "    display(Image(filename=img_path + '.png'))\n",
    "    os.remove(img_path + '.png')\n",
    "\n",
    "plot_hist()\n"
   ]
  }
 ],
 "metadata": {
  "kernelspec": {
   "display_name": "Python 3 (ipykernel)",
   "language": "python",
   "name": "python3"
  },
  "language_info": {
   "codemirror_mode": {
    "name": "ipython",
    "version": 3
   },
   "file_extension": ".py",
   "mimetype": "text/x-python",
   "name": "python",
   "nbconvert_exporter": "python",
   "pygments_lexer": "ipython3",
   "version": "3.9.21"
  }
 },
 "nbformat": 4,
 "nbformat_minor": 2
}
