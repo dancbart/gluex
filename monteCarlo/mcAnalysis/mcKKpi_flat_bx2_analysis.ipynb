{
 "cells": [
  {
   "cell_type": "markdown",
   "metadata": {},
   "source": [
    "## Create Dataframe \\& columns for all particles."
   ]
  },
  {
   "cell_type": "code",
   "execution_count": 2,
   "metadata": {},
   "outputs": [
    {
     "name": "stdout",
     "output_type": "stream",
     "text": [
      "current working directory:  /w/halld-scshelf2101/home/dbarton/gluex/analysis\n",
      "changed directory to:  /w/halld-scshelf2101/home/dbarton/gluex/analysis\n",
      "['KKpi_event_selection.pdf', 'f1_flat_bx2_analysis.C', 'voigtianRoo.C', 'KKpi_flat_bx2_analysis.ipynb', 'KKpi_flat_bx2_resonanceSelection.C', 'pipkmks_flat_bx2_analysis.py', 'voigtian.C', '.kayonPlotting.ipynb.icloud', 'KKpi_flat_bx2_analysis.C', 'DSelector_omegaEta.C', 'KKpi_flat_bestX2_columnHeaders.txt', 'KKpi_flat_bx2_analysis.py', 'tree_pipkmks__B4_M16_042077.root', 'readROOT_TreesHeaders.ipynb', 'readTTreeHeaders_anyTFile.C', 'KKpi_flat_bestX2_2017.root', 'tree_pipkmks__B4_M16_042011Headers.txt', 'KKpi_flat_bx2_analysis_secondVoigtian.C', 'functionsVarious.C', '.kayon_momentum.ipynb.icloud']\n"
     ]
    }
   ],
   "source": [
    "import os \n",
    "print(\"current working directory: \", os.getcwd())\n",
    "os.chdir(\"/w/halld-scshelf2101/home/dbarton/gluex/analysis\")\n",
    "print(\"changed directory to: \", os.getcwd())\n",
    "print(os.listdir())"
   ]
  },
  {
   "cell_type": "code",
   "execution_count": 3,
   "metadata": {},
   "outputs": [
    {
     "name": "stdout",
     "output_type": "stream",
     "text": [
      "Welcome to JupyROOT 6.24/04\n"
     ]
    }
   ],
   "source": [
    "# import warnings # for debugging\n",
    "# warnings.filterwarnings('error') # prints line number of warning, supposedly\n",
    "\n",
    "\n",
    "import numpy as np\n",
    "import ROOT\n",
    "ROOT.EnableImplicitMT() # Enable multi-threading\n",
    "\n",
    "def buildDataFrame(fileName, treeName):\n",
    "    df = ROOT.RDataFrame(treeName, fileName)\n",
    "\n",
    "    df = df.Define('pip2_m2', 'pip2_E*pip2_E - pip2_px*pip2_px - pip2_py*pip2_py - pip2_pz*pip2_pz') \\\n",
    "           .Define('pim_m2', 'pim_E*pim_E - pim_px*pim_px - pim_py*pim_py - pim_pz*pim_pz') \\\n",
    "           .Define('ks_E', 'pip2_E + pim_E') \\\n",
    "           .Define('ks_px', 'pip2_px + pim_px') \\\n",
    "           .Define('ks_py', 'pip2_py + pim_py') \\\n",
    "           .Define('ks_pz', 'pip2_pz + pim_pz') \\\n",
    "           .Define('ks_m', 'TMath::Sqrt(ks_E*ks_E - ks_px*ks_px - ks_py*ks_py - ks_pz*ks_pz)') \\\n",
    "           .Define('ks_m2', 'ks_E*ks_E - ks_px*ks_px - ks_py*ks_py - ks_pz*ks_pz') \\\n",
    "           .Define('delta_E', 'pip1_E + p_E') \\\n",
    "           .Define('delta_px', 'pip1_px + p_px') \\\n",
    "           .Define('delta_py', 'pip1_py + p_py') \\\n",
    "           .Define('delta_pz', 'pip1_pz + p_pz') \\\n",
    "           .Define('delta_m', 'TMath::Sqrt(delta_E*delta_E - delta_px*delta_px - delta_py*delta_py - delta_pz*delta_pz)') \\\n",
    "           .Define('delta_m2', 'delta_E*delta_E - delta_px*delta_px - delta_py*delta_py - delta_pz*delta_pz') \\\n",
    "           .Define('lambda_E', 'p_E + km_E') \\\n",
    "           .Define('lambda_px', 'p_px + km_px') \\\n",
    "           .Define('lambda_py', 'p_py + km_py') \\\n",
    "           .Define('lambda_pz', 'p_pz + km_pz') \\\n",
    "           .Define('lambda_m', 'TMath::Sqrt(lambda_E*lambda_E - lambda_px*lambda_px - lambda_py*lambda_py - lambda_pz*lambda_pz)') \\\n",
    "           .Define('lambda_m2', 'lambda_E*lambda_E - lambda_px*lambda_px - lambda_py*lambda_py - lambda_pz*lambda_pz') \\\n",
    "           .Define('kmpip1_E', 'pip1_E + km_E') \\\n",
    "           .Define('kmpip1_px', 'pip1_px + km_px') \\\n",
    "           .Define('kmpip1_py', 'pip1_py + km_py') \\\n",
    "           .Define('kmpip1_pz', 'pip1_pz + km_pz') \\\n",
    "           .Define('kmpip1_m', 'TMath::Sqrt(kmpip1_E*kmpip1_E - kmpip1_px*kmpip1_px - kmpip1_py*kmpip1_py - kmpip1_pz*kmpip1_pz)') \\\n",
    "           .Define('kmpip1_m2', 'kmpip1_E*kmpip1_E - kmpip1_px*kmpip1_px - kmpip1_py*kmpip1_py - kmpip1_pz*kmpip1_pz') \\\n",
    "           .Define('kspip1_E', 'pip1_E + ks_E') \\\n",
    "           .Define('kspip1_px', 'pip1_px + ks_px') \\\n",
    "           .Define('kspip1_py', 'pip1_py + ks_py') \\\n",
    "           .Define('kspip1_pz', 'pip1_pz + ks_pz') \\\n",
    "           .Define('kspip1_m', 'TMath::Sqrt(kspip1_E*kspip1_E - kspip1_px*kspip1_px - kspip1_py*kspip1_py - kspip1_pz*kspip1_pz)') \\\n",
    "           .Define('kspip1_m2', 'kspip1_E*kspip1_E - kspip1_px*kspip1_px - kspip1_py*kspip1_py - kspip1_pz*kspip1_pz') \\\n",
    "           .Define('KKpi_E', 'pip1_E + km_E + ks_E') \\\n",
    "           .Define('KKpi_px', 'pip1_px + km_px + ks_px') \\\n",
    "           .Define('KKpi_py', 'pip1_py + km_py + ks_py') \\\n",
    "           .Define('KKpi_pz', 'pip1_pz + km_pz + ks_pz') \\\n",
    "           .Define('KKpi_m', 'TMath::Sqrt(KKpi_E*KKpi_E - KKpi_px*KKpi_px - KKpi_py*KKpi_py - KKpi_pz*KKpi_pz)') \\\n",
    "           .Define('KKpi_m2', 'KKpi_E*KKpi_E - KKpi_px*KKpi_px - KKpi_py*KKpi_py - KKpi_pz*KKpi_pz')\n",
    "\n",
    "    return df\n",
    "\n",
    "dfKKpi = buildDataFrame(\"KKpi_flat_bestX2_2017.root\", \"pipkmks__B4_M16;1\")\n"
   ]
  },
  {
   "cell_type": "markdown",
   "metadata": {},
   "source": [
    "## Define Cuts"
   ]
  },
  {
   "cell_type": "code",
   "execution_count": 4,
   "metadata": {},
   "outputs": [],
   "source": [
    "# Define cuts\n",
    "\n",
    "pathlength_sig = 'pathlength_sig > 5' # pathlength significance cut\n",
    "reject_delta = 'delta_m > 1.4' # delta++ cut\n",
    "reject_lambda = 'lambda_m > 1.9' # lambda cut\n",
    "keep_kstar_plus = 'kspip1_m >= 0.8 && kspip1_m <= 1.0' # \"charged\" K*(KsPi+)\n",
    "keep_kstar_zero = 'kmpip1_m >= 0.8 && kmpip1_m <= 1.0' # \"neutral\" K*(K-Pi+)\n",
    "reject_kstar_plus = 'kspip1_m <= 0.8 || kspip1_m >= 1.0' # Reject \"charged\" K*(KsPi+)\n",
    "reject_kstar_zero = 'kmpip1_m <= 0.8 || kmpip1_m >= 1.0' # Reject \"neutral\" K*(K-Pi+)\n",
    "select_kShort = 'ks_m >= 0.45 && ks_m <= 0.55' # Select kShort\n",
    "reject_kShort = 'ks_m <= 0.45 || ks_m >= 0.55' # Reject kShort\n",
    "select_KKpi = 'KKpi_m >= 1.0 && KKpi_m <= 1.8' # Select KKpi\n",
    "\n"
   ]
  },
  {
   "cell_type": "markdown",
   "metadata": {},
   "source": [
    "### Histogram - kShort"
   ]
  },
  {
   "cell_type": "code",
   "execution_count": 5,
   "metadata": {},
   "outputs": [
    {
     "data": {
      "image/png": "[encoded data removed]",
      "text/plain": [
       "<IPython.core.display.Image object>"
      ]
     },
     "metadata": {},
     "output_type": "display_data"
    },
    {
     "name": "stderr",
     "output_type": "stream",
     "text": [
      "Info in <TCanvas::Print>: png file ../_plots/_TESThistogram.png has been created\n"
     ]
    }
   ],
   "source": [
    "from IPython.display import Image, display\n",
    "\n",
    "def analysis(df):\n",
    "\n",
    "    ######## APPLY CUTS ########\n",
    "    dfFiltered = df.Filter(pathlength_sig).Filter(select_kShort) \\\n",
    "    ############################\n",
    "\n",
    "    canvas = ROOT.TCanvas(\"c\", \"c\", 800, 600)\n",
    "    h1 = dfFiltered.Histo1D(('ks_m', 'ks_m', 60, 0.3, 0.7), 'ks_m')\n",
    "    h1.SetStats(False)\n",
    "    h1.Draw()\n",
    "\n",
    "    img_path = \"../_plots/_TESThistogram.png\"\n",
    "    canvas.SaveAs(img_path)  # Saves the canvas as an image\n",
    "    canvas.Close()\n",
    "\n",
    "    display(Image(filename=img_path))\n",
    "\n",
    "\n",
    "analysis(dfKKpi)\n"
   ]
  },
  {
   "cell_type": "markdown",
   "metadata": {},
   "source": [
    "### Histogram - KK $\\pi$"
   ]
  },
  {
   "cell_type": "code",
   "execution_count": 6,
   "metadata": {},
   "outputs": [
    {
     "data": {
      "image/png": "[encoded data removed]",
      "text/plain": [
       "<IPython.core.display.Image object>"
      ]
     },
     "metadata": {},
     "output_type": "display_data"
    },
    {
     "name": "stderr",
     "output_type": "stream",
     "text": [
      "Info in <TCanvas::Print>: png file ../_plots/KKpi.png has been created\n"
     ]
    }
   ],
   "source": [
    "from IPython.display import Image, display\n",
    "\n",
    "def plotting(df):\n",
    "    \n",
    "    ######## APPLY CUTS ########\n",
    "    dfFiltered = df.Filter(keep_kstar_plus).Filter(reject_kstar_zero).Filter(select_kShort).Filter(pathlength_sig).Filter(reject_delta).Filter(reject_lambda)\n",
    "    ############################\n",
    "\n",
    "    canvas = ROOT.TCanvas(\"c\", \"c\", 800, 600)\n",
    "    h1 = dfFiltered.Histo1D(('KKpi_m', 'KKpi', 60, 1.0, 1.8), 'KKpi_m')\n",
    "    h1.SetStats(False)\n",
    "    h1.Draw()\n",
    "    \n",
    "    img_path = \"../_plots/KKpi.png\"\n",
    "    canvas.SaveAs(img_path)\n",
    "    canvas.Close()\n",
    "\n",
    "    # Display the saved image\n",
    "    display(Image(filename=img_path))\n",
    "\n",
    "plotting(dfKKpi)"
   ]
  },
  {
   "cell_type": "markdown",
   "metadata": {},
   "source": [
    "### Dalitz Plots - (kShort  +  $\\pi^{+}$) vs. (kMinus + $\\pi^{+}$)"
   ]
  },
  {
   "cell_type": "code",
   "execution_count": 7,
   "metadata": {},
   "outputs": [
    {
     "data": {
      "image/png": "[encoded data removed]",
      "text/plain": [
       "<IPython.core.display.Image object>"
      ]
     },
     "metadata": {},
     "output_type": "display_data"
    },
    {
     "name": "stderr",
     "output_type": "stream",
     "text": [
      "Info in <TCanvas::Print>: png file ../_plots/_dalitzTEST.png has been created\n"
     ]
    }
   ],
   "source": [
    "from IPython.display import Image, display\n",
    "\n",
    "def dalitzPlot(df):\n",
    "    \n",
    "    ######## APPLY CUTS ########\n",
    "    dfFiltered = df.Filter(pathlength_sig).Filter(select_KKpi)\n",
    "    ############################\n",
    "\n",
    "    h2 = dfFiltered.Histo2D(('DalitzPlot', 'DalitzPlot', 60, 0.1, 1.4, 60, 0.1, 1.4), 'kspip1_m2', 'kmpip1_m2')\n",
    "    canvas = ROOT.TCanvas(\"c\", \"c\", 800, 600)\n",
    "    h2.SetStats(False)\n",
    "    h2.Draw(\"colz\")\n",
    "    canvas.Update()\n",
    "    \n",
    "    img_path = \"../_plots/_dalitzTEST.png\"\n",
    "    canvas.SaveAs(img_path)\n",
    "    canvas.Draw()\n",
    "    # canvas.Close()\n",
    "    \n",
    "\n",
    "    # # Display the saved image\n",
    "    display(Image(filename=img_path))\n",
    "\n",
    "dalitzPlot(dfKKpi)"
   ]
  },
  {
   "cell_type": "markdown",
   "metadata": {},
   "source": [
    "## Fitting: define functions"
   ]
  },
  {
   "cell_type": "code",
   "execution_count": 8,
   "metadata": {},
   "outputs": [],
   "source": [
    "# Create various functions from 'ROOT' framework for fitting to histograms\n",
    "\n",
    "# Breit-Wigner function\n",
    "bw = ROOT.TF1(\"bw\", \"breitwigner(0)\", 1.2, 1.7); # used to have BreitWigner(x, [4], [5])\n",
    "# bw = ROOT.TF1(\"bw\", \"TMath::BreitWigner(x, [0], [1])\", 0.4, 0.6)\n",
    "\n",
    "# Exponential\n",
    "exp = ROOT.TF1(\"exp\", \"TMath::Exp([0] + [1] * x + [2] * x * x)\", 1.2, 1.7) # old c++ code defines this exponential as 'bkg'\n",
    "exp.SetParName(0, \"expPar1\")\n",
    "exp.SetParName(1, \"expPar2\")\n",
    "exp.SetParName(2, \"expPar3\")\n",
    "\n",
    "# Voigtian function\n",
    "voigtian = ROOT.TF1(\"voigtian\", \"[0]*TMath::Voigt(x - [1], [2], [3])\", 1.2, 1.7)\n",
    "voigtian.SetParName(0, \"voigtian_amplitude\")\n",
    "voigtian.SetParName(1, \"voigtian_mean\") # 'mean' is the offset that places the peak at the correct position, where we know the resonance to be.  It represents the particles mass.\n",
    "voigtian.SetParName(2, \"voigtian_sigma\") # 'sigma' is the gaussian width (detector resolution)\n",
    "voigtian.SetParName(3, \"voigtian_width\") # ?? 'width' is the lorentzian width (natural width of the particle) ??\n",
    "\n",
    "# Voigtian with RooVoigtian\n",
    "# ???\n",
    "\n",
    "######## COMBINED FUNCTIONS ########\n",
    "\n",
    "# Voigtian + Exponential(3 parameters)\n",
    "voigtian_plus_exp = ROOT.TF1(\"voigt_plus_expo3\", \"voigtian + exp\", 0.1, 1.8)\n",
    "voigtian_plus_exp.SetParameter(0, 4.5E2)\n",
    "voigtian_plus_exp.SetParameter(1, 1.45807E0)\n",
    "voigtian_plus_exp.SetParameter(2, 1.0E-02)\n",
    "voigtian_plus_exp.SetParameter(3, 3.81110E-06)\n",
    "voigtian_plus_exp.SetParameter(4, -6.47E0)\n",
    "voigtian_plus_exp.SetParameter(5, 9.29E0)\n",
    "voigtian_plus_exp.SetParameter(6, -2.970E0)"
   ]
  },
  {
   "cell_type": "markdown",
   "metadata": {},
   "source": [
    "## Fitting: plots"
   ]
  },
  {
   "cell_type": "code",
   "execution_count": 9,
   "metadata": {},
   "outputs": [
    {
     "data": {
      "image/png": "[encoded data removed]",
      "text/plain": [
       "<IPython.core.display.Image object>"
      ]
     },
     "metadata": {},
     "output_type": "display_data"
    },
    {
     "name": "stdout",
     "output_type": "stream",
     "text": [
      " **********\n",
      " **    1 **SET PRINT           2\n",
      " **********\n",
      " **********\n",
      " **    2 **SET NOGRAD\n",
      " **********\n",
      " PARAMETER DEFINITIONS:\n",
      "    NO.   NAME         VALUE      STEP SIZE      LIMITS\n",
      "     1 expPar1      4.50000e+02  1.35000e+02     no limits\n",
      "     2 expPar2      1.45807e+00  4.37421e-01     no limits\n",
      "     3 expPar3      1.00000e-02  3.00000e-03     no limits\n",
      "     4 voigtian_amplitude   3.81110e-06  1.14333e-06     no limits\n",
      "     5 voigtian_mean  -6.47000e+00  1.94100e+00     no limits\n",
      "     6 voigtian_sigma   9.29000e+00  2.78700e+00     no limits\n",
      "     7 voigtian_width  -2.97000e+00  8.91000e-01     no limits\n",
      " **********\n",
      " **    3 **SET ERR           1\n",
      " **********\n",
      " **********\n",
      " **    4 **SET PRINT           2\n",
      " **********\n",
      " **********\n",
      " **    5 **SET STR           1\n",
      " **********\n",
      " NOW USING STRATEGY  1: TRY TO BALANCE SPEED AGAINST RELIABILITY\n",
      " **********\n",
      " **    6 **MIGRAD        1945        0.01\n",
      " **********\n",
      " FIRST CALL TO USER FUNCTION AT NEW START POINT, WITH IFLAG=4.\n",
      " START MIGRAD MINIMIZATION.  STRATEGY  1.  CONVERGENCE WHEN EDM .LT. 1.00e-05\n",
      " FCN=1.79769e+308 FROM MIGRAD    STATUS=INITIATE      343 CALLS         344 TOTAL\n",
      "                     EDM= unknown      STRATEGY= 1      NO ERROR MATRIX       \n",
      "  EXT PARAMETER               CURRENT GUESS       STEP         FIRST   \n",
      "  NO.   NAME      VALUE            ERROR          SIZE      DERIVATIVE \n",
      "   1  expPar1      4.50000e+02   1.35000e+02   0.00000e+00   0.00000e+00\n",
      "   2  expPar2      1.45807e+00   4.37421e-01   0.00000e+00   0.00000e+00\n",
      "   3  expPar3      1.00000e-02   3.00000e-03   0.00000e+00   0.00000e+00\n",
      "   4  voigtian_amplitude   3.81110e-06   1.14333e-06   0.00000e+00   0.00000e+00\n",
      "   5  voigtian_mean  -6.47000e+00   1.94100e+00   0.00000e+00   0.00000e+00\n",
      "   6  voigtian_sigma   9.29000e+00   2.78700e+00   0.00000e+00   0.00000e+00\n",
      "   7  voigtian_width  -2.97000e+00   8.91000e-01   0.00000e+00   0.00000e+00\n",
      "NO ERROR MATRIX       \n",
      " MIGRAD MINIMIZATION HAS CONVERGED.\n",
      " MIGRAD WILL VERIFY CONVERGENCE AND ERROR MATRIX.\n",
      "   START COVARIANCE MATRIX CALCULATION.\n",
      " EIGENVALUES OF SECOND-DERIVATIVE MATRIX:\n",
      "               -nan        -nan        -nan        -nan        -nan        -nan        -nan\n",
      " MINUIT WARNING IN HESSE   \n",
      " ============== MATRIX FORCED POS-DEF BY ADDING -nan TO DIAGONAL.\n",
      " FCN=1.79769e+308 FROM MIGRAD    STATUS=CONVERGED     449 CALLS         450 TOTAL\n",
      "                     EDM=-nan    STRATEGY= 1      ERR MATRIX NOT POS-DEF\n",
      "  EXT PARAMETER                APPROXIMATE        STEP         FIRST   \n",
      "  NO.   NAME      VALUE            ERROR          SIZE      DERIVATIVE \n",
      "   1  expPar1      4.50000e+02           nan   2.27711e+01   0.00000e+00\n",
      "   2  expPar2      1.45807e+00           nan   7.52574e+01  1.18859e+306\n",
      "   3  expPar3      1.00000e-02           nan   5.16144e-01   0.00000e+00\n",
      "   4  voigtian_amplitude   3.81110e-06           nan   1.96708e-04   0.00000e+00\n",
      "   5  voigtian_mean  -6.47000e+00           nan   3.33945e+02   0.00000e+00\n",
      "   6  voigtian_sigma   9.29000e+00           nan   4.79498e+02   0.00000e+00\n",
      "   7  voigtian_width  -2.97000e+00           nan   1.53295e+02   0.00000e+00\n",
      " EXTERNAL ERROR MATRIX.    NDIM=  25    NPAR=  7    ERR DEF=1\n",
      "        nan        nan        nan        nan        nan        nan        nan \n",
      "        nan        nan        nan        nan        nan        nan        nan \n",
      "        nan        nan        nan        nan        nan        nan        nan \n",
      "        nan        nan        nan        nan        nan        nan        nan \n",
      "        nan        nan        nan        nan        nan        nan        nan \n",
      "        nan        nan        nan        nan        nan        nan        nan \n",
      "        nan        nan        nan        nan        nan        nan       -nan \n",
      "ERR MATRIX NOT POS-DEF\n",
      " PARAMETER  CORRELATION COEFFICIENTS  \n",
      "       NO.  GLOBAL      1      2      3      4      5      6      7\n",
      "        1     -nan     nan    nan    nan    nan    nan    nan    nan\n",
      "        2     -nan     nan    nan    nan    nan    nan    nan    nan\n",
      "        3     -nan     nan    nan    nan    nan    nan    nan    nan\n",
      "        4     -nan     nan    nan    nan    nan    nan    nan    nan\n",
      "        5     -nan     nan    nan    nan    nan    nan    nan    nan\n",
      "        6     -nan     nan    nan    nan    nan    nan    nan    nan\n",
      "        7      nan     nan    nan    nan    nan    nan    nan   -nan\n",
      " ERR MATRIX NOT POS-DEF\n",
      " **********\n",
      " **    7 **HESSE        1945\n",
      " **********\n",
      "   START COVARIANCE MATRIX CALCULATION.\n",
      " MINUIT WARNING IN HESSE   \n",
      " ============== Negative diagonal element 1 in Error Matrix\n",
      " MINUIT WARNING IN HESSE   \n",
      " ============== Negative diagonal element 2 in Error Matrix\n",
      " MINUIT WARNING IN HESSE   \n",
      " ============== inf added to diagonal of error matrix\n",
      " EIGENVALUES OF SECOND-DERIVATIVE MATRIX:\n",
      "               -nan        -nan        -nan        -nan        -nan        -nan        -nan\n",
      " MINUIT WARNING IN HESSE   \n",
      " ============== MATRIX FORCED POS-DEF BY ADDING -nan TO DIAGONAL.\n",
      " FCN=1.79769e+308 FROM HESSE     STATUS=NOT POSDEF    106 CALLS         556 TOTAL\n",
      "                     EDM=-nan    STRATEGY= 1      ERR MATRIX NOT POS-DEF\n",
      "  EXT PARAMETER                APPROXIMATE     INTERNAL      INTERNAL  \n",
      "  NO.   NAME      VALUE            ERROR       STEP SIZE       VALUE   \n",
      "   1  expPar1      4.50000e+02           nan   2.36910e+03   4.50000e+02\n",
      "   2  expPar2      1.45807e+00           nan   7.82978e+03   1.45807e+00\n",
      "   3  expPar3      1.00000e-02           nan   5.36996e+01   1.00000e-02\n",
      "   4  voigtian_amplitude   3.81110e-06           nan   2.12923e+04   3.81110e-06\n",
      "   5  voigtian_mean  -6.47000e+00           nan   3.61473e+10  -6.47000e+00\n",
      "   6  voigtian_sigma   9.29000e+00           nan   5.19024e+10   9.29000e+00\n",
      "   7  voigtian_width  -2.97000e+00           nan   1.65931e+10  -2.97000e+00\n",
      " EXTERNAL ERROR MATRIX.    NDIM=  25    NPAR=  7    ERR DEF=1\n",
      "        nan        nan        nan        nan        nan        nan        nan \n",
      "        nan        nan        nan        nan        nan        nan        nan \n",
      "        nan        nan        nan        nan        nan        nan        nan \n",
      "        nan        nan        nan        nan        nan        nan        nan \n",
      "        nan        nan        nan        nan        nan        nan        nan \n",
      "        nan        nan        nan        nan        nan        nan        nan \n",
      "        nan        nan        nan        nan        nan        nan       -nan \n",
      "ERR MATRIX NOT POS-DEF\n",
      " PARAMETER  CORRELATION COEFFICIENTS  \n",
      "       NO.  GLOBAL      1      2      3      4      5      6      7\n",
      "        1     -nan     nan    nan    nan    nan    nan    nan    nan\n",
      "        2     -nan     nan    nan    nan    nan    nan    nan    nan\n",
      "        3     -nan     nan    nan    nan    nan    nan    nan    nan\n",
      "        4     -nan     nan    nan    nan    nan    nan    nan    nan\n",
      "        5     -nan     nan    nan    nan    nan    nan    nan    nan\n",
      "        6     -nan     nan    nan    nan    nan    nan    nan    nan\n",
      "        7      nan     nan    nan    nan    nan    nan    nan   -nan\n",
      " ERR MATRIX NOT POS-DEF\n",
      " EXTERNAL ERROR MATRIX.    NDIM=   7    NPAR=  7    ERR DEF=1\n",
      "        nan        nan        nan        nan        nan        nan        nan \n",
      "        nan        nan        nan        nan        nan        nan        nan \n",
      "        nan        nan        nan        nan        nan        nan        nan \n",
      "        nan        nan        nan        nan        nan        nan        nan \n",
      "        nan        nan        nan        nan        nan        nan        nan \n",
      "        nan        nan        nan        nan        nan        nan        nan \n",
      "        nan        nan        nan        nan        nan        nan       -nan \n",
      " FCN=1.79769e+308 FROM HESSE     STATUS=NOT POSDEF    106 CALLS         556 TOTAL\n",
      "                     EDM=-nan    STRATEGY= 1      ERR MATRIX NOT POS-DEF\n",
      "  EXT PARAMETER                  PARABOLIC         MINOS ERRORS        \n",
      "  NO.   NAME      VALUE            ERROR      NEGATIVE      POSITIVE   \n",
      "   1  expPar1      4.50000e+02           nan                            \n",
      "   2  expPar2      1.45807e+00           nan                            \n",
      "   3  expPar3      1.00000e-02           nan                            \n",
      "   4  voigtian_amplitude   3.81110e-06           nan                            \n",
      "   5  voigtian_mean  -6.47000e+00           nan                            \n",
      "   6  voigtian_sigma   9.29000e+00           nan                            \n",
      "   7  voigtian_width  -2.97000e+00           nan                            \n"
     ]
    },
    {
     "name": "stderr",
     "output_type": "stream",
     "text": [
      "Info in <TMinuitMinimizer::Minimize>: Finished to run MIGRAD - status 0\n",
      "Info in <TMinuitMinimizer::Minimize>: Finished to run HESSE - status 0\n",
      "Info in <TCanvas::Print>: png file ../_plots/_KKpi_FIT_TEST.png has been created\n"
     ]
    }
   ],
   "source": [
    "# Change all my code to lazy execution, i.e. no functions, instead just put histos in a cell, then drawing, etc, in another cell\n",
    "\n",
    "from IPython.display import Image, display\n",
    "\n",
    "def fitting(df):\n",
    "    \n",
    "    ######## APPLY CUTS ########\n",
    "    dfFiltered = df.Filter(keep_kstar_plus).Filter(reject_kstar_zero).Filter(select_kShort).Filter(pathlength_sig).Filter(reject_delta).Filter(reject_lambda)\n",
    "    ############################\n",
    "\n",
    "    canvas = ROOT.TCanvas(\"c\", \"c\", 800, 600)\n",
    "    h1 = dfFiltered.Histo1D(('KKpi_m', 'KKpi', 60, 1.0, 1.8), 'KKpi_m')\n",
    "    h1.SetStats(False)\n",
    "    h1.Fit(voigtian_plus_exp, \"RV\")\n",
    "    h1.Draw()\n",
    "    voigtian_plus_exp.Draw(\"same\")\n",
    "    \n",
    "    img_path = \"../_plots/_KKpi_FIT_TEST.png\"\n",
    "    canvas.SaveAs(img_path)\n",
    "    canvas.Close()\n",
    "\n",
    "    # Display the saved image\n",
    "    display(Image(filename=img_path))\n",
    "\n",
    "fitting(dfKKpi)"
   ]
  }
 ],
 "metadata": {
  "kernelspec": {
   "display_name": "Python 3",
   "language": "python",
   "name": "python3"
  },
  "language_info": {
   "codemirror_mode": {
    "name": "ipython",
    "version": 3
   },
   "file_extension": ".py",
   "mimetype": "text/x-python",
   "name": "python",
   "nbconvert_exporter": "python",
   "pygments_lexer": "ipython3",
   "version": "3.6.8"
  }
 },
 "nbformat": 4,
 "nbformat_minor": 2
}
